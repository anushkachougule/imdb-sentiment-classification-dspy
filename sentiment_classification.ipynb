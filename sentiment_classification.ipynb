{
 "cells": [
  {
   "cell_type": "code",
   "execution_count": 13,
   "metadata": {},
   "outputs": [
    {
     "name": "stdout",
     "output_type": "stream",
     "text": [
      "🔄 .env Loaded: True\n",
      "✅ OpenAI API Key loaded successfully!\n"
     ]
    }
   ],
   "source": [
    "from dotenv import load_dotenv\n",
    "import os\n",
    "\n",
    "# ✅ Load .env file\n",
    "loaded = load_dotenv()\n",
    "\n",
    "# ✅ Check if loading was successful\n",
    "print(\"🔄 .env Loaded:\", loaded)\n",
    "\n",
    "# ✅ Retrieve the API key\n",
    "api_key = os.getenv(\"OPENAI_KEY\")\n",
    "\n",
    "if api_key:\n",
    "    print(\"✅ OpenAI API Key loaded successfully!\")\n",
    "else:\n",
    "    print(\"❌ Error: API Key not found. Check your .env file.\")\n"
   ]
  },
  {
   "cell_type": "code",
   "execution_count": 2,
   "metadata": {},
   "outputs": [
    {
     "name": "stderr",
     "output_type": "stream",
     "text": [
      "/Library/Frameworks/Python.framework/Versions/3.12/lib/python3.12/site-packages/tqdm/auto.py:21: TqdmWarning: IProgress not found. Please update jupyter and ipywidgets. See https://ipywidgets.readthedocs.io/en/stable/user_install.html\n",
      "  from .autonotebook import tqdm as notebook_tqdm\n"
     ]
    }
   ],
   "source": [
    "import dspy\n",
    "from datasets import load_dataset\n",
    "import os\n",
    "from dotenv import load_dotenv"
   ]
  },
  {
   "cell_type": "code",
   "execution_count": 3,
   "metadata": {},
   "outputs": [
    {
     "data": {
      "text/plain": [
       "True"
      ]
     },
     "execution_count": 3,
     "metadata": {},
     "output_type": "execute_result"
    }
   ],
   "source": [
    "load_dotenv()"
   ]
  },
  {
   "cell_type": "code",
   "execution_count": 4,
   "metadata": {},
   "outputs": [],
   "source": [
    "# 1. Dataset Preparation\n",
    "def prepare_imdb_data(split, num_samples=200):\n",
    "    dataset = load_dataset(\"imdb\", split=split)\n",
    "    return [\n",
    "        dspy.Example(\n",
    "            text=example[\"text\"],\n",
    "            sentiment=\"positive\" if example[\"label\"] else \"negative\"\n",
    "        ).with_inputs(\"text\")\n",
    "        for example in dataset.shuffle(seed=42).select(range(num_samples))\n",
    "    ]"
   ]
  },
  {
   "cell_type": "code",
   "execution_count": 5,
   "metadata": {},
   "outputs": [],
   "source": [
    "# 2. Problem Definition\n",
    "class SentimentClassification(dspy.Signature):\n",
    "    \"\"\"Classify movie reviews as positive or negative.\"\"\"\n",
    "    text = dspy.InputField(desc=\"movie review text\")\n",
    "    sentiment = dspy.OutputField(\n",
    "        desc=\"sentiment label (positive or negative)\",\n",
    "        choices=[\"positive\", \"negative\"]\n",
    "    )"
   ]
  },
  {
   "cell_type": "code",
   "execution_count": 6,
   "metadata": {},
   "outputs": [],
   "source": [
    "# 3. Evaluation Metric with Error Handling\n",
    "def sentiment_metric(example, pred, trace=None):\n",
    "    \"\"\"Robust metric with type checking\"\"\"\n",
    "    try:\n",
    "        return int(pred.sentiment.lower() == example.sentiment.lower())\n",
    "    except AttributeError:\n",
    "        return 0"
   ]
  },
  {
   "cell_type": "code",
   "execution_count": 7,
   "metadata": {},
   "outputs": [],
   "source": [
    "# 4. Baseline Model\n",
    "class BaselineClassifier(dspy.Module):\n",
    "    def __init__(self):\n",
    "        super().__init__()\n",
    "        self.predict = dspy.Predict(SentimentClassification)\n",
    "    \n",
    "    def forward(self, text):\n",
    "        return self.predict(text=text)"
   ]
  },
  {
   "cell_type": "code",
   "execution_count": 8,
   "metadata": {},
   "outputs": [],
   "source": [
    "# 5. Optimized Model\n",
    "class OptimizedClassifier(dspy.Module):\n",
    "    def __init__(self):\n",
    "        super().__init__()\n",
    "        self.predict = dspy.ChainOfThought(SentimentClassification)\n",
    "    \n",
    "    def forward(self, text):\n",
    "        return self.predict(text=text)"
   ]
  },
  {
   "cell_type": "code",
   "execution_count": 9,
   "metadata": {},
   "outputs": [],
   "source": [
    "train_data = prepare_imdb_data(\"train\", 150)\n",
    "test_data = prepare_imdb_data(\"test\", 50)\n"
   ]
  },
  {
   "cell_type": "code",
   "execution_count": 10,
   "metadata": {},
   "outputs": [],
   "source": [
    "api_key = os.getenv(\"OPENAI_KEY\")\n",
    "gpt = dspy.LM(\"openai/gpt-3.5-turbo\", max_tokens=256, api_key=api_key)\n",
    "dspy.configure(lm=gpt)"
   ]
  },
  {
   "cell_type": "code",
   "execution_count": 11,
   "metadata": {},
   "outputs": [
    {
     "name": "stderr",
     "output_type": "stream",
     "text": [
      "2025/03/11 11:24:24 INFO dspy.evaluate.evaluate: Average Metric: 49 / 50 (98.0%)\n"
     ]
    }
   ],
   "source": [
    "baseline = BaselineClassifier()\n",
    "evaluator = dspy.evaluate.Evaluate(\n",
    "    devset=test_data,\n",
    "    metric=sentiment_metric,\n",
    "    num_threads=2\n",
    ")\n",
    "baseline_acc = evaluator(baseline)"
   ]
  },
  {
   "cell_type": "code",
   "execution_count": 12,
   "metadata": {},
   "outputs": [
    {
     "name": "stderr",
     "output_type": "stream",
     "text": [
      "2025/03/11 11:25:03 INFO dspy.teleprompt.mipro_optimizer_v2: \n",
      "==> STEP 1: BOOTSTRAP FEWSHOT EXAMPLES <==\n",
      "2025/03/11 11:25:03 INFO dspy.teleprompt.mipro_optimizer_v2: These will be used as few-shot example candidates for our program and for creating instructions.\n",
      "\n",
      "2025/03/11 11:25:03 INFO dspy.teleprompt.mipro_optimizer_v2: Bootstrapping N=10 sets of demonstrations...\n"
     ]
    },
    {
     "name": "stdout",
     "output_type": "stream",
     "text": [
      "Bootstrapping set 1/10\n",
      "Bootstrapping set 2/10\n",
      "Bootstrapping set 3/10\n"
     ]
    },
    {
     "name": "stderr",
     "output_type": "stream",
     "text": [
      " 10%|█         | 2/20 [00:02<00:19,  1.08s/it]\n"
     ]
    },
    {
     "name": "stdout",
     "output_type": "stream",
     "text": [
      "Bootstrapped 2 full traces after 2 examples for up to 1 rounds, amounting to 2 attempts.\n",
      "Bootstrapping set 4/10\n"
     ]
    },
    {
     "name": "stderr",
     "output_type": "stream",
     "text": [
      " 10%|█         | 2/20 [00:01<00:15,  1.19it/s]\n"
     ]
    },
    {
     "name": "stdout",
     "output_type": "stream",
     "text": [
      "Bootstrapped 2 full traces after 2 examples for up to 1 rounds, amounting to 2 attempts.\n",
      "Bootstrapping set 5/10\n"
     ]
    },
    {
     "name": "stderr",
     "output_type": "stream",
     "text": [
      " 10%|█         | 2/20 [00:01<00:16,  1.08it/s]\n"
     ]
    },
    {
     "name": "stdout",
     "output_type": "stream",
     "text": [
      "Bootstrapped 2 full traces after 2 examples for up to 1 rounds, amounting to 2 attempts.\n",
      "Bootstrapping set 6/10\n"
     ]
    },
    {
     "name": "stderr",
     "output_type": "stream",
     "text": [
      "  5%|▌         | 1/20 [00:01<00:21,  1.13s/it]\n"
     ]
    },
    {
     "name": "stdout",
     "output_type": "stream",
     "text": [
      "Bootstrapped 1 full traces after 1 examples for up to 1 rounds, amounting to 1 attempts.\n",
      "Bootstrapping set 7/10\n"
     ]
    },
    {
     "name": "stderr",
     "output_type": "stream",
     "text": [
      "  5%|▌         | 1/20 [00:01<00:19,  1.04s/it]\n"
     ]
    },
    {
     "name": "stdout",
     "output_type": "stream",
     "text": [
      "Bootstrapped 1 full traces after 1 examples for up to 1 rounds, amounting to 1 attempts.\n",
      "Bootstrapping set 8/10\n"
     ]
    },
    {
     "name": "stderr",
     "output_type": "stream",
     "text": [
      " 10%|█         | 2/20 [00:02<00:18,  1.02s/it]\n"
     ]
    },
    {
     "name": "stdout",
     "output_type": "stream",
     "text": [
      "Bootstrapped 2 full traces after 2 examples for up to 1 rounds, amounting to 2 attempts.\n",
      "Bootstrapping set 9/10\n"
     ]
    },
    {
     "name": "stderr",
     "output_type": "stream",
     "text": [
      " 10%|█         | 2/20 [00:01<00:16,  1.10it/s]\n"
     ]
    },
    {
     "name": "stdout",
     "output_type": "stream",
     "text": [
      "Bootstrapped 2 full traces after 2 examples for up to 1 rounds, amounting to 2 attempts.\n",
      "Bootstrapping set 10/10\n"
     ]
    },
    {
     "name": "stderr",
     "output_type": "stream",
     "text": [
      " 10%|█         | 2/20 [00:01<00:14,  1.22it/s]\n",
      "2025/03/11 11:25:17 INFO dspy.teleprompt.mipro_optimizer_v2: \n",
      "==> STEP 2: PROPOSE INSTRUCTION CANDIDATES <==\n",
      "2025/03/11 11:25:17 INFO dspy.teleprompt.mipro_optimizer_v2: We will use the few-shot examples from the previous step, a generated dataset summary, a summary of the program code, and a randomly selected prompting tip to propose instructions.\n"
     ]
    },
    {
     "name": "stdout",
     "output_type": "stream",
     "text": [
      "Bootstrapped 2 full traces after 2 examples for up to 1 rounds, amounting to 2 attempts.\n"
     ]
    },
    {
     "name": "stderr",
     "output_type": "stream",
     "text": [
      "2025/03/11 11:25:21 INFO dspy.teleprompt.mipro_optimizer_v2: \n",
      "Proposing instructions...\n",
      "\n",
      "2025/03/11 11:25:52 INFO dspy.teleprompt.mipro_optimizer_v2: Proposed Instructions for Predictor 0:\n",
      "\n",
      "2025/03/11 11:25:52 INFO dspy.teleprompt.mipro_optimizer_v2: 0: Classify movie reviews as positive or negative.\n",
      "\n",
      "2025/03/11 11:25:52 INFO dspy.teleprompt.mipro_optimizer_v2: 1: Analyze the sentiment of movie reviews and provide reasoning for the sentiment classification.\n",
      "\n",
      "2025/03/11 11:25:52 INFO dspy.teleprompt.mipro_optimizer_v2: 2: Given a movie review text, predict the sentiment as either positive or negative and provide reasoning for the classification.\n",
      "\n",
      "2025/03/11 11:25:52 INFO dspy.teleprompt.mipro_optimizer_v2: 3: Analyze the sentiment of movie reviews and provide reasoning for the sentiment prediction.\n",
      "\n",
      "2025/03/11 11:25:52 INFO dspy.teleprompt.mipro_optimizer_v2: 4: Analyze the movie review text and determine whether the sentiment expressed is positive or negative, providing reasoning for the sentiment classification.\n",
      "\n",
      "2025/03/11 11:25:52 INFO dspy.teleprompt.mipro_optimizer_v2: 5: Given a movie review text, determine whether the sentiment is positive or negative to ensure the success of a movie recommendation platform.\n",
      "\n",
      "2025/03/11 11:25:52 INFO dspy.teleprompt.mipro_optimizer_v2: 6: Given a movie review text, analyze the content and sentiment to determine whether the review is positive or negative. Additionally, provide a step-by-step reasoning process to explain the sentiment classification.\n",
      "\n",
      "2025/03/11 11:25:52 INFO dspy.teleprompt.mipro_optimizer_v2: 7: Analyze the sentiment of movie reviews and provide reasoning for the classification.\n",
      "\n",
      "2025/03/11 11:25:52 INFO dspy.teleprompt.mipro_optimizer_v2: 8: Analyze the text of a movie review and predict if the sentiment is positive or negative.\n",
      "\n",
      "2025/03/11 11:25:52 INFO dspy.teleprompt.mipro_optimizer_v2: 9: Evaluate the sentiment of movie reviews as either positive or negative.\n",
      "\n",
      "2025/03/11 11:25:52 INFO dspy.teleprompt.mipro_optimizer_v2: \n",
      "\n",
      "2025/03/11 11:25:52 INFO dspy.teleprompt.mipro_optimizer_v2: ==> STEP 3: FINDING OPTIMAL PROMPT PARAMETERS <==\n",
      "2025/03/11 11:25:52 INFO dspy.teleprompt.mipro_optimizer_v2: We will evaluate the program over a series of trials with different combinations of instructions and few-shot examples to find the optimal combination using Bayesian Optimization.\n",
      "\n",
      "2025/03/11 11:25:52 INFO dspy.teleprompt.mipro_optimizer_v2: == Trial 1 / 34 - Full Evaluation of Default Program ==\n"
     ]
    },
    {
     "name": "stdout",
     "output_type": "stream",
     "text": [
      "Average Metric: 75.00 / 80 (93.8%): 100%|██████████| 80/80 [00:25<00:00,  3.19it/s]"
     ]
    },
    {
     "name": "stderr",
     "output_type": "stream",
     "text": [
      "2025/03/11 11:26:17 INFO dspy.evaluate.evaluate: Average Metric: 75 / 80 (93.8%)\n",
      "2025/03/11 11:26:17 INFO dspy.teleprompt.mipro_optimizer_v2: Default program score: 93.75\n",
      "\n",
      "/Library/Frameworks/Python.framework/Versions/3.12/lib/python3.12/site-packages/optuna/_experimental.py:31: ExperimentalWarning: Argument ``multivariate`` is an experimental feature. The interface can change in the future.\n",
      "  warnings.warn(\n",
      "2025/03/11 11:26:17 INFO dspy.teleprompt.mipro_optimizer_v2: == Trial 2 / 34 - Minibatch ==\n"
     ]
    },
    {
     "name": "stdout",
     "output_type": "stream",
     "text": [
      "\n",
      "Average Metric: 23.00 / 25 (92.0%): 100%|██████████| 25/25 [00:04<00:00,  5.87it/s]"
     ]
    },
    {
     "name": "stderr",
     "output_type": "stream",
     "text": [
      "2025/03/11 11:26:22 INFO dspy.evaluate.evaluate: Average Metric: 23 / 25 (92.0%)\n",
      "2025/03/11 11:26:22 INFO dspy.teleprompt.mipro_optimizer_v2: Score: 92.0 on minibatch of size 25 with parameters ['Predictor 0: Instruction 1', 'Predictor 0: Few-Shot Set 2'].\n",
      "2025/03/11 11:26:22 INFO dspy.teleprompt.mipro_optimizer_v2: Minibatch scores so far: [92.0]\n",
      "2025/03/11 11:26:22 INFO dspy.teleprompt.mipro_optimizer_v2: Full eval scores so far: [93.75]\n",
      "2025/03/11 11:26:22 INFO dspy.teleprompt.mipro_optimizer_v2: Best full score so far: 93.75\n",
      "2025/03/11 11:26:22 INFO dspy.teleprompt.mipro_optimizer_v2: =========================================\n",
      "\n",
      "\n",
      "2025/03/11 11:26:22 INFO dspy.teleprompt.mipro_optimizer_v2: == Trial 3 / 34 - Minibatch ==\n"
     ]
    },
    {
     "name": "stdout",
     "output_type": "stream",
     "text": [
      "\n",
      "Average Metric: 11.00 / 11 (100.0%):  44%|████▍     | 11/25 [00:03<00:04,  3.34it/s]"
     ]
    },
    {
     "name": "stderr",
     "output_type": "stream",
     "text": [
      "2025/03/11 11:26:27 ERROR dspy.utils.parallelizer: Error processing item Example({'text': 'A film without conscience. Drifter agrees to kill a man for a mobster for money. Then they double cross him. Meanwhile he falls in love with the dead man\\'s wife, and, without her knowing he\\'s the killer, moves in with her. Then he \"accidentally\" kills her when she finds out. Then, in a WALKING TALL kind of heroism, he gets revenge on the mobsters who double crossed him. The first problem is that, by agreeing to take on the murder by hire assignment, the drifter loses all sense of sympathy, worthiness, and heroism. We can\\'t accept any goodness in him and as a result the rest of the has no moral center. We just can\\'t care about that kind of guy. And the wife (nicely played by the fetching Kari Wuhrer - the sheriff in EIGHT LEGGED FREAKS), a high class lady who runs a mission for homeless people, similarly loses a degree of sympathy by jumping right into bed with the homeless drifter (despite her evidently weakened state after the death of her husband). And, when she finds out he\\'s the guy \\x96 what does she do? She locks him inside her house (as if ALL houses had locks you can\\'t open from INSIDE) with her and proceeds to berate him. Stoo-pid. George Wendt, however, is terrific in a role as a beefy thug. Director Stuart Gordon did so much better with RE-ANIMATOR and DAGON.', 'sentiment': 'negative'}) (input_keys={'text'}): litellm.RateLimitError: RateLimitError: OpenAIException - Error code: 429 - {'error': {'message': 'Rate limit reached for gpt-3.5-turbo in organization org-nS9hIqZFvGLn1kCX8ZWaZkba on tokens per min (TPM): Limit 200000, Used 194526, Requested 6165. Please try again in 207ms. Visit https://platform.openai.com/account/rate-limits to learn more.', 'type': 'tokens', 'param': None, 'code': 'rate_limit_exceeded'}}. Set `provide_traceback=True` to see the stack trace.\n"
     ]
    },
    {
     "name": "stdout",
     "output_type": "stream",
     "text": [
      "Average Metric: 11.00 / 11 (100.0%):  48%|████▊     | 12/25 [00:04<00:08,  1.58it/s]"
     ]
    },
    {
     "name": "stderr",
     "output_type": "stream",
     "text": [
      "2025/03/11 11:26:27 ERROR dspy.utils.parallelizer: Error processing item Example({'text': 'I discovered this film after reading the book that inspired it. It is not a strictly biographical film; it is \"loosely based\" on the facts. But I found it a compelling and eerie exploration of evil and madness, and Michel Serrault gives an unforgettable performance as Dr. Petiot.<br /><br />There are many memorable images in this movie; Petiot traveling through the night like a vampire, his black cloak flapping behind him, is almost iconic. There are also several touches of expressionism - Petiot\\'s crooked silhouette mounting the stairs leading from the cellar where the butchered remains of his victims await cremation, reminds me of some scenes from \\'Nosferatu\\'.<br /><br />But I found the primary appeal of this movie to be aural. The soundtrack is loaded with ominous sounds, starting with the foreboding music of the opening credits, accompanied by wordless wailing. Petiot lives and runs his medical practice in a complex with many small shops, and there is a persistent background noise of knives being sharpened somewhere, as well as a peddler playing eerie tunes on a saw. There are animal noises as well - the concierge keeps a goat, unseen cats howl - and later in the film we see hapless cattle being herded through an underpass. The whole atmosphere is unsettling, with overtones of violence and slaughter.<br /><br />Not only animals, but human voices are often heard - the screams of Gestapo victims, Petiot\\'s patients in his waiting room, monitored by a listening device, just the same as the suspected collaborators after the war are monitored in their cells. Even the action of the film is often arranged so that we hear the voices of the participants without seeing them - when Petiot goes to see Mme Kern, we hear her singing as she works, her voice echoing in the theater, before we ever see her. And even when she does appear, she is often filmed from behind, her voice calling out to her husband, whose voice calls out to her in conversation. Disembodied voices echo in large halls, and their owners, when seen at all, are photographed at a distance, so we cannot actually see them speaking. This is a ghost story, and these are the voices of ghosts - many of them Petiot\\'s future victims.<br /><br />Yet Petiot himself is often only a voice; his frightening laughter echoes as he retreats from the camera, throwing comments behind him or into the air to nobody. In a way, he is as much a ghost as those he murders. He is always frantically busy, scurrying from appointment to appointment, never at rest. But his activity is that of a machine - lifeless and imperturbable. It is interesting that among all the horror and danger of occupied Paris, Petiot alone is unafraid; he is amused, enthusiastic, angry, irritated, contemptuous, but never afraid, unlike those real people he lures to their deaths. It is no surprise that he boasts of his mechanical inventions, including a perpetual motion machine (a true detail from the book - he did claim to have invented many machines); he is a sort of perpetual motion machine himself. And mechanical imagery is everywhere in the film, from the opening giant wheel in the movie house, to Petiot\\'s bicycle (with its squeaking wheels echoing the sound of sharpening knives), to the Victrola he keeps winding up to play music before he makes a kill. Even his routine with his victims is mechanical - write a note to your wife, let me disguise you before you leave, you need a vaccination, Barcelona, Casablanca, Dakar - like a well-oiled machine, the routine is always the same, just as the record is always the same.<br /><br />Maeder, the author, says that it was the clockwork perfection of his crimes that weighed so heavily against Petiot at his trial. His system was as smooth and efficient as a Nazi concentration camp, and this may be why the movie invents a subplot of Petiot\\'s involvement with the French Gestapo and the occupying Nazis. Unfortunately, it doesn\\'t quite work as part of the story, because it\\'s very hard to figure out just what Petiot is doing for the collaborators, or what is going on when he ends up at their headquarters in the middle of the night. Disposing of bodies? Hiding stolen goods? It\\'s hard to say, and harder to believe; it\\'s not likely the state would turn to a freelancer like Petiot.<br /><br />But it does remind us of the duality of evil people; Petiot is a robber and a murderer, but he is also a devoted father and husband. Just as we learned that Hitler loved dogs, and that Nazis guilty of the worst war crimes could also be loving fathers and family men, so we have to recognize that Petiot could commit unspeakable horrors and yet also function normally. His insanity is easily camouflaged by the insanity and horror of the wartime situation in Paris; when killing, robbing and disappearing are happening all around, nobody pays attention as Petiot tosses more corpses on the pile.', 'sentiment': 'positive'}) (input_keys={'text'}): litellm.RateLimitError: RateLimitError: OpenAIException - Error code: 429 - {'error': {'message': 'Rate limit reached for gpt-3.5-turbo in organization org-nS9hIqZFvGLn1kCX8ZWaZkba on tokens per min (TPM): Limit 200000, Used 194514, Requested 7069. Please try again in 474ms. Visit https://platform.openai.com/account/rate-limits to learn more.', 'type': 'tokens', 'param': None, 'code': 'rate_limit_exceeded'}}. Set `provide_traceback=True` to see the stack trace.\n"
     ]
    },
    {
     "name": "stdout",
     "output_type": "stream",
     "text": [
      "Average Metric: 11.00 / 11 (100.0%):  48%|████▊     | 12/25 [00:04<00:08,  1.58it/s]"
     ]
    },
    {
     "name": "stderr",
     "output_type": "stream",
     "text": [
      "2025/03/11 11:26:27 ERROR dspy.utils.parallelizer: Error processing item Example({'text': 'I have seen \"Miracles Still Happen\" now at least four times. I never tire of this fantastic movie. From the very beginning, it holds a person\\'s interest. As the movie progresses and the plane crashes the story becomes very intense as we watch this young girl trying to survive alone and frightened in the Amazon, following a plane crash in which she was the only survivor. Losing her mother in this plane crash as well makes this movie even more dramatic as we see the perils this young girl had to endure during her ten days in the Amazon. To think this really did happen is just unreal and to think that anyone could actualy survive this is unspeakable as we see the wild animals, snakes and other reptiles, the enormous forests and wildlife as well as countless insects. As the movie progresses we see the many dangers this girl has to face as she tries to follow the river in hopes of it leading her to a town. Remembering what her father told her about how a stream will always lead to a river and then into an even larger river and this means it will eventually lead to a community, this young girl keep track of the tiny stream which eventually lead into a huge river all throughout the movie. At times having to swim in dangerous waters, alone, frightened, injured, she always managed to keep going. Towards the end of this movie it was obvious she would not have been able to continue much longer as she had not eaten in ten days and only had water to drink and was very sick and tired from her perils. Eventually as she sees a canoe, she realizes there has to be a village and men find her and they take care of her and then take her to a hospital where her father comes to see her, after fearing she was dead along with the many other passengers. Such a dramatic movie and so heartwarming to see her father\\'s face when he sees his daughter is actually still alive after all this time in the Amazon! Movies like this aren\\'t made much those days. I will still see it again and I know I will never tire of it! To think this girl was the only one single survivor of this airplane is just unspeakable! Also the fact she only maintained a few very slight injuries was even more remarkable, whereas everyone else on this airplane perished in the horrific crash into the wilds of the Amazon. A brilliant movie, superbly acted out indeed and one I will treasure forever and love to continue watching! Strongly recommended by me for sure!', 'sentiment': 'positive'}) (input_keys={'text'}): litellm.RateLimitError: RateLimitError: OpenAIException - Error code: 429 - {'error': {'message': 'Rate limit reached for gpt-3.5-turbo in organization org-nS9hIqZFvGLn1kCX8ZWaZkba on tokens per min (TPM): Limit 200000, Used 193916, Requested 6453. Please try again in 110ms. Visit https://platform.openai.com/account/rate-limits to learn more.', 'type': 'tokens', 'param': None, 'code': 'rate_limit_exceeded'}}. Set `provide_traceback=True` to see the stack trace.\n"
     ]
    },
    {
     "name": "stdout",
     "output_type": "stream",
     "text": [
      "Average Metric: 11.00 / 11 (100.0%):  56%|█████▌    | 14/25 [00:05<00:04,  2.32it/s]"
     ]
    },
    {
     "name": "stderr",
     "output_type": "stream",
     "text": [
      "2025/03/11 11:26:28 ERROR dspy.utils.parallelizer: Error processing item Example({'text': 'This is a review of The Wizard, not to be confused with The Wiz, or Mr. Wizard. The Wizard is a late-eighties film about a seriously silent boy\\'s ability to play video games and walk during the entire opening credits. The Wiz is an unnecessary update of The Wizard of Oz, and Mr. Wizard is that guy that attached 100 straws together and had some kid drink tang out of it.<br /><br />Now that we\\'ve gotten all that out of the way, let me say this: there\\'s really no reason to see this movie. It\\'s simply a 100 minute Nintendo commercial designed to capitalize on the Powerglove, the Legend of Zelda and Super Mario Brothers 3. I use the word \"designed\" in the loosest sense possible, because it seems like this movie was written over a weekend by a crack team of people who had never played Nintendo, and directed by a man with less sense of style than my grandmother. Maybe if the writer and director sat down and actually played some games together, they\\'d realize that they were about to film total rubbish and instead go to vocational school to learn how to install car stereos.<br /><br />I hope that this has been an enlightening experience for you. It sure hasn\\'t been for me. In fact, I think I might have lost a few braincells in the act of watching this movie and writing about it. Next time you\\'re at the video store and you see the The Wiz, The Wizard and The Wizard of Oz all sitting there on the shelf in a pretty little row, give them all a miss and play Duck Hunt instead.', 'sentiment': 'negative'}) (input_keys={'text'}): litellm.RateLimitError: RateLimitError: OpenAIException - Error code: 429 - {'error': {'message': 'Rate limit reached for gpt-3.5-turbo in organization org-nS9hIqZFvGLn1kCX8ZWaZkba on tokens per min (TPM): Limit 200000, Used 197298, Requested 6215. Please try again in 1.053s. Visit https://platform.openai.com/account/rate-limits to learn more.', 'type': 'tokens', 'param': None, 'code': 'rate_limit_exceeded'}}. Set `provide_traceback=True` to see the stack trace.\n"
     ]
    },
    {
     "name": "stdout",
     "output_type": "stream",
     "text": [
      "Average Metric: 12.00 / 12 (100.0%):  64%|██████▍   | 16/25 [00:06<00:03,  2.33it/s]"
     ]
    },
    {
     "name": "stderr",
     "output_type": "stream",
     "text": [
      "2025/03/11 11:26:28 ERROR dspy.utils.parallelizer: Error processing item Example({'text': 'This obscure de Sica delivers the goods. And it is said \"the meek shall inherit the earth.\" This tale of classes on the surface but really an allegory for all the homeless people that populated Europe after the great war. They are homeless but cheerful, in a societies too impoverished and selfish to care for or acknowledge them, footmats for the Italian carpetbaggers. de Sica chooses to tell it as a fairy tale, a Cinderella story. I have not read the book it is based on so I cannot foresay if the deus ex machina is the construct of the writer or Vittorio. It begins with the words, \"Once upon a time...\" to exemplify the timelessness of its tale, for the story could be set anywhere and everywhere. Caricature sketches of the aristocracy that cut to the bone, whimsical nature of the homeless especially when they begin to grant their wishes and an ending right out of a Spielberg picture makes this boulange a delight for all. De Sica\\'s most accessible picture is also one of his best. Abandoning neo-realism, he always dallied between that and pure good old film-making, he creates a movie that breaks the heart and at the same time fills it with the yearning of hope that one needs to continue leaving in this world. Gracias Vittorio! Gracias! Gracias!!! Gracias!!!!!!!!!!!!', 'sentiment': 'positive'}) (input_keys={'text'}): litellm.RateLimitError: RateLimitError: OpenAIException - Error code: 429 - {'error': {'message': 'Rate limit reached for gpt-3.5-turbo in organization org-nS9hIqZFvGLn1kCX8ZWaZkba on tokens per min (TPM): Limit 200000, Used 195534, Requested 6164. Please try again in 509ms. Visit https://platform.openai.com/account/rate-limits to learn more.', 'type': 'tokens', 'param': None, 'code': 'rate_limit_exceeded'}}. Set `provide_traceback=True` to see the stack trace.\n"
     ]
    },
    {
     "name": "stdout",
     "output_type": "stream",
     "text": [
      "Average Metric: 12.00 / 12 (100.0%):  68%|██████▊   | 17/25 [00:06<00:03,  2.63it/s]"
     ]
    },
    {
     "name": "stderr",
     "output_type": "stream",
     "text": [
      "2025/03/11 11:26:30 ERROR dspy.utils.parallelizer: Error processing item Example({'text': \"Man, I really find it hard to believe that the wonderful Alan Ball had anything to do with this mess. Having seen the first two episodes thus far, I think I can safely say this show isn't going to be on my must see list. It's just got so many things working against it.<br /><br />None of the actors cast are particularly good. Anna Paquin as the lead character Sookie, is just awful. I remember her being better in a lot of other things I've seen her in so maybe it's just the writing. She's not really much fun to look at either, there are moments where to be honest she looks downright ugly. The actor who plays Bill is marginally better, if only because his character is supposed to be sort of wooden and aloof. The other actors do their best but with the cliché characters with difficult to perform accents they are given it's a tough job. Tara is an absolute misery to watch, Rutina Wesley absolutely murders the accent. It's like nails on a chalkboard bad. Almost as awful is Nelsan Ellis, it's difficult to understand what he's even saying sometimes. Both his character as well as Tara's also seem a bit racist to me. I don't know, having a character say 'whycome' on an HBO show that isn't The Wire just seems a bit odd. Rounding out the cast so far are Sookie's doddering grandmother, her sex addict brother, and the only bit of genius casting I've seen in William Sanderson as the sheriff.<br /><br />The story seems to be meandering towards it's destination at this point, with no real worry about keeping the viewer interested. The romance stuff is very Dark Shadow-sy. Although this show ups the camp factor from something like those old Dark Shadows episodes times about ten. At times it seemed so campy to me, that I just have to assume it was intended to be. But unlike a show such as Buffy, that pulled camp off masterfully, this show does not. Out of place with the campiness is the extreme gore and graphic sex of the show. I'm not averse to either of these when they are done well, as they have in many other HBO shows but here at least they prolonged rough sex scenes involving Jason Stackhouse seem a bit over the top and pointless.<br /><br />About the only nice thing I can really think to say about this mess is that I liked the opening title sequence. HBO has had a string of bad luck with their shows lately, I hope they cancel this after the first season and try to get something better on the air.\", 'sentiment': 'negative'}) (input_keys={'text'}): litellm.RateLimitError: RateLimitError: OpenAIException - Error code: 429 - {'error': {'message': 'Rate limit reached for gpt-3.5-turbo in organization org-nS9hIqZFvGLn1kCX8ZWaZkba on tokens per min (TPM): Limit 200000, Used 195185, Requested 6450. Please try again in 490ms. Visit https://platform.openai.com/account/rate-limits to learn more.', 'type': 'tokens', 'param': None, 'code': 'rate_limit_exceeded'}}. Set `provide_traceback=True` to see the stack trace.\n"
     ]
    },
    {
     "name": "stdout",
     "output_type": "stream",
     "text": [
      "Average Metric: 12.00 / 12 (100.0%):  72%|███████▏  | 18/25 [00:08<00:05,  1.30it/s]"
     ]
    },
    {
     "name": "stderr",
     "output_type": "stream",
     "text": [
      "2025/03/11 11:26:30 ERROR dspy.utils.parallelizer: Error processing item Example({'text': 'Who me? No, I\\'m not kidding. That\\'s what it really says on the video case.<br /><br />Plot; short version: Pretty woman stands around smiling. This, for some reason, makes all men kill each other.<br /><br />\"Find Ariel...Where\\'s Ariel...Can\\'t Find Ariel...\" She\\'s right behind you, you idiot...<br /><br />Most of what can be said about this horrendous little Space Opera has already been said, looks like.<br /><br />A bunch of corny actors playing mostly convicts come in after the first selection of actors is knocked off very quickly. Then they get knocked off in the same way. Every scene is broadcast nearly fifteen minutes in advance. Perhaps it was a drawing of straws to see which actors had the most screen time and bigger pay check. The alien virus/hologram/VR witch/glitch seems physically powerless and doesn\\'t do a thing. Why can\\'t she just stay in the computer instead of doing her \"teleporting vampire\" routine? (Actually, it would\\'ve been more interesting if she had been a vampire, or doing more than just standing around looking at people, which is all she ever does. This is enough to make all the men kill each other. Go figure...)<br /><br />This isn\\'t really a space flick. There are far more shots of the old western trail, 1950\\'s Easy Rider trail, Film noir\\'s night club scene, even a jog on the beach in fantasy-land, none of which has any real depth or even makes any sense. The night club scene is in black and white, of course. Worked with \"The Wizard of Oz\". Doesn\\'t work so well, here. This is probably a good thing, as those few shots they DO show of space are depressingly silly. You will probably cry during those moments, especially upon seeing that swirling \"space ship\", which looks about three inches long.<br /><br />Nothing is felt for any of the characters, not because they are convicts or have no personality, but because they are in serious need of acting lessons, except for Billy Dee Williams who really does look depressed and at a loss, probably by being in this work...<br /><br />This is one of those movies that, when viewed with friends, is going to cause some extremely \"loud\" silences, especially when the nerd throws out his attempt at comic one-liners (including the line about French-kissing a meteor...? Did I hear that right? Perhaps not...)<br /><br />The original virtual reality girls get \"killed\", which means nothing, as they are not even real to begin with. Well, the other \"characters\" aren\\'t, either, but that\\'s beside the point. Haha.<br /><br />What\\'s kind of funny is that the scene that graces the video case is some sort of skull-horror-alien looking thing (green filter added on top of that, to give it more of a...uh...green look), which is actually the android after he gets killed and ultimately has nothing to do with anything else afoot.<br /><br />Another odd deal I noticed. Whenever there is an explosion (at least on my cheap DVD copy), everything becomes highly pixelated. I don\\'t mean a LITTLE pixelated, I mean HUGE blocks about 1/16th the size of the screen. Wow.', 'sentiment': 'negative'}) (input_keys={'text'}): litellm.RateLimitError: RateLimitError: OpenAIException - Error code: 429 - {'error': {'message': 'Rate limit reached for gpt-3.5-turbo in organization org-nS9hIqZFvGLn1kCX8ZWaZkba on tokens per min (TPM): Limit 200000, Used 195044, Requested 6606. Please try again in 495ms. Visit https://platform.openai.com/account/rate-limits to learn more.', 'type': 'tokens', 'param': None, 'code': 'rate_limit_exceeded'}}. Set `provide_traceback=True` to see the stack trace.\n"
     ]
    },
    {
     "name": "stdout",
     "output_type": "stream",
     "text": [
      "Average Metric: 12.00 / 12 (100.0%):  72%|███████▏  | 18/25 [00:08<00:05,  1.30it/s]"
     ]
    },
    {
     "name": "stderr",
     "output_type": "stream",
     "text": [
      "2025/03/11 11:26:30 ERROR dspy.utils.parallelizer: Error processing item Example({'text': \"In my opinion, this is a pretty good celebrity skit show. I enjoyed seeing Greg Kinnear as the host. There are many reasons why I said that. Even though Hal Sparks was an okay host, I sometimes wish that Greg Kinnear hadn't left. If you ask me, it seems that nobody stays with a TV show throughout its entire run anymore. Still, I enjoyed seeing the various hosts and other people spoofing celebrities. If you ask me, that was pretty darn funny. Before I wrap this up, I must say that I kind of miss this show. Now, in conclusion, I highly recommend this show to all you die-hard sketch show fans. You will really enjoy it.\", 'sentiment': 'positive'}) (input_keys={'text'}): litellm.RateLimitError: RateLimitError: OpenAIException - Error code: 429 - {'error': {'message': 'Rate limit reached for gpt-3.5-turbo in organization org-nS9hIqZFvGLn1kCX8ZWaZkba on tokens per min (TPM): Limit 200000, Used 199583, Requested 5999. Please try again in 1.674s. Visit https://platform.openai.com/account/rate-limits to learn more.', 'type': 'tokens', 'param': None, 'code': 'rate_limit_exceeded'}}. Set `provide_traceback=True` to see the stack trace.\n"
     ]
    },
    {
     "name": "stdout",
     "output_type": "stream",
     "text": [
      "Average Metric: 12.00 / 12 (100.0%):  80%|████████  | 20/25 [00:08<00:02,  1.87it/s]"
     ]
    },
    {
     "name": "stderr",
     "output_type": "stream",
     "text": [
      "2025/03/11 11:26:31 ERROR dspy.utils.parallelizer: Error processing item Example({'text': 'Often laugh out loud funny play on sex, family, and the classes in Beverly Hills milks more laughs out of the zip code than it\\'s seen since the days of Granny and Jed Clampett. Plot centers on two chauffers who\\'ve bet on which one of them can bed his employer (both single or soon to be single ladies, quite sexy -- Bisset and Woronov) first. If Manuel wins, his friend will pay off his debt to a violent asian street gang -- if he loses, he must play bottom man to his friend! <br /><br />Lots of raunchy dialogue, fairly sick physical humour, etc. But a lot of the comedy is just beneath the surface. Bartel is memorable as a very sensual oder member of the family who ends up taking his sexy, teenaged niece on a year long \"missionary trip\" to Africa.<br /><br />Hilarious fun.', 'sentiment': 'positive'}) (input_keys={'text'}): litellm.RateLimitError: RateLimitError: OpenAIException - Error code: 429 - {'error': {'message': 'Rate limit reached for gpt-3.5-turbo in organization org-nS9hIqZFvGLn1kCX8ZWaZkba on tokens per min (TPM): Limit 200000, Used 198130, Requested 6038. Please try again in 1.25s. Visit https://platform.openai.com/account/rate-limits to learn more.', 'type': 'tokens', 'param': None, 'code': 'rate_limit_exceeded'}}. Set `provide_traceback=True` to see the stack trace.\n"
     ]
    },
    {
     "name": "stdout",
     "output_type": "stream",
     "text": [
      "Average Metric: 12.00 / 12 (100.0%):  84%|████████▍ | 21/25 [00:09<00:02,  1.97it/s]"
     ]
    },
    {
     "name": "stderr",
     "output_type": "stream",
     "text": [
      "2025/03/11 11:26:33 INFO dspy.teleprompt.mipro_optimizer_v2: Score: 0.0 on minibatch of size 25 with parameters ['Predictor 0: Instruction 6', 'Predictor 0: Few-Shot Set 2'].\n",
      "2025/03/11 11:26:33 INFO dspy.teleprompt.mipro_optimizer_v2: Minibatch scores so far: [92.0, 0.0]\n",
      "2025/03/11 11:26:33 INFO dspy.teleprompt.mipro_optimizer_v2: Full eval scores so far: [93.75]\n",
      "2025/03/11 11:26:33 INFO dspy.teleprompt.mipro_optimizer_v2: Best full score so far: 93.75\n",
      "2025/03/11 11:26:33 INFO dspy.teleprompt.mipro_optimizer_v2: =========================================\n",
      "\n",
      "\n",
      "2025/03/11 11:26:33 INFO dspy.teleprompt.mipro_optimizer_v2: == Trial 4 / 34 - Minibatch ==\n"
     ]
    },
    {
     "name": "stdout",
     "output_type": "stream",
     "text": [
      "Exception occurred: litellm.RateLimitError: RateLimitError: OpenAIException - Error code: 429 - {'error': {'message': 'Rate limit reached for gpt-3.5-turbo in organization org-nS9hIqZFvGLn1kCX8ZWaZkba on tokens per min (TPM): Limit 200000, Used 197155, Requested 6189. Please try again in 1.003s. Visit https://platform.openai.com/account/rate-limits to learn more.', 'type': 'tokens', 'param': None, 'code': 'rate_limit_exceeded'}}\n",
      "Average Metric: 1.00 / 1 (100.0%):   4%|▍         | 1/25 [00:01<00:31,  1.32s/it]"
     ]
    },
    {
     "name": "stderr",
     "output_type": "stream",
     "text": [
      "2025/03/11 11:26:36 ERROR dspy.utils.parallelizer: Error processing item Example({'text': \"Nay Sayers of this film are likely bitter from some seriously unrequited love. This is a great film for anyone capable of understanding Johnny Mathis's song, or any song from that era: Bobby Darin's, Beyond the Sea... or Stan Getz's, The Girl From Ipanema, et al...<br /><br />I measure films by how many times I have to watch them before I'm satisfied... Chances Are had me back a few good times.<br /><br />I also watch the synergy between the cast... I thought they worked well together.<br /><br />Open your heart, and let the comedic magic of film transport you.<br /><br />'Alan\", 'sentiment': 'positive'}) (input_keys={'text'}): litellm.RateLimitError: RateLimitError: OpenAIException - Error code: 429 - {'error': {'message': 'Rate limit reached for gpt-3.5-turbo in organization org-nS9hIqZFvGLn1kCX8ZWaZkba on tokens per min (TPM): Limit 200000, Used 196478, Requested 5467. Please try again in 583ms. Visit https://platform.openai.com/account/rate-limits to learn more.', 'type': 'tokens', 'param': None, 'code': 'rate_limit_exceeded'}}. Set `provide_traceback=True` to see the stack trace.\n"
     ]
    },
    {
     "name": "stdout",
     "output_type": "stream",
     "text": [
      "Average Metric: 1.00 / 1 (100.0%):   8%|▊         | 2/25 [00:03<00:37,  1.63s/it]"
     ]
    },
    {
     "name": "stderr",
     "output_type": "stream",
     "text": [
      "2025/03/11 11:26:37 ERROR dspy.utils.parallelizer: Error processing item Example({'text': 'Most war films made in the US during WWII were great fun to watch but suffered from severe gaps in realism because they were being produced more for propaganda value to raise the spirits at home than anything else. I am not knocking these films as many of them are still very watchable. However, because they so often lack realism they are prevented from being truly great films. A perfect example was the John Garfield film Air Force--in which a B-17 nearly single-handedly takes out half the Japanese air force! However, Pride Of The Marines is a welcome departure--scoring high marks for portraying a true story in a reasonably accurate manner. When I first saw this film, I thought it was NOT a true story as it seemed way too improbable to be true. However, after researching further I found that it was in fact rather true to the amazing story of two men who did so much to earn the Medal of Honor. This is one case where real life seemed too incredible to be true!', 'sentiment': 'positive'}) (input_keys={'text'}): litellm.RateLimitError: RateLimitError: OpenAIException - Error code: 429 - {'error': {'message': 'Rate limit reached for gpt-3.5-turbo in organization org-nS9hIqZFvGLn1kCX8ZWaZkba on tokens per min (TPM): Limit 200000, Used 195750, Requested 5564. Please try again in 394ms. Visit https://platform.openai.com/account/rate-limits to learn more.', 'type': 'tokens', 'param': None, 'code': 'rate_limit_exceeded'}}. Set `provide_traceback=True` to see the stack trace.\n"
     ]
    },
    {
     "name": "stdout",
     "output_type": "stream",
     "text": [
      "Average Metric: 1.00 / 1 (100.0%):   8%|▊         | 2/25 [00:03<00:37,  1.63s/it]"
     ]
    },
    {
     "name": "stderr",
     "output_type": "stream",
     "text": [
      "2025/03/11 11:26:37 ERROR dspy.utils.parallelizer: Error processing item Example({'text': 'My abiding love of Italian actress Lucianna Paluzzi, who helped jump-start my puberty with her performance in 1965\\'s \"Thunderball,\" has led me to some fairly unusual places. Case in point, this British curiosity from 1959, \"Carlton-Browne of the F.O.,\" which features Lucianna in one of her earlier roles. She plays a princess in this one, although the picture is actually a showcase for the talents of Terry-Thomas and Peter Sellers, both of whose stars were certainly on the rise at this point. In this cute, often very funny film, we learn of the Madeira-like island nation of Gaillardia, which had been a British colony until 1916 and then universally forgotten. Forty-three years later, however, it becomes the center of worldwide attention and international espionage when valuable cobalt deposits are discovered there, and Her Majesty sends the bumbling Carlton-Browne of the Foreign Office to take charge. Terry-Thomas underplays this part nicely, as does Sellers in his role as Prime Minister Amphibulos of the tiny country. (This was Sellers\\' second film of 1959 concerning a tiny country matching wits with the world, the other being \"The Mouse That Roared,\" of course.) Ian Bannen almost steals the show here as Gaillardia\\'s suave king, and my girl Lucianna is as appealing as can be in her minor role. The film exhibits much in the way of very dry humor, although there ARE some belly laughs to be had (the reception at the Gaillardian airport, for example, and especially that May Day-style parade of Gaillardian strength). And Sellers\\' seedy prime minister, with his cracked English and seemingly perpetual sweat stains, is yet another memorable character in this great actor\\'s pantheon. Despite the occasional instance or two of indecipherable, stiff-upper-lip British gibberish, I found this picture to be a winningly modest entertainment, and well presented on this crisp-looking Anchor Bay DVD.', 'sentiment': 'positive'}) (input_keys={'text'}): litellm.RateLimitError: RateLimitError: OpenAIException - Error code: 429 - {'error': {'message': 'Rate limit reached for gpt-3.5-turbo in organization org-nS9hIqZFvGLn1kCX8ZWaZkba on tokens per min (TPM): Limit 200000, Used 195740, Requested 5799. Please try again in 461ms. Visit https://platform.openai.com/account/rate-limits to learn more.', 'type': 'tokens', 'param': None, 'code': 'rate_limit_exceeded'}}. Set `provide_traceback=True` to see the stack trace.\n"
     ]
    },
    {
     "name": "stdout",
     "output_type": "stream",
     "text": [
      "Average Metric: 1.00 / 1 (100.0%):  12%|█▏        | 3/25 [00:03<00:21,  1.01it/s]"
     ]
    },
    {
     "name": "stderr",
     "output_type": "stream",
     "text": [
      "2025/03/11 11:26:37 ERROR dspy.utils.parallelizer: Error processing item Example({'text': 'It sounds as if it should be a biography of Claude Monet but it\\'s actually a highly focused story of relationships between three adolescent girls on a French synchronized swimming team. There are no parents or teachers to speak of, no school, and boys are represented by one peripheral figure, the hunky Francois who enters the story determined from time to time and always leaves confused.<br /><br />Pauline Aquart is the youngest of the three, only aspiring to join the team she so much admires. She\\'s kind of odd looking. She\\'s not yet out of her adolescent growth spurt and has long, bony limbs, big feet, and no derriere to speak of. She\\'s prognathous and sports these plump pursed lips. After a while her appearance grows on you and from certain angles she can come to appear enthralling.<br /><br />Adele Haenel is older -- more, well, more developed physically. What a glamorous figure she cuts in her swim suit, sauntering around, teasing the boys, swishing her long blond hair. But she\\'s not what she seems. Or is she? I couldn\\'t quite figure it out. The French are long on paradoxes and short on consistency. No wonder Francois is always sniffing after her.<br /><br />There\\'s not so much ambiguity in Louse Blachere\\'s character. She\\'s on the team too but she\\'s dumpy and plain, and sensitive about it, and has an intense crush on Francois. Blachere is a good actress and adds to the ungainliness of the character through her performance.<br /><br />The movie deals with the relationships between these three, meaning intrigues, deceptions, hidden feelings, and all the rest of what we associate with young girls who spend much time with one another. This is of course a tricky topic. It becomes trickier during the gradual development of a homoerotic relationship between Pauline and Adele. Not that you should expect this to be a soft porn movie. The only nudity we see is considerably less than a turn on, and what little sex there is under the covers, sometimes literally.<br /><br />I don\\'t think I want to get into the plot or into its analysis too much, partly because it\\'s suggestive rather than expressed through action, partly because it\\'s complex, and partly because I\\'m not sure I got it all.<br /><br />Let me give an example. Okay. Adele is the girl the others envy. She\\'s also quite distant and self satisfied. On top of that she is apparently schtupping every boy and man in sight if they can be of any use to her at all, from the handsome but dumb Francois to the bus driver she wants a favor from. She brags unashamedly about her expertise in fellatio. When Pauline approaches her about joining the swim team, Adele uses her as a lookout during assignations with the guys. A superior and self-indulgent narcissist, you know? But then the soi-disant slut takes the skinny Pauline under her wing and reveals to Pauline that she\\'s still a virgin. Really? Yes, really. Pauline begins to draw closer to Adele and Adele finally confesses that she\\'d like to rid herself of her hymen and she would like Pauline to do it for her. Pauline, now drawn sexually to Adele, performs the task with subdued relish. NOW Adele would REALLY like to get it on with a man, preferably older and experienced. So she takes Pauline to a boite where she dances seductively with some guy until she follows Pauline to the powder room. The two girls stand there staring at one another, neither having overtly expressed a sexually tinged interest in the other. But Adele stands so close that Pauline slowly loosens her own reins, reaches up, and kisses Adele on the lips. Adele steps back, smiling, and says, \"There now, that wasn\\'t so bad, was it?\", and then walks back into the club.<br /><br />That\\'s a pretty close description of whatever is going on between Pauline and Adele -- but what the hell IS going on? Initially, Adele treats Pauline like an irrelevant child, later like a close friend, finally like a potential lover -- and the minute Pauline responds, Adele walks off satisfied. Is she USING Pauline the way she seems to be using men? Does it satisfy Adele to know that she now has another person in involuntary servitude? I don\\'t know.<br /><br />I\\'ve slighted Louise Blachere as the third member of the trio, the plain and overripe wallflower whose expression always suggests dumbfoundedness but who at least is thoroughly heterosexual and the first of the three to rid herself of that noisome virginity, but I\\'ve only skipped her for considerations of space.<br /><br />Should you see it? By all means. (Just compare it to the typical American movie about high school kids.) For men, some of whom have never penetrated the female mystique, this may give you some idea of what it looks like in medium shot.', 'sentiment': 'positive'}) (input_keys={'text'}): litellm.RateLimitError: RateLimitError: OpenAIException - Error code: 429 - {'error': {'message': 'Rate limit reached for gpt-3.5-turbo in organization org-nS9hIqZFvGLn1kCX8ZWaZkba on tokens per min (TPM): Limit 200000, Used 195371, Requested 6501. Please try again in 561ms. Visit https://platform.openai.com/account/rate-limits to learn more.', 'type': 'tokens', 'param': None, 'code': 'rate_limit_exceeded'}}. Set `provide_traceback=True` to see the stack trace.\n"
     ]
    },
    {
     "name": "stdout",
     "output_type": "stream",
     "text": [
      "Average Metric: 1.00 / 1 (100.0%):  20%|██        | 5/25 [00:03<00:09,  2.16it/s]"
     ]
    },
    {
     "name": "stderr",
     "output_type": "stream",
     "text": [
      "2025/03/11 11:26:37 ERROR dspy.utils.parallelizer: Error processing item Example({'text': 'This Film was really eye-opening. I have seen this film several times. First, when I was four and I actually remembered it and then when I was 12. The whole message that the director is conveying is for everyone to wake up and not make the mistake of leaving God out of our everyday lives or just Plain going the extra mile to insult him.<br /><br />A great Movie for Non-believers and Believers alike!', 'sentiment': 'positive'}) (input_keys={'text'}): litellm.RateLimitError: RateLimitError: OpenAIException - Error code: 429 - {'error': {'message': 'Rate limit reached for gpt-3.5-turbo in organization org-nS9hIqZFvGLn1kCX8ZWaZkba on tokens per min (TPM): Limit 200000, Used 194591, Requested 5421. Please try again in 3ms. Visit https://platform.openai.com/account/rate-limits to learn more.', 'type': 'tokens', 'param': None, 'code': 'rate_limit_exceeded'}}. Set `provide_traceback=True` to see the stack trace.\n"
     ]
    },
    {
     "name": "stdout",
     "output_type": "stream",
     "text": [
      "Average Metric: 1.00 / 1 (100.0%):  24%|██▍       | 6/25 [00:03<00:07,  2.47it/s]"
     ]
    },
    {
     "name": "stderr",
     "output_type": "stream",
     "text": [
      "2025/03/11 11:26:38 ERROR dspy.utils.parallelizer: Error processing item Example({'text': 'Although it has been remade several times, this movie is a classic if you are seeing it for the first time. Creative dialog, unique genius in the final scene, it deserves more credit than critics have given it. Highly recommended, one of the best comedies of recent years', 'sentiment': 'positive'}) (input_keys={'text'}): litellm.RateLimitError: RateLimitError: OpenAIException - Error code: 429 - {'error': {'message': 'Rate limit reached for gpt-3.5-turbo in organization org-nS9hIqZFvGLn1kCX8ZWaZkba on tokens per min (TPM): Limit 200000, Used 195973, Requested 5389. Please try again in 408ms. Visit https://platform.openai.com/account/rate-limits to learn more.', 'type': 'tokens', 'param': None, 'code': 'rate_limit_exceeded'}}. Set `provide_traceback=True` to see the stack trace.\n"
     ]
    },
    {
     "name": "stdout",
     "output_type": "stream",
     "text": [
      "Average Metric: 1.00 / 1 (100.0%):  28%|██▊       | 7/25 [00:04<00:11,  1.58it/s]"
     ]
    },
    {
     "name": "stderr",
     "output_type": "stream",
     "text": [
      "2025/03/11 11:26:40 ERROR dspy.utils.parallelizer: Error processing item Example({'text': \"Quite possibly. How Francis Veber, one of the best comedy directors in the world (at least when sticking to his native France), managed to turn in a film so completely unwatchable is beyond the reason of mere mortal man to discern. It's not just that the characters are so unlikeable or that the film is so utterly devoid of even the lowest form of wit: it's genuinely physically painful to watch, such an endless parade of inept writing, acting and film-making that you cannot believe this is the work of experienced - and talented - filmmakers. For once the near-eternity spent in the cutting room and on the shelf before its blink-and-you'll-miss-it theatrical release tells the whole story. What were they thinking?\", 'sentiment': 'negative'}) (input_keys={'text'}): litellm.RateLimitError: RateLimitError: OpenAIException - Error code: 429 - {'error': {'message': 'Rate limit reached for gpt-3.5-turbo in organization org-nS9hIqZFvGLn1kCX8ZWaZkba on tokens per min (TPM): Limit 200000, Used 196033, Requested 5501. Please try again in 460ms. Visit https://platform.openai.com/account/rate-limits to learn more.', 'type': 'tokens', 'param': None, 'code': 'rate_limit_exceeded'}}. Set `provide_traceback=True` to see the stack trace.\n"
     ]
    },
    {
     "name": "stdout",
     "output_type": "stream",
     "text": [
      "Average Metric: 1.00 / 1 (100.0%):  32%|███▏      | 8/25 [00:06<00:15,  1.09it/s]"
     ]
    },
    {
     "name": "stderr",
     "output_type": "stream",
     "text": [
      "2025/03/11 11:26:40 ERROR dspy.utils.parallelizer: Error processing item Example({'text': 'Gus Van Sant has made some excellent films. I truly am a fan.<br /><br />However, I can\\'t help but feel that the cerebral edge of Tom Robbins book \"Even Cowgirls Get the Blues\" is lost in translation to the big screen. Alone, Tom Robbins and Gus Van Sant are incredible visionaries and towers of talent. Ultimately though this one just didn\\'t work. <br /><br />It wasn\\'t that the characters weren\\'t well developed or the plot and content didn\\'t come alive. It\\'s just that our imaginations are much more powerful when reading a book like this. We\\'re taken away to a different time and place and we sometimes think the worst and/or the best and it adds to the overall roller-coaster of the book as it neatly unfolds according to the author\\'s precision. Movies however can leave one with less of the imagination and emotion roller-coaster detracting from the overall experience. This is what I believe happened here.<br /><br />I suggest reading the book!', 'sentiment': 'positive'}) (input_keys={'text'}): litellm.RateLimitError: RateLimitError: OpenAIException - Error code: 429 - {'error': {'message': 'Rate limit reached for gpt-3.5-turbo in organization org-nS9hIqZFvGLn1kCX8ZWaZkba on requests per min (RPM): Limit 500, Used 500, Requested 1. Please try again in 120ms. Visit https://platform.openai.com/account/rate-limits to learn more.', 'type': 'requests', 'param': None, 'code': 'rate_limit_exceeded'}}. Set `provide_traceback=True` to see the stack trace.\n"
     ]
    },
    {
     "name": "stdout",
     "output_type": "stream",
     "text": [
      "Average Metric: 1.00 / 1 (100.0%):  36%|███▌      | 9/25 [00:06<00:11,  1.45it/s]"
     ]
    },
    {
     "name": "stderr",
     "output_type": "stream",
     "text": [
      "2025/03/11 11:26:40 ERROR dspy.utils.parallelizer: Error processing item Example({'text': \"Man, I really find it hard to believe that the wonderful Alan Ball had anything to do with this mess. Having seen the first two episodes thus far, I think I can safely say this show isn't going to be on my must see list. It's just got so many things working against it.<br /><br />None of the actors cast are particularly good. Anna Paquin as the lead character Sookie, is just awful. I remember her being better in a lot of other things I've seen her in so maybe it's just the writing. She's not really much fun to look at either, there are moments where to be honest she looks downright ugly. The actor who plays Bill is marginally better, if only because his character is supposed to be sort of wooden and aloof. The other actors do their best but with the cliché characters with difficult to perform accents they are given it's a tough job. Tara is an absolute misery to watch, Rutina Wesley absolutely murders the accent. It's like nails on a chalkboard bad. Almost as awful is Nelsan Ellis, it's difficult to understand what he's even saying sometimes. Both his character as well as Tara's also seem a bit racist to me. I don't know, having a character say 'whycome' on an HBO show that isn't The Wire just seems a bit odd. Rounding out the cast so far are Sookie's doddering grandmother, her sex addict brother, and the only bit of genius casting I've seen in William Sanderson as the sheriff.<br /><br />The story seems to be meandering towards it's destination at this point, with no real worry about keeping the viewer interested. The romance stuff is very Dark Shadow-sy. Although this show ups the camp factor from something like those old Dark Shadows episodes times about ten. At times it seemed so campy to me, that I just have to assume it was intended to be. But unlike a show such as Buffy, that pulled camp off masterfully, this show does not. Out of place with the campiness is the extreme gore and graphic sex of the show. I'm not averse to either of these when they are done well, as they have in many other HBO shows but here at least they prolonged rough sex scenes involving Jason Stackhouse seem a bit over the top and pointless.<br /><br />About the only nice thing I can really think to say about this mess is that I liked the opening title sequence. HBO has had a string of bad luck with their shows lately, I hope they cancel this after the first season and try to get something better on the air.\", 'sentiment': 'negative'}) (input_keys={'text'}): litellm.RateLimitError: RateLimitError: OpenAIException - Error code: 429 - {'error': {'message': 'Rate limit reached for gpt-3.5-turbo in organization org-nS9hIqZFvGLn1kCX8ZWaZkba on tokens per min (TPM): Limit 200000, Used 195090, Requested 5928. Please try again in 305ms. Visit https://platform.openai.com/account/rate-limits to learn more.', 'type': 'tokens', 'param': None, 'code': 'rate_limit_exceeded'}}. Set `provide_traceback=True` to see the stack trace.\n"
     ]
    },
    {
     "name": "stdout",
     "output_type": "stream",
     "text": [
      "Average Metric: 1.00 / 1 (100.0%):  40%|████      | 10/25 [00:06<00:08,  1.87it/s]"
     ]
    },
    {
     "name": "stderr",
     "output_type": "stream",
     "text": [
      "2025/03/11 11:26:43 INFO dspy.teleprompt.mipro_optimizer_v2: Score: 0.0 on minibatch of size 25 with parameters ['Predictor 0: Instruction 8', 'Predictor 0: Few-Shot Set 6'].\n",
      "2025/03/11 11:26:43 INFO dspy.teleprompt.mipro_optimizer_v2: Minibatch scores so far: [92.0, 0.0, 0.0]\n",
      "2025/03/11 11:26:43 INFO dspy.teleprompt.mipro_optimizer_v2: Full eval scores so far: [93.75]\n",
      "2025/03/11 11:26:43 INFO dspy.teleprompt.mipro_optimizer_v2: Best full score so far: 93.75\n",
      "2025/03/11 11:26:43 INFO dspy.teleprompt.mipro_optimizer_v2: =========================================\n",
      "\n",
      "\n",
      "2025/03/11 11:26:43 INFO dspy.teleprompt.mipro_optimizer_v2: == Trial 5 / 34 - Minibatch ==\n"
     ]
    },
    {
     "name": "stdout",
     "output_type": "stream",
     "text": [
      "Exception occurred: litellm.RateLimitError: RateLimitError: OpenAIException - Error code: 429 - {'error': {'message': 'Rate limit reached for gpt-3.5-turbo in organization org-nS9hIqZFvGLn1kCX8ZWaZkba on tokens per min (TPM): Limit 200000, Used 194722, Requested 5742. Please try again in 139ms. Visit https://platform.openai.com/account/rate-limits to learn more.', 'type': 'tokens', 'param': None, 'code': 'rate_limit_exceeded'}}\n",
      "  0%|          | 0/25 [00:00<?, ?it/s]"
     ]
    },
    {
     "name": "stderr",
     "output_type": "stream",
     "text": [
      "2025/03/11 11:26:45 ERROR dspy.utils.parallelizer: Error processing item Example({'text': \"I love this movie, Jouvet, Arletty, Blier, Carné... almost everything has already been said about the movie, but there is one detail I'd like to shed some light onto: no footage of the real, still standing, Hôtel du Nord (is it still? I heard it was to be demolished...) has been used for the movie - the whole scene has been rebuilt on set, the main reason being that they could not stop the traffic on the St Martin canal for several weeks.\", 'sentiment': 'positive'}) (input_keys={'text'}): litellm.RateLimitError: RateLimitError: OpenAIException - Error code: 429 - {'error': {'message': 'Rate limit reached for gpt-3.5-turbo in organization org-nS9hIqZFvGLn1kCX8ZWaZkba on tokens per min (TPM): Limit 200000, Used 195492, Requested 6146. Please try again in 491ms. Visit https://platform.openai.com/account/rate-limits to learn more.', 'type': 'tokens', 'param': None, 'code': 'rate_limit_exceeded'}}. Set `provide_traceback=True` to see the stack trace.\n"
     ]
    },
    {
     "name": "stdout",
     "output_type": "stream",
     "text": [
      "Average Metric: 0.00 / 0 (0%):   4%|▍         | 1/25 [00:02<00:55,  2.31s/it]"
     ]
    },
    {
     "name": "stderr",
     "output_type": "stream",
     "text": [
      "2025/03/11 11:26:46 ERROR dspy.utils.parallelizer: Error processing item Example({'text': \"Wes Craven, you are having a laugh... at our expense. The Red Eye plot is preposterous... We are confronted by a guy who has apparently spent 8 weeks watching a girl, who then turns up at an airport behind her, flirts and chats her up successfully, somehow wangles a seat next to her in a two seat space, not trapped in the middle of a five seat row (contacts at check-in?) and is cheezily nice during a painfully slooooow build up. Then, once up in the air, in a confined space, surrounded by strangers, he immediately starts threatening the vacuous, if super-efficient, Rachel McAdams and saying tosh like 'we got ya daddy, do what I say, or poppa gets it'. Well, forgive me, but didn't they already have her daddy ready for slaughter-so-you-better-oughta long before she stepped on the plane and therefore wouldn't it have been oh, sooooooo much simpler to simply snatch the gal off the street and terrorise her in a room somewhere, forgetting the complicated and insecure dad plot, pulling her nails out or whatever until she made the all important 'call' required? Or even - cos this is the movies and we need a few unreal twists - keep the dumb dad-in-distress thing intact if you must, but dress it up better so that holding him in harms way until the convoluted plot had been concluded made some sense, without the plane dumbdown? Alternatively, without wanting to sound like an actual thinking terrorist/assassin - couldn't the massive bazooka-missile thang employed have been far more easily used on, say, a car driving down the highway, with the politician inside, rather than the 50th story of a Miami seafront hotel, from a fishing boat (mind you, as we already know, security in Miami is lax, so they'll speed away)? I know, I know, far more fun to go through watching a pretty girl for 8 weeks, burgle her dads house to steal his wallet (that somehow - star trek style - gets transported from Miami to Texas instantly) in order to - perhaps - get her to arrange for a politician to change hotel room and, and, and... Well, a thousand things could go wrong here, each one entirely destroying the Big Plan, so why not slim the elements down to a sensible handful, such as - 1. bazooka. 2. car. 3. boom! My 50 minute drive home from the cinema was spent highlighting the abundance of flaws and stupid cod-Hitchcockian twists, which sadly was the best fun of the whole sorry experience. And as for security back at Miami Airport... we have an apparently crazy and violent girl running off a plane, chased by cops, who during the chase sits down to have a coffee, moves elsewhere to read a magazine at a bar, then runs again like crazy up and down the whole terminal... by now also chased by crazed Cillian Murphy (no CCTV then? - I had guns pulled on me for parking in the wrong place for 10 seconds at Miami Airport a couple of years back). So instead of speaking to the cops - her allies - or getting on the blower at a call-box direct to her dad to warn him his life is in danger, McAdams prefers instead to steal a People Carrier off a family in the Airport forecourt (call the damned security...) and drives home to daddy, mowing down the assassin with the vehicle in the front garden of the house, in a rich neighbourhood-watch district, crushing the front porch in the process - an act which actually slightly wakes dad up from an afternoon snooze, after about a minute, yet which somehow fails to register with neighbours who aren't even mildly curious, thus ensuring 15 more minutes of hide and seek shenanigans as the duo run around the vast Hollodeck type house... Dohhh, it actually hurts to keep thinking about it all - Cillian (surely renamed Silly 'un for doing this one?) preposterously turns from ice assassin to comically unhinged (and inept) lunatic killer at the end, this theoretically ruthless despatcher of human life now allowing the dad to live so that he can watch his daughter getting her goose cooked. I'd better stop, because the stream of drivel I'm writing here must sound as uncoordinated as the Red Eye script. If Ms McAdams hadn't been allowed to get on the plane in the first place the title could have been altered, from 'Red Eye' to 'No Eye, Dear'. RR\", 'sentiment': 'negative'}) (input_keys={'text'}): litellm.RateLimitError: RateLimitError: OpenAIException - Error code: 429 - {'error': {'message': 'Rate limit reached for gpt-3.5-turbo in organization org-nS9hIqZFvGLn1kCX8ZWaZkba on tokens per min (TPM): Limit 200000, Used 198842, Requested 7085. Please try again in 1.778s. Visit https://platform.openai.com/account/rate-limits to learn more.', 'type': 'tokens', 'param': None, 'code': 'rate_limit_exceeded'}}. Set `provide_traceback=True` to see the stack trace.\n"
     ]
    },
    {
     "name": "stdout",
     "output_type": "stream",
     "text": [
      "Average Metric: 0.00 / 0 (0%):   8%|▊         | 2/25 [00:03<00:34,  1.48s/it]"
     ]
    },
    {
     "name": "stderr",
     "output_type": "stream",
     "text": [
      "2025/03/11 11:26:46 ERROR dspy.utils.parallelizer: Error processing item Example({'text': 'I discovered this film after reading the book that inspired it. It is not a strictly biographical film; it is \"loosely based\" on the facts. But I found it a compelling and eerie exploration of evil and madness, and Michel Serrault gives an unforgettable performance as Dr. Petiot.<br /><br />There are many memorable images in this movie; Petiot traveling through the night like a vampire, his black cloak flapping behind him, is almost iconic. There are also several touches of expressionism - Petiot\\'s crooked silhouette mounting the stairs leading from the cellar where the butchered remains of his victims await cremation, reminds me of some scenes from \\'Nosferatu\\'.<br /><br />But I found the primary appeal of this movie to be aural. The soundtrack is loaded with ominous sounds, starting with the foreboding music of the opening credits, accompanied by wordless wailing. Petiot lives and runs his medical practice in a complex with many small shops, and there is a persistent background noise of knives being sharpened somewhere, as well as a peddler playing eerie tunes on a saw. There are animal noises as well - the concierge keeps a goat, unseen cats howl - and later in the film we see hapless cattle being herded through an underpass. The whole atmosphere is unsettling, with overtones of violence and slaughter.<br /><br />Not only animals, but human voices are often heard - the screams of Gestapo victims, Petiot\\'s patients in his waiting room, monitored by a listening device, just the same as the suspected collaborators after the war are monitored in their cells. Even the action of the film is often arranged so that we hear the voices of the participants without seeing them - when Petiot goes to see Mme Kern, we hear her singing as she works, her voice echoing in the theater, before we ever see her. And even when she does appear, she is often filmed from behind, her voice calling out to her husband, whose voice calls out to her in conversation. Disembodied voices echo in large halls, and their owners, when seen at all, are photographed at a distance, so we cannot actually see them speaking. This is a ghost story, and these are the voices of ghosts - many of them Petiot\\'s future victims.<br /><br />Yet Petiot himself is often only a voice; his frightening laughter echoes as he retreats from the camera, throwing comments behind him or into the air to nobody. In a way, he is as much a ghost as those he murders. He is always frantically busy, scurrying from appointment to appointment, never at rest. But his activity is that of a machine - lifeless and imperturbable. It is interesting that among all the horror and danger of occupied Paris, Petiot alone is unafraid; he is amused, enthusiastic, angry, irritated, contemptuous, but never afraid, unlike those real people he lures to their deaths. It is no surprise that he boasts of his mechanical inventions, including a perpetual motion machine (a true detail from the book - he did claim to have invented many machines); he is a sort of perpetual motion machine himself. And mechanical imagery is everywhere in the film, from the opening giant wheel in the movie house, to Petiot\\'s bicycle (with its squeaking wheels echoing the sound of sharpening knives), to the Victrola he keeps winding up to play music before he makes a kill. Even his routine with his victims is mechanical - write a note to your wife, let me disguise you before you leave, you need a vaccination, Barcelona, Casablanca, Dakar - like a well-oiled machine, the routine is always the same, just as the record is always the same.<br /><br />Maeder, the author, says that it was the clockwork perfection of his crimes that weighed so heavily against Petiot at his trial. His system was as smooth and efficient as a Nazi concentration camp, and this may be why the movie invents a subplot of Petiot\\'s involvement with the French Gestapo and the occupying Nazis. Unfortunately, it doesn\\'t quite work as part of the story, because it\\'s very hard to figure out just what Petiot is doing for the collaborators, or what is going on when he ends up at their headquarters in the middle of the night. Disposing of bodies? Hiding stolen goods? It\\'s hard to say, and harder to believe; it\\'s not likely the state would turn to a freelancer like Petiot.<br /><br />But it does remind us of the duality of evil people; Petiot is a robber and a murderer, but he is also a devoted father and husband. Just as we learned that Hitler loved dogs, and that Nazis guilty of the worst war crimes could also be loving fathers and family men, so we have to recognize that Petiot could commit unspeakable horrors and yet also function normally. His insanity is easily camouflaged by the insanity and horror of the wartime situation in Paris; when killing, robbing and disappearing are happening all around, nobody pays attention as Petiot tosses more corpses on the pile.', 'sentiment': 'positive'}) (input_keys={'text'}): litellm.RateLimitError: RateLimitError: OpenAIException - Error code: 429 - {'error': {'message': 'Rate limit reached for gpt-3.5-turbo in organization org-nS9hIqZFvGLn1kCX8ZWaZkba on tokens per min (TPM): Limit 200000, Used 198619, Requested 7261. Please try again in 1.764s. Visit https://platform.openai.com/account/rate-limits to learn more.', 'type': 'tokens', 'param': None, 'code': 'rate_limit_exceeded'}}. Set `provide_traceback=True` to see the stack trace.\n"
     ]
    },
    {
     "name": "stdout",
     "output_type": "stream",
     "text": [
      "Average Metric: 0.00 / 0 (0%):   8%|▊         | 2/25 [00:03<00:34,  1.48s/it]"
     ]
    },
    {
     "name": "stderr",
     "output_type": "stream",
     "text": [
      "2025/03/11 11:26:46 ERROR dspy.utils.parallelizer: Error processing item Example({'text': \"CRY FREEDOM is an excellent primer for those wanting an overview of apartheid's cruelty in just a couple of hours. Famed director Richard Attenborough (GANDHI) is certainly no stranger to the genre, and the collaboration of the real-life Mr. and Mrs. Woods, the main white characters in their book and in this film, lends further authenticity to CRY FREEDOM. The video now in release actually runs a little over 2 and a half hours since 23 minutes of extra footage was inserted to make it a two part TV miniseries after the film's initial theatrical release. While the added length serves to heighten the film's forgivable flaws: uneven character development and blanket stereotyping in particular, another possible flaw (the insistence on the white characters' fate over that of the African ones) may work out as a strength. Viewing CRYING FREEDOM as a politically and historically educational film (as I think it should, over its artistic merits), the story is one which black Africans know only too well, though the younger generation may now need to see it on film for full impact. It is the whites who have always been the film's and the book's target audience, hopefully driving them to change. Now twelve years after the movie's production, CRY FREEDOM is in many ways a more interesting film to watch. Almost ten years after black majority rule has been at least theorically in place, 1987's CRY FREEDOM's ideals remain by and large unrealized. It therefore remains as imperative as ever for white South Africans, particularly the younger ones who have only heard of these actions to see it, and absorb the film's messages. In total contrast to American slavery and the Jewish Holocaust's exposure, South Africans' struggles have been told by a mere two or three stories: CRY FREEDOM, CRY THE BELOVED COUNTRY (OK, Count it twice if you include the remake), and SARAFINA (did I miss one?). All three dramas also clumsily feature American and British actors in both the white and black roles. Not one South African actor has played a major role, white, coloured, Indian or Black!). And yes I did miss another international South African drama, MANDELA and DEKLERK. Though this (also highly recommended) biopic was released after black majority rule was instituted, MANDELA was played by a Black American (Sidney Poitier, who also starred in the original S.A.-themed CRY THE BELOVED COUNTRY), while the Afrikaner DeKlerk was played by a (bald) very British Michael Caine, a good performance if you can dismiss that the very essence of Afrikanerdom is vehement anti-British feelings. Until local SABC TV and African films start dealing with their own legacy, CRY FREEDOM is about as authentic as you'll get. As villified as the whites (particularly the Afrikaners) are portrayed in the film, any observant (non-casual) visitor to South Africa even now in 1999, not to mention 1977 when CRY FREEDOM takes place, will generally find white's attitudes towards blacks restrained, even understated. Looking at CRY FREEDOM in hindsight, it is amazing that reconciliation can take place at all, and it is. But CRY FREEDOM at time shows not much has really changed in many people's minds yet, and that the Black Africans' goal to FREEDOM and reconciliation is still ongoing. This is why if you're a novice to the situation, CRY FREEDOM, is your best introduction.\", 'sentiment': 'positive'}) (input_keys={'text'}): litellm.RateLimitError: RateLimitError: OpenAIException - Error code: 429 - {'error': {'message': 'Rate limit reached for gpt-3.5-turbo in organization org-nS9hIqZFvGLn1kCX8ZWaZkba on requests per min (RPM): Limit 500, Used 500, Requested 1. Please try again in 120ms. Visit https://platform.openai.com/account/rate-limits to learn more.', 'type': 'requests', 'param': None, 'code': 'rate_limit_exceeded'}}. Set `provide_traceback=True` to see the stack trace.\n"
     ]
    },
    {
     "name": "stdout",
     "output_type": "stream",
     "text": [
      "Average Metric: 0.00 / 0 (0%):  16%|█▌        | 4/25 [00:03<00:12,  1.62it/s]"
     ]
    },
    {
     "name": "stderr",
     "output_type": "stream",
     "text": [
      "2025/03/11 11:26:46 ERROR dspy.utils.parallelizer: Error processing item Example({'text': 'The first (and only) time I saw \"Shades\" was during a Sneakpreview. It hadn\\'t even been in premiere. I remember there was someone of the directors staff there, don\\'t even remember who. It was a Belgian movie, we never heard of it, so we were quite neutral, not knowing what to expect. Mickey Rourke is a brilliant actor and he\\'s stands miles ahead all the rest. He plays an actor who\\'s star has long stopped rising. He\\'s helping to realise a movie in Belgium entitled \"Shades\".<br /><br />As soon as the movie started, we noticed how much swearing there is. Nothing against the occasional swear word. However this was way beyond annoying. Whenever Rourke uses the F*** word to express something, it comes naturally. However, when someone from the cast, a non-English speaker uses the F**** or S*** word, it becomes arrogant and aggressive.<br /><br />We quickly lost count of how many times they used the F and S words. Everybody was just glad to be out of the theatre. And we had to give a vote, but it was hard for us because it was only from 0 to 10, and we were looking for the -10.', 'sentiment': 'negative'}) (input_keys={'text'}): litellm.RateLimitError: RateLimitError: OpenAIException - Error code: 429 - {'error': {'message': 'Rate limit reached for gpt-3.5-turbo in organization org-nS9hIqZFvGLn1kCX8ZWaZkba on tokens per min (TPM): Limit 200000, Used 198157, Requested 6307. Please try again in 1.339s. Visit https://platform.openai.com/account/rate-limits to learn more.', 'type': 'tokens', 'param': None, 'code': 'rate_limit_exceeded'}}. Set `provide_traceback=True` to see the stack trace.\n"
     ]
    },
    {
     "name": "stdout",
     "output_type": "stream",
     "text": [
      "Average Metric: 0.00 / 0 (0%):  16%|█▌        | 4/25 [00:03<00:12,  1.62it/s]"
     ]
    },
    {
     "name": "stderr",
     "output_type": "stream",
     "text": [
      "2025/03/11 11:26:46 ERROR dspy.utils.parallelizer: Error processing item Example({'text': \"I just finished watching this movie. It wasn't ridiculously bad, but I'm really disappointed with it. I'm not really sure why someone would make a movie like this. It was marginally entertaining, but I feel like the people making it had a lot of disagreements on what they were making. Monday, the writer was in charge; Tuesday, the director; Wednesday, the guy who gets the coffee; etc. It almost seems like they really wanted to make a couple different movies, but only had the time and money to make one.<br /><br />Someone else commented that the acting was really good, but I'd have to disagree. Then again, if the actors were able to keep a straight face during the filming, perhaps they're better actors than I give them credit for.<br /><br />The back of the DVD gives the impression that the movie would be a mystery... something along the lines of a historical Law and Order or National Treasure. It starts off like that, but then, out of nowhere it takes a turn towards a bad episode of the Twilight Zone, or... what was that other show that wasn't as good... A bad episode of The Outer Limits.<br /><br />My main complaint about the movie is that it is just so played out. There's the evil guy with spiked white hair. There's the love interest, who, when she first appears, the wind actually blows through her hair. Seriously. Once you realize it's a Christian movie, the end is also pretty easy to spot.<br /><br />The cinematography was poorly done, especially in the opening scenes - way to put your best foot forward. It wasn't atrocious for most of the movie, but there was the occasional ridiculously bad shot of an old lady, praying, arms up in a dark room while lightening is striking - the sort of thing that just makes you a little bit embarrassed to be watching the movie.\", 'sentiment': 'negative'}) (input_keys={'text'}): litellm.RateLimitError: RateLimitError: OpenAIException - Error code: 429 - {'error': {'message': 'Rate limit reached for gpt-3.5-turbo in organization org-nS9hIqZFvGLn1kCX8ZWaZkba on tokens per min (TPM): Limit 200000, Used 198227, Requested 6484. Please try again in 1.413s. Visit https://platform.openai.com/account/rate-limits to learn more.', 'type': 'tokens', 'param': None, 'code': 'rate_limit_exceeded'}}. Set `provide_traceback=True` to see the stack trace.\n"
     ]
    },
    {
     "name": "stdout",
     "output_type": "stream",
     "text": [
      "Average Metric: 12.00 / 12 (100.0%):  84%|████████▍ | 21/25 [00:25<00:04,  1.22s/it]\n",
      "Average Metric: 1.00 / 1 (100.0%):  40%|████      | 10/25 [00:14<00:21,  1.43s/it]\n"
     ]
    },
    {
     "name": "stderr",
     "output_type": "stream",
     "text": [
      "2025/03/11 11:26:48 ERROR dspy.utils.parallelizer: Error processing item Example({'text': \"For me this is a story that starts with some funny jokes regarding Franks fanatasies when he is travelling with a staircase and when he is sitting in business meetings... The problem is that when you have been watching this movie for an hour you will see the same fantasies/funny situations again and again and again. It is to predictable. It is more done as a TV story where you can go away and come back without missing anything.<br /><br />I like Felix Herngren as Frank but that is not enough even when it is a comedy it has to have more variations and some kind of message to it's audience....<br /><br />\", 'sentiment': 'negative'}) (input_keys={'text'}): litellm.RateLimitError: RateLimitError: OpenAIException - Error code: 429 - {'error': {'message': 'Rate limit reached for gpt-3.5-turbo in organization org-nS9hIqZFvGLn1kCX8ZWaZkba on requests per min (RPM): Limit 500, Used 500, Requested 1. Please try again in 120ms. Visit https://platform.openai.com/account/rate-limits to learn more.', 'type': 'requests', 'param': None, 'code': 'rate_limit_exceeded'}}. Set `provide_traceback=True` to see the stack trace.\n"
     ]
    },
    {
     "name": "stdout",
     "output_type": "stream",
     "text": [
      "Average Metric: 0.00 / 0 (0%):  24%|██▍       | 6/25 [00:05<00:06,  2.87it/s]"
     ]
    },
    {
     "name": "stderr",
     "output_type": "stream",
     "text": [
      "2025/03/11 11:26:49 ERROR dspy.utils.parallelizer: Error processing item Example({'text': 'Twenty years ago, the five years old boy Michael Hawthorne witnessed his father killing his mother with an axe in an empty road and committing suicide later. On the present days, Michael (Gordon Currie) invites his girlfriend Peg (Stacy Grant) and his best friends Chris (Myc Agnew), Jennifer (Emmanuelle Vaugier), Lisa Ann (Kelly Benson), Ned (Brendon Beiser), Mitch Maldive (Phillip Rhys) and Trish (Rachel Hayward) to spend the Halloween in the country with his grandparents in their farm. He asks his friends to wear costumes that would represent their greatest innermost fear, and together with his Indian friend Crow (Byron Chief Moon), they would perform an ancient Indian celebration using the carved wooden dummy Morty (Jon Fedele) that would eliminate their fears forever. The greatest fear of Michael is to become a serial killer like his father, but something goes wrong and Morty turns into his father, killing his friends.<br /><br />\"The Fear: Resurrection\" is a disappointing and pointless slash movie that uses the interesting concept of eliminating the greatest innermost fear of each friend before it grows, but in a messy screenplay full of clichés. There are some exaggerated performances, like for example Ms. Betsy Palmer; others very weak, but in general the acting is good. Unfortunately there is no explanation why the dummy is brought to live; further, in spite of being surrounded by close friends, the group does not feel pain or sorrow when each one of them dies. The low-pace along more than fifty minutes could have been used to built a better dramatic situation. In the very end, Michael shows a charm that his father was interested that I have not noticed along the story. I do not know whether the previous reference was edited in the DVD released in Brazil with 87 minutes running time. The special effects are very reasonable for a B-movie. My vote is four.<br /><br />Title (Brazil): \"Fear 2: Uma Noite de Halloween\" (\"Fear 2: One Night of Halloween\")', 'sentiment': 'negative'}) (input_keys={'text'}): litellm.RateLimitError: RateLimitError: OpenAIException - Error code: 429 - {'error': {'message': 'Rate limit reached for gpt-3.5-turbo in organization org-nS9hIqZFvGLn1kCX8ZWaZkba on tokens per min (TPM): Limit 200000, Used 199604, Requested 6533. Please try again in 1.841s. Visit https://platform.openai.com/account/rate-limits to learn more.', 'type': 'tokens', 'param': None, 'code': 'rate_limit_exceeded'}}. Set `provide_traceback=True` to see the stack trace.\n"
     ]
    },
    {
     "name": "stdout",
     "output_type": "stream",
     "text": [
      "Average Metric: 0.00 / 0 (0%):  32%|███▏      | 8/25 [00:06<00:14,  1.19it/s]"
     ]
    },
    {
     "name": "stderr",
     "output_type": "stream",
     "text": [
      "2025/03/11 11:26:49 ERROR dspy.utils.parallelizer: Error processing item Example({'text': 'This Film was really eye-opening. I have seen this film several times. First, when I was four and I actually remembered it and then when I was 12. The whole message that the director is conveying is for everyone to wake up and not make the mistake of leaving God out of our everyday lives or just Plain going the extra mile to insult him.<br /><br />A great Movie for Non-believers and Believers alike!', 'sentiment': 'positive'}) (input_keys={'text'}): litellm.RateLimitError: RateLimitError: OpenAIException - Error code: 429 - {'error': {'message': 'Rate limit reached for gpt-3.5-turbo in organization org-nS9hIqZFvGLn1kCX8ZWaZkba on tokens per min (TPM): Limit 200000, Used 199386, Requested 6136. Please try again in 1.656s. Visit https://platform.openai.com/account/rate-limits to learn more.', 'type': 'tokens', 'param': None, 'code': 'rate_limit_exceeded'}}. Set `provide_traceback=True` to see the stack trace.\n"
     ]
    },
    {
     "name": "stdout",
     "output_type": "stream",
     "text": [
      "Average Metric: 0.00 / 0 (0%):  32%|███▏      | 8/25 [00:06<00:14,  1.19it/s]"
     ]
    },
    {
     "name": "stderr",
     "output_type": "stream",
     "text": [
      "2025/03/11 11:26:53 INFO dspy.teleprompt.mipro_optimizer_v2: Score: 0.0 on minibatch of size 25 with parameters ['Predictor 0: Instruction 4', 'Predictor 0: Few-Shot Set 5'].\n",
      "2025/03/11 11:26:53 INFO dspy.teleprompt.mipro_optimizer_v2: Minibatch scores so far: [92.0, 0.0, 0.0, 0.0]\n",
      "2025/03/11 11:26:53 INFO dspy.teleprompt.mipro_optimizer_v2: Full eval scores so far: [93.75]\n",
      "2025/03/11 11:26:53 INFO dspy.teleprompt.mipro_optimizer_v2: Best full score so far: 93.75\n",
      "2025/03/11 11:26:53 INFO dspy.teleprompt.mipro_optimizer_v2: =========================================\n",
      "\n",
      "\n",
      "2025/03/11 11:26:53 INFO dspy.teleprompt.mipro_optimizer_v2: == Trial 6 / 34 - Minibatch ==\n"
     ]
    },
    {
     "name": "stdout",
     "output_type": "stream",
     "text": [
      "Exception occurred: litellm.RateLimitError: RateLimitError: OpenAIException - Error code: 429 - {'error': {'message': 'Rate limit reached for gpt-3.5-turbo in organization org-nS9hIqZFvGLn1kCX8ZWaZkba on tokens per min (TPM): Limit 200000, Used 198649, Requested 6090. Please try again in 1.421s. Visit https://platform.openai.com/account/rate-limits to learn more.', 'type': 'tokens', 'param': None, 'code': 'rate_limit_exceeded'}}\n",
      "Average Metric: 1.00 / 1 (100.0%):   4%|▍         | 1/25 [00:01<00:32,  1.35s/it]"
     ]
    },
    {
     "name": "stderr",
     "output_type": "stream",
     "text": [
      "2025/03/11 11:26:56 ERROR dspy.utils.parallelizer: Error processing item Example({'text': \"Not funny - how can anyone link this to Monty Python? That is absolutely ridiculous - there are no laughs. This is not funny. Over the top, but ugly, weird just for weird sake and it seems to me these people were on something all the time. Unfortunately something that did not make them funny.<br /><br />It should be given some points for effort etc. whatever. Actually it appears there is a laugh track - or is there one? Hummm.... Since there are barely any laughs that's a debatable question.<br /><br />Maybe I'm doing it injustice - maybe it's some sort of exercise. Some sort of art - in that case anything goes, never mind.<br /><br />But these guys playing women with high-pitched voices, turned-up noses. Come on !!! Not funny. <br /><br />There is only one heir apparent to Monty Pythons intellectual wit and that is Stephen Colbert, and maybe Jon Stewart.\", 'sentiment': 'negative'}) (input_keys={'text'}): litellm.RateLimitError: RateLimitError: OpenAIException - Error code: 429 - {'error': {'message': 'Rate limit reached for gpt-3.5-turbo in organization org-nS9hIqZFvGLn1kCX8ZWaZkba on tokens per min (TPM): Limit 200000, Used 196339, Requested 6290. Please try again in 788ms. Visit https://platform.openai.com/account/rate-limits to learn more.', 'type': 'tokens', 'param': None, 'code': 'rate_limit_exceeded'}}. Set `provide_traceback=True` to see the stack trace.\n"
     ]
    },
    {
     "name": "stdout",
     "output_type": "stream",
     "text": [
      "Average Metric: 1.00 / 1 (100.0%):   8%|▊         | 2/25 [00:03<00:40,  1.77s/it]"
     ]
    },
    {
     "name": "stderr",
     "output_type": "stream",
     "text": [
      "2025/03/11 11:26:56 ERROR dspy.utils.parallelizer: Error processing item Example({'text': 'It\\'s good to see that Vintage Film Buff have correctly categorized their excellent DVD release as a \"musical\", for that\\'s what this film is, pure and simple. Like its unofficial remake, Murder at the Windmill (1949), the murder plot is just an excuse for an elaborate girlie show with Kitty Carlisle and Gertrude Michael leading a cast of super-decorative girls including Ann Sheridan, Lucy Ball, Beryl Wallace, Gwenllian Gill, Gladys Young, Barbara Fritchie, Wanda Perry and Dorothy White. Carl Brisson is also on hand to lend his strong voice to \"Cocktails for Two\". Undoubtedly the movie\\'s most popular song, it is heard no less than four times. However, it\\'s Gertrude Michael who steals the show, not only with her rendition of \"Sweet Marijauna\" but her strong performance as the hero\\'s rejected girlfriend. As for the rest of the cast, we could have done without Jack Oakie and Victor McLaglen altogether. The only good thing about Oakie\\'s role is his weak running gag with cult icon, Toby Wing. In fact, to give you an idea as to how far the rest of the comedy is over-indulged and over-strained, super-dumb Inspector McLaglen simply cannot put his hands on the killer even though, would you believe, in this instance it happens to be the person you most suspect. Director Mitch Leisen actually goes to great pains to point the killer out to even the dumbest member of the cinema audience by giving the player concerned close-up after close-up.', 'sentiment': 'positive'}) (input_keys={'text'}): litellm.RateLimitError: RateLimitError: OpenAIException - Error code: 429 - {'error': {'message': 'Rate limit reached for gpt-3.5-turbo in organization org-nS9hIqZFvGLn1kCX8ZWaZkba on tokens per min (TPM): Limit 200000, Used 196218, Requested 6436. Please try again in 796ms. Visit https://platform.openai.com/account/rate-limits to learn more.', 'type': 'tokens', 'param': None, 'code': 'rate_limit_exceeded'}}. Set `provide_traceback=True` to see the stack trace.\n",
      "2025/03/11 11:26:56 ERROR dspy.utils.parallelizer: Error processing item Example({'text': \"Movies have put me to sleep before, but no movie has ever done that twice, so it took me three sittings actually to finish it. The dialog was bad. Women spoke stiltedly and the men were caricatures. And two of the supposedly Japanese women looked Chinese, had Chinese names and spoke with clearly Chinese accents. I'm still trying to figure out why the Emmenthal men were sexually wrapped up with each other. 10 minus 8 1/2 equals a tough choice: Do I give this movie a rating of one? or two?<br /><br />Movies have put me to sleep before, but no movie has ever done that twice, so it took me three sittings actually to finish it. The dialog was bad. Women spoke stiltedly and the men were caricatures. And two of the supposedly Japanese women looked Chinese, had Chinese names and spoke with clearly Chinese accents. I'm still trying to figure out why the Emmenthal men were sexually wrapped up with each other. 10 minus 8 1/2 equals a tough choice: Do I give this movie a rating of one? or two?\", 'sentiment': 'negative'}) (input_keys={'text'}): litellm.RateLimitError: RateLimitError: OpenAIException - Error code: 429 - {'error': {'message': 'Rate limit reached for gpt-3.5-turbo in organization org-nS9hIqZFvGLn1kCX8ZWaZkba on requests per min (RPM): Limit 500, Used 500, Requested 1. Please try again in 120ms. Visit https://platform.openai.com/account/rate-limits to learn more.', 'type': 'requests', 'param': None, 'code': 'rate_limit_exceeded'}}. Set `provide_traceback=True` to see the stack trace.\n"
     ]
    },
    {
     "name": "stdout",
     "output_type": "stream",
     "text": [
      "Average Metric: 1.00 / 1 (100.0%):  12%|█▏        | 3/25 [00:03<00:38,  1.77s/it]"
     ]
    },
    {
     "name": "stderr",
     "output_type": "stream",
     "text": [
      "2025/03/11 11:26:56 ERROR dspy.utils.parallelizer: Error processing item Example({'text': \"It is obviously illegal. Pedophiles pray on stuff like this. How did they get away with making such a movie? This movie is all summed up in one word, SICK. Where do people get off making, and watching these kinds of films. As I was watching the movie I didn't actually think they would allow this kid that is say maybe 12 if that actually sleep with this woman. Sorry if this is a spoiler to you but I would have rater not seen this. Where has the sanity of these people gone? Maybe the makers of this movie are pedophiles? Our society today is filled with all types of sexual predators that pray upon children, yet film makers make these types of movies that do nothing but provoke this type of behavior. I noticed that on a previous comment someone asked if there was a version where it showed them naked. This is a kid here, and someone is asking something like this? What is wrong with this picture?\", 'sentiment': 'negative'}) (input_keys={'text'}): litellm.RateLimitError: RateLimitError: OpenAIException - Error code: 429 - {'error': {'message': 'Rate limit reached for gpt-3.5-turbo in organization org-nS9hIqZFvGLn1kCX8ZWaZkba on tokens per min (TPM): Limit 200000, Used 195640, Requested 6299. Please try again in 581ms. Visit https://platform.openai.com/account/rate-limits to learn more.', 'type': 'tokens', 'param': None, 'code': 'rate_limit_exceeded'}}. Set `provide_traceback=True` to see the stack trace.\n"
     ]
    },
    {
     "name": "stdout",
     "output_type": "stream",
     "text": [
      "Average Metric: 1.00 / 1 (100.0%):  20%|██        | 5/25 [00:03<00:10,  1.83it/s]"
     ]
    },
    {
     "name": "stderr",
     "output_type": "stream",
     "text": [
      "2025/03/11 11:26:56 ERROR dspy.utils.parallelizer: Error processing item Example({'text': \"I just finished watching this movie. It wasn't ridiculously bad, but I'm really disappointed with it. I'm not really sure why someone would make a movie like this. It was marginally entertaining, but I feel like the people making it had a lot of disagreements on what they were making. Monday, the writer was in charge; Tuesday, the director; Wednesday, the guy who gets the coffee; etc. It almost seems like they really wanted to make a couple different movies, but only had the time and money to make one.<br /><br />Someone else commented that the acting was really good, but I'd have to disagree. Then again, if the actors were able to keep a straight face during the filming, perhaps they're better actors than I give them credit for.<br /><br />The back of the DVD gives the impression that the movie would be a mystery... something along the lines of a historical Law and Order or National Treasure. It starts off like that, but then, out of nowhere it takes a turn towards a bad episode of the Twilight Zone, or... what was that other show that wasn't as good... A bad episode of The Outer Limits.<br /><br />My main complaint about the movie is that it is just so played out. There's the evil guy with spiked white hair. There's the love interest, who, when she first appears, the wind actually blows through her hair. Seriously. Once you realize it's a Christian movie, the end is also pretty easy to spot.<br /><br />The cinematography was poorly done, especially in the opening scenes - way to put your best foot forward. It wasn't atrocious for most of the movie, but there was the occasional ridiculously bad shot of an old lady, praying, arms up in a dark room while lightening is striking - the sort of thing that just makes you a little bit embarrassed to be watching the movie.\", 'sentiment': 'negative'}) (input_keys={'text'}): litellm.RateLimitError: RateLimitError: OpenAIException - Error code: 429 - {'error': {'message': 'Rate limit reached for gpt-3.5-turbo in organization org-nS9hIqZFvGLn1kCX8ZWaZkba on tokens per min (TPM): Limit 200000, Used 195020, Requested 6522. Please try again in 462ms. Visit https://platform.openai.com/account/rate-limits to learn more.', 'type': 'tokens', 'param': None, 'code': 'rate_limit_exceeded'}}. Set `provide_traceback=True` to see the stack trace.\n"
     ]
    },
    {
     "name": "stdout",
     "output_type": "stream",
     "text": [
      "Average Metric: 1.00 / 1 (100.0%):  24%|██▍       | 6/25 [00:03<00:08,  2.17it/s]"
     ]
    },
    {
     "name": "stderr",
     "output_type": "stream",
     "text": [
      "2025/03/11 11:26:57 ERROR dspy.utils.parallelizer: Error processing item Example({'text': 'Not the most successful television project John Cleese ever did, \"Strange Case\" has the feel of a first draft that was rushed into production before any revisions could be made. There are some silly ideas throughout and even a few clever ones, but the story as a whole unfortunately doesn\\'t add up to much.<br /><br />Arthur Lowe is a hoot, though, as Dr. Watson, bionic bits and all. \"Good Lord.\"', 'sentiment': 'positive'}) (input_keys={'text'}): litellm.RateLimitError: RateLimitError: OpenAIException - Error code: 429 - {'error': {'message': 'Rate limit reached for gpt-3.5-turbo in organization org-nS9hIqZFvGLn1kCX8ZWaZkba on tokens per min (TPM): Limit 200000, Used 198214, Requested 6173. Please try again in 1.316s. Visit https://platform.openai.com/account/rate-limits to learn more.', 'type': 'tokens', 'param': None, 'code': 'rate_limit_exceeded'}}. Set `provide_traceback=True` to see the stack trace.\n"
     ]
    },
    {
     "name": "stdout",
     "output_type": "stream",
     "text": [
      "Average Metric: 1.00 / 1 (100.0%):  28%|██▊       | 7/25 [00:04<00:10,  1.74it/s]"
     ]
    },
    {
     "name": "stderr",
     "output_type": "stream",
     "text": [
      "2025/03/11 11:27:00 ERROR dspy.utils.parallelizer: Error processing item Example({'text': 'This movie was horrible, simply put. It was so bad I registered with IMDb to warn you of its dangers.<br /><br />I am a campy horror film expert, per se. I have watched \"Redneck Zombies\", \"House of the Psychotic Women\", \"Slumber Party Massacre II\" and many others. I know my schlock. And I know this movie sucks.<br /><br />Three fourths of the film is comprised of scared individuals running from one side of the screen to the other. When they are not running, they are spouting non-sequitur lines, devoid of emotion or motivation. When the actors begin to be acceptable, the direction falls to pieces. There were so many jarring low-angle shots; I figured Leif Jonker had a 3 foot tall tripod. He used what I call the \"Leif Maneuver\" several millions times: that is, zooming out from an object of interest like an amateur. Apparently the film crew couldn\\'t get up early enough to film a sunrise, so they filmed a sunset... and played it in reverse. With direction this lazy, you are actually impressed with the final gory scene. The only thing you can figure is that the last five minutes was filmed before the first eighty-five minutes.<br /><br />If you want a good (bad) gory movie, rent \"Riki-Oh\" or the foundational \"Dead Alive.\" If you are a schlock buff, and are looking for a challenge, give \"Darkness\" a go.<br /><br />Quote o\\' the movie-<br /><br />Vampire: It\\'s die time!', 'sentiment': 'negative'}) (input_keys={'text'}): litellm.RateLimitError: RateLimitError: OpenAIException - Error code: 429 - {'error': {'message': 'Rate limit reached for gpt-3.5-turbo in organization org-nS9hIqZFvGLn1kCX8ZWaZkba on tokens per min (TPM): Limit 200000, Used 195993, Requested 6419. Please try again in 723ms. Visit https://platform.openai.com/account/rate-limits to learn more.', 'type': 'tokens', 'param': None, 'code': 'rate_limit_exceeded'}}. Set `provide_traceback=True` to see the stack trace.\n"
     ]
    },
    {
     "name": "stdout",
     "output_type": "stream",
     "text": [
      "Average Metric: 1.00 / 1 (100.0%):  32%|███▏      | 8/25 [00:07<00:19,  1.13s/it]"
     ]
    },
    {
     "name": "stderr",
     "output_type": "stream",
     "text": [
      "2025/03/11 11:27:00 ERROR dspy.utils.parallelizer: Error processing item Example({'text': 'Brokedown Palace is the story of two best friends, Alice and Darlene, who go on a spontaneous trip to Thailand and wind up in prison after being caught with planted drugs in their luggage. In this way, the movie had the potential to turn into a serious and moving film, such as \"Return to Paradise\", but instead, the movie chose to focus little on the girls\\' situation and more on their friendship.<br /><br />Claire Danes and Kate Beckinsale both turn in excellent performances, and the movie is much more about the interplay between them - the suspicion, the jealousy, the questioning and testing of their friendship and ultimately the sacrifices made in the name of friendship. This movie chooses not to delve too deeply into politics or even into the harshness of prison life (which is a bit glossed over), and focuses more on these friendship issues.<br /><br />There were some plot holes here, and some parts that just didn\\'t seem believable or realistic. We didn\\'t feel the real fear or hopelessness of their situation as well as we might have. And we get very little feeling of life outside the prison walls, with Bill Pullman playing the supposedly sleazy lawyer who actually turns out to have a heart of gold. In short, this should, by all rights, have been a much darker movie than it was.<br /><br />But overall, I enjoyed it. The acting was good, the soundtrack was perfect, and the storyline had enough twists and turns to stay interesting. Worth seeing.', 'sentiment': 'positive'}) (input_keys={'text'}): litellm.RateLimitError: RateLimitError: OpenAIException - Error code: 429 - {'error': {'message': 'Rate limit reached for gpt-3.5-turbo in organization org-nS9hIqZFvGLn1kCX8ZWaZkba on tokens per min (TPM): Limit 200000, Used 195488, Requested 6440. Please try again in 578ms. Visit https://platform.openai.com/account/rate-limits to learn more.', 'type': 'tokens', 'param': None, 'code': 'rate_limit_exceeded'}}. Set `provide_traceback=True` to see the stack trace.\n"
     ]
    },
    {
     "name": "stdout",
     "output_type": "stream",
     "text": [
      "Average Metric: 1.00 / 1 (100.0%):  36%|███▌      | 9/25 [00:07<00:13,  1.18it/s]"
     ]
    },
    {
     "name": "stderr",
     "output_type": "stream",
     "text": [
      "2025/03/11 11:27:00 ERROR dspy.utils.parallelizer: Error processing item Example({'text': 'This is a review of The Wizard, not to be confused with The Wiz, or Mr. Wizard. The Wizard is a late-eighties film about a seriously silent boy\\'s ability to play video games and walk during the entire opening credits. The Wiz is an unnecessary update of The Wizard of Oz, and Mr. Wizard is that guy that attached 100 straws together and had some kid drink tang out of it.<br /><br />Now that we\\'ve gotten all that out of the way, let me say this: there\\'s really no reason to see this movie. It\\'s simply a 100 minute Nintendo commercial designed to capitalize on the Powerglove, the Legend of Zelda and Super Mario Brothers 3. I use the word \"designed\" in the loosest sense possible, because it seems like this movie was written over a weekend by a crack team of people who had never played Nintendo, and directed by a man with less sense of style than my grandmother. Maybe if the writer and director sat down and actually played some games together, they\\'d realize that they were about to film total rubbish and instead go to vocational school to learn how to install car stereos.<br /><br />I hope that this has been an enlightening experience for you. It sure hasn\\'t been for me. In fact, I think I might have lost a few braincells in the act of watching this movie and writing about it. Next time you\\'re at the video store and you see the The Wiz, The Wizard and The Wizard of Oz all sitting there on the shelf in a pretty little row, give them all a miss and play Duck Hunt instead.', 'sentiment': 'negative'}) (input_keys={'text'}): litellm.RateLimitError: RateLimitError: OpenAIException - Error code: 429 - {'error': {'message': 'Rate limit reached for gpt-3.5-turbo in organization org-nS9hIqZFvGLn1kCX8ZWaZkba on tokens per min (TPM): Limit 200000, Used 195300, Requested 6445. Please try again in 523ms. Visit https://platform.openai.com/account/rate-limits to learn more.', 'type': 'tokens', 'param': None, 'code': 'rate_limit_exceeded'}}. Set `provide_traceback=True` to see the stack trace.\n"
     ]
    },
    {
     "name": "stdout",
     "output_type": "stream",
     "text": [
      "Average Metric: 1.00 / 1 (100.0%):  36%|███▌      | 9/25 [00:07<00:13,  1.18it/s]"
     ]
    },
    {
     "name": "stderr",
     "output_type": "stream",
     "text": [
      "2025/03/11 11:27:03 INFO dspy.teleprompt.mipro_optimizer_v2: Score: 0.0 on minibatch of size 25 with parameters ['Predictor 0: Instruction 3', 'Predictor 0: Few-Shot Set 8'].\n",
      "2025/03/11 11:27:03 INFO dspy.teleprompt.mipro_optimizer_v2: Minibatch scores so far: [92.0, 0.0, 0.0, 0.0, 0.0]\n",
      "2025/03/11 11:27:03 INFO dspy.teleprompt.mipro_optimizer_v2: Full eval scores so far: [93.75]\n",
      "2025/03/11 11:27:03 INFO dspy.teleprompt.mipro_optimizer_v2: Best full score so far: 93.75\n",
      "2025/03/11 11:27:03 INFO dspy.teleprompt.mipro_optimizer_v2: =========================================\n",
      "\n",
      "\n",
      "2025/03/11 11:27:03 INFO dspy.teleprompt.mipro_optimizer_v2: == Trial 7 / 34 - Minibatch ==\n"
     ]
    },
    {
     "name": "stdout",
     "output_type": "stream",
     "text": [
      "Exception occurred: litellm.RateLimitError: RateLimitError: OpenAIException - Error code: 429 - {'error': {'message': 'Rate limit reached for gpt-3.5-turbo in organization org-nS9hIqZFvGLn1kCX8ZWaZkba on requests per min (RPM): Limit 500, Used 500, Requested 1. Please try again in 120ms. Visit https://platform.openai.com/account/rate-limits to learn more.', 'type': 'requests', 'param': None, 'code': 'rate_limit_exceeded'}}\n",
      "  0%|          | 0/25 [00:00<?, ?it/s]"
     ]
    },
    {
     "name": "stderr",
     "output_type": "stream",
     "text": [
      "2025/03/11 11:27:06 ERROR dspy.utils.parallelizer: Error processing item Example({'text': \"I've watched this movie twice, and I plan to see it again. It is the movie that puts you in the director's place, regarding his romantic relations and the political situation in Israel. It also makes me cry because of remembering the wonderful time it was, and the horrible murder described there. It is really worth watching.\", 'sentiment': 'positive'}) (input_keys={'text'}): litellm.RateLimitError: RateLimitError: OpenAIException - Error code: 429 - {'error': {'message': 'Rate limit reached for gpt-3.5-turbo in organization org-nS9hIqZFvGLn1kCX8ZWaZkba on tokens per min (TPM): Limit 200000, Used 198677, Requested 6084. Please try again in 1.428s. Visit https://platform.openai.com/account/rate-limits to learn more.', 'type': 'tokens', 'param': None, 'code': 'rate_limit_exceeded'}}. Set `provide_traceback=True` to see the stack trace.\n"
     ]
    },
    {
     "name": "stdout",
     "output_type": "stream",
     "text": [
      "Average Metric: 0.00 / 0 (0%):   4%|▍         | 1/25 [00:03<01:13,  3.07s/it]"
     ]
    },
    {
     "name": "stderr",
     "output_type": "stream",
     "text": [
      "2025/03/11 11:27:06 ERROR dspy.utils.parallelizer: Error processing item Example({'text': 'What an appalling piece of rubbish!!! Who ARE all these people who blubber on about how good this is? Yes, it\\'s \"arty\"; and yes, it\\'s \"foreign\", but .... that\\'s not enough. The plot is boring and disjointed, like a reality show but not so slickly made.<br /><br />The people are intrinsically uninteresting; but as characters they don\\'t have enough depth to feel empathy for them. If they are based on real people then I feel very, very sorry for them.<br /><br />The violence (and some of it is very violent) seems quite ostentatious and gratuitous. It\\'s like the producer has visions of being Quenton Tarantino. Not that I think very much of him, either.<br /><br />And oh yes: if I had neighbours like these, I\\'d move!', 'sentiment': 'negative'}) (input_keys={'text'}): litellm.RateLimitError: RateLimitError: OpenAIException - Error code: 429 - {'error': {'message': 'Rate limit reached for gpt-3.5-turbo in organization org-nS9hIqZFvGLn1kCX8ZWaZkba on requests per min (RPM): Limit 500, Used 500, Requested 1. Please try again in 120ms. Visit https://platform.openai.com/account/rate-limits to learn more.', 'type': 'requests', 'param': None, 'code': 'rate_limit_exceeded'}}. Set `provide_traceback=True` to see the stack trace.\n"
     ]
    },
    {
     "name": "stdout",
     "output_type": "stream",
     "text": [
      "Average Metric: 0.00 / 0 (0%):   8%|▊         | 2/25 [00:03<00:30,  1.34s/it]"
     ]
    },
    {
     "name": "stderr",
     "output_type": "stream",
     "text": [
      "2025/03/11 11:27:06 ERROR dspy.utils.parallelizer: Error processing item Example({'text': \"It's a strange thing to see a film where some scenes work rather weakly (if only in comparison to other films in its legacy), and others in a 'sub-plot' or supporting story are surprisingly provocative and strong. Sudden Impact is one of those cases, where Clint Eastwood as star/producer/director shows when he can be at his best, or at his lessor of times when dealing with a crime/mystery/detective story in his Dirty Harry fame. We get that 'make my day' line, and un-like in the first film where his 'do I feel lucky' speech was playful and cool the first time and the second time at the end tough as nails, here it's switched around. He gets into another shamble with the department, as usual, when he tries to fight crime 'his' way, in particular with a diner robbery (inspiration for Pulp Fiction?) and with a high speed pursuit with a senior citizen bus. He's told to 'take a vacation', and that's the last thing on his mind. This whole main plot isn't very convincing aside from the expectancy of the story and lines, which just adds to the frustration. But soon his story merges with the sub-plot that Eastwood develops from the start.<br /><br />Enter Sandra Locke's character, Jennifer Spencer, whom we soon learn after some (appropriately) mysterious scenes that she and her shy sister were victims of a cruel, unjust sexual assault (err, outright rape), and is sleekly, undercover-like, getting revenge. Her scenes and story are the strongest parts of the film, the most intense, and finally when it goes into Callahan's storyline (he's getting facts in the same small town she's in on a murder), the film finally finds a focus between Eastwood's classic form of clearly defined good vs. evil (though sometimes blurred, to be sure). Eastwood films the flashbacks, not to say too much about them, expertly, in a fresh, experimental style; the trademark Lalo Schifrin score is totally atmospheric in these scenes and in others. It almost seems like a couple of times an art-house sensibility has crept into Eastwood's firmly straightforward storytelling style, which helps make the film watchable.<br /><br />It's a shame, though, that in the end it goes more for the expectable (or maybe not expectable) points, and until the third act Callahan doesn't have much to do except his usual 'it's smith...Wesson...and me' shtick. However, with Locke he gets out of her a very good performance (more subtle and touching than the one in the Gauntlet) and an exciting climax at an amusement park. In a way I do and don't agree with Ebert's remark that it's like a 'music video' in Eastwood's style here. I admit there is comparisons with the simplicity of both, the directness, but the scenes where Eastwood does break form are superior to those of any music video. It's cheesy, it's hard-edged, it's not up to par with the first two 'Harry' pictures, but hey, there could be worse ways to spend a couple hours with the master of the .44.\", 'sentiment': 'positive'}) (input_keys={'text'}): litellm.RateLimitError: RateLimitError: OpenAIException - Error code: 429 - {'error': {'message': 'Rate limit reached for gpt-3.5-turbo in organization org-nS9hIqZFvGLn1kCX8ZWaZkba on requests per min (RPM): Limit 500, Used 500, Requested 1. Please try again in 120ms. Visit https://platform.openai.com/account/rate-limits to learn more.', 'type': 'requests', 'param': None, 'code': 'rate_limit_exceeded'}}. Set `provide_traceback=True` to see the stack trace.\n",
      "2025/03/11 11:27:06 ERROR dspy.utils.parallelizer: Error processing item Example({'text': \"what is wrong with you people, if you weren't blown away by the action car sequences and jessica Simpsons hot body then you are majorly screwed in the head. Of course the film isn't a masterpiece, i don't think it was aiming to be. It was fun and funny, i never watched the show when i was younger, i only recently saw one episode, and when i watched the movie, i felt it had the same kind of atmosphere. The movie seats were practically shaking, and the car sequences were good because it didn't bore me and drag out like some of the scenes in 2fast 2furious. and jessica Simpson is plain hot, i just wish they had used her more in the action sequences. All in all, i had a hell of a time watching this and i would go and see it again soon and i will buy it on DVD. People, enjoy it for what it is.\", 'sentiment': 'positive'}) (input_keys={'text'}): litellm.RateLimitError: RateLimitError: OpenAIException - Error code: 429 - {'error': {'message': 'Rate limit reached for gpt-3.5-turbo in organization org-nS9hIqZFvGLn1kCX8ZWaZkba on tokens per min (TPM): Limit 200000, Used 198013, Requested 6202. Please try again in 1.264s. Visit https://platform.openai.com/account/rate-limits to learn more.', 'type': 'tokens', 'param': None, 'code': 'rate_limit_exceeded'}}. Set `provide_traceback=True` to see the stack trace.\n"
     ]
    },
    {
     "name": "stdout",
     "output_type": "stream",
     "text": [
      "Average Metric: 0.00 / 0 (0%):  12%|█▏        | 3/25 [00:03<00:29,  1.34s/it]"
     ]
    },
    {
     "name": "stderr",
     "output_type": "stream",
     "text": [
      "2025/03/11 11:27:07 ERROR dspy.utils.parallelizer: Error processing item Example({'text': \"I just finished watching this movie. It wasn't ridiculously bad, but I'm really disappointed with it. I'm not really sure why someone would make a movie like this. It was marginally entertaining, but I feel like the people making it had a lot of disagreements on what they were making. Monday, the writer was in charge; Tuesday, the director; Wednesday, the guy who gets the coffee; etc. It almost seems like they really wanted to make a couple different movies, but only had the time and money to make one.<br /><br />Someone else commented that the acting was really good, but I'd have to disagree. Then again, if the actors were able to keep a straight face during the filming, perhaps they're better actors than I give them credit for.<br /><br />The back of the DVD gives the impression that the movie would be a mystery... something along the lines of a historical Law and Order or National Treasure. It starts off like that, but then, out of nowhere it takes a turn towards a bad episode of the Twilight Zone, or... what was that other show that wasn't as good... A bad episode of The Outer Limits.<br /><br />My main complaint about the movie is that it is just so played out. There's the evil guy with spiked white hair. There's the love interest, who, when she first appears, the wind actually blows through her hair. Seriously. Once you realize it's a Christian movie, the end is also pretty easy to spot.<br /><br />The cinematography was poorly done, especially in the opening scenes - way to put your best foot forward. It wasn't atrocious for most of the movie, but there was the occasional ridiculously bad shot of an old lady, praying, arms up in a dark room while lightening is striking - the sort of thing that just makes you a little bit embarrassed to be watching the movie.\", 'sentiment': 'negative'}) (input_keys={'text'}): litellm.RateLimitError: RateLimitError: OpenAIException - Error code: 429 - {'error': {'message': 'Rate limit reached for gpt-3.5-turbo in organization org-nS9hIqZFvGLn1kCX8ZWaZkba on tokens per min (TPM): Limit 200000, Used 197371, Requested 6451. Please try again in 1.146s. Visit https://platform.openai.com/account/rate-limits to learn more.', 'type': 'tokens', 'param': None, 'code': 'rate_limit_exceeded'}}. Set `provide_traceback=True` to see the stack trace.\n"
     ]
    },
    {
     "name": "stdout",
     "output_type": "stream",
     "text": [
      "Average Metric: 0.00 / 0 (0%):  20%|██        | 5/25 [00:03<00:09,  2.20it/s]"
     ]
    },
    {
     "name": "stderr",
     "output_type": "stream",
     "text": [
      "2025/03/11 11:27:08 ERROR dspy.utils.parallelizer: Error processing item Example({'text': 'This obscure de Sica delivers the goods. And it is said \"the meek shall inherit the earth.\" This tale of classes on the surface but really an allegory for all the homeless people that populated Europe after the great war. They are homeless but cheerful, in a societies too impoverished and selfish to care for or acknowledge them, footmats for the Italian carpetbaggers. de Sica chooses to tell it as a fairy tale, a Cinderella story. I have not read the book it is based on so I cannot foresay if the deus ex machina is the construct of the writer or Vittorio. It begins with the words, \"Once upon a time...\" to exemplify the timelessness of its tale, for the story could be set anywhere and everywhere. Caricature sketches of the aristocracy that cut to the bone, whimsical nature of the homeless especially when they begin to grant their wishes and an ending right out of a Spielberg picture makes this boulange a delight for all. De Sica\\'s most accessible picture is also one of his best. Abandoning neo-realism, he always dallied between that and pure good old film-making, he creates a movie that breaks the heart and at the same time fills it with the yearning of hope that one needs to continue leaving in this world. Gracias Vittorio! Gracias! Gracias!!! Gracias!!!!!!!!!!!!', 'sentiment': 'positive'}) (input_keys={'text'}): litellm.RateLimitError: RateLimitError: OpenAIException - Error code: 429 - {'error': {'message': 'Rate limit reached for gpt-3.5-turbo in organization org-nS9hIqZFvGLn1kCX8ZWaZkba on tokens per min (TPM): Limit 200000, Used 194219, Requested 6323. Please try again in 162ms. Visit https://platform.openai.com/account/rate-limits to learn more.', 'type': 'tokens', 'param': None, 'code': 'rate_limit_exceeded'}}. Set `provide_traceback=True` to see the stack trace.\n"
     ]
    },
    {
     "name": "stdout",
     "output_type": "stream",
     "text": [
      "Average Metric: 0.00 / 0 (0%):  36%|███▌      | 9/25 [00:26<00:46,  2.93s/it]\n",
      "Average Metric: 1.00 / 1 (100.0%):  40%|████      | 10/25 [00:16<00:24,  1.66s/it]\n"
     ]
    },
    {
     "name": "stderr",
     "output_type": "stream",
     "text": [
      "2025/03/11 11:27:10 ERROR dspy.utils.parallelizer: Error processing item Example({'text': \"When I was a kid, I totally loved both Bill & Ted Movies. The other night, Bogus Journey was on and since it was at least 5 years since I last saw it, I decided to tune in. AND I LOVED IT ALL OVER AGAIN! This film is still funny after all those years. 'Excellent Adventure' is better, but this one rocks just the same. Sure, some of the perfomances are a bit cheesy, but hey, this entire film is cheesy in a cool way. Plus it features the coolest personation of Death ever in a movie! Concluding: Totally like non bogus movie dude! Way Excellent! STATION!!!\", 'sentiment': 'positive'}) (input_keys={'text'}): litellm.RateLimitError: RateLimitError: OpenAIException - Error code: 429 - {'error': {'message': 'Rate limit reached for gpt-3.5-turbo in organization org-nS9hIqZFvGLn1kCX8ZWaZkba on requests per min (RPM): Limit 500, Used 500, Requested 1. Please try again in 120ms. Visit https://platform.openai.com/account/rate-limits to learn more.', 'type': 'requests', 'param': None, 'code': 'rate_limit_exceeded'}}. Set `provide_traceback=True` to see the stack trace.\n"
     ]
    },
    {
     "name": "stdout",
     "output_type": "stream",
     "text": [
      "Average Metric: 0.00 / 0 (0%):  28%|██▊       | 7/25 [00:06<00:17,  1.03it/s]"
     ]
    },
    {
     "name": "stderr",
     "output_type": "stream",
     "text": [
      "2025/03/11 11:27:10 ERROR dspy.utils.parallelizer: Error processing item Example({'text': 'Most war films made in the US during WWII were great fun to watch but suffered from severe gaps in realism because they were being produced more for propaganda value to raise the spirits at home than anything else. I am not knocking these films as many of them are still very watchable. However, because they so often lack realism they are prevented from being truly great films. A perfect example was the John Garfield film Air Force--in which a B-17 nearly single-handedly takes out half the Japanese air force! However, Pride Of The Marines is a welcome departure--scoring high marks for portraying a true story in a reasonably accurate manner. When I first saw this film, I thought it was NOT a true story as it seemed way too improbable to be true. However, after researching further I found that it was in fact rather true to the amazing story of two men who did so much to earn the Medal of Honor. This is one case where real life seemed too incredible to be true!', 'sentiment': 'positive'}) (input_keys={'text'}): litellm.RateLimitError: RateLimitError: OpenAIException - Error code: 429 - {'error': {'message': 'Rate limit reached for gpt-3.5-turbo in organization org-nS9hIqZFvGLn1kCX8ZWaZkba on tokens per min (TPM): Limit 200000, Used 199203, Requested 6245. Please try again in 1.634s. Visit https://platform.openai.com/account/rate-limits to learn more.', 'type': 'tokens', 'param': None, 'code': 'rate_limit_exceeded'}}. Set `provide_traceback=True` to see the stack trace.\n"
     ]
    },
    {
     "name": "stdout",
     "output_type": "stream",
     "text": [
      "Average Metric: 0.00 / 0 (0%):  28%|██▊       | 7/25 [00:06<00:17,  1.03it/s]"
     ]
    },
    {
     "name": "stderr",
     "output_type": "stream",
     "text": [
      "2025/03/11 11:27:10 ERROR dspy.utils.parallelizer: Error processing item Example({'text': 'I discovered this film after reading the book that inspired it. It is not a strictly biographical film; it is \"loosely based\" on the facts. But I found it a compelling and eerie exploration of evil and madness, and Michel Serrault gives an unforgettable performance as Dr. Petiot.<br /><br />There are many memorable images in this movie; Petiot traveling through the night like a vampire, his black cloak flapping behind him, is almost iconic. There are also several touches of expressionism - Petiot\\'s crooked silhouette mounting the stairs leading from the cellar where the butchered remains of his victims await cremation, reminds me of some scenes from \\'Nosferatu\\'.<br /><br />But I found the primary appeal of this movie to be aural. The soundtrack is loaded with ominous sounds, starting with the foreboding music of the opening credits, accompanied by wordless wailing. Petiot lives and runs his medical practice in a complex with many small shops, and there is a persistent background noise of knives being sharpened somewhere, as well as a peddler playing eerie tunes on a saw. There are animal noises as well - the concierge keeps a goat, unseen cats howl - and later in the film we see hapless cattle being herded through an underpass. The whole atmosphere is unsettling, with overtones of violence and slaughter.<br /><br />Not only animals, but human voices are often heard - the screams of Gestapo victims, Petiot\\'s patients in his waiting room, monitored by a listening device, just the same as the suspected collaborators after the war are monitored in their cells. Even the action of the film is often arranged so that we hear the voices of the participants without seeing them - when Petiot goes to see Mme Kern, we hear her singing as she works, her voice echoing in the theater, before we ever see her. And even when she does appear, she is often filmed from behind, her voice calling out to her husband, whose voice calls out to her in conversation. Disembodied voices echo in large halls, and their owners, when seen at all, are photographed at a distance, so we cannot actually see them speaking. This is a ghost story, and these are the voices of ghosts - many of them Petiot\\'s future victims.<br /><br />Yet Petiot himself is often only a voice; his frightening laughter echoes as he retreats from the camera, throwing comments behind him or into the air to nobody. In a way, he is as much a ghost as those he murders. He is always frantically busy, scurrying from appointment to appointment, never at rest. But his activity is that of a machine - lifeless and imperturbable. It is interesting that among all the horror and danger of occupied Paris, Petiot alone is unafraid; he is amused, enthusiastic, angry, irritated, contemptuous, but never afraid, unlike those real people he lures to their deaths. It is no surprise that he boasts of his mechanical inventions, including a perpetual motion machine (a true detail from the book - he did claim to have invented many machines); he is a sort of perpetual motion machine himself. And mechanical imagery is everywhere in the film, from the opening giant wheel in the movie house, to Petiot\\'s bicycle (with its squeaking wheels echoing the sound of sharpening knives), to the Victrola he keeps winding up to play music before he makes a kill. Even his routine with his victims is mechanical - write a note to your wife, let me disguise you before you leave, you need a vaccination, Barcelona, Casablanca, Dakar - like a well-oiled machine, the routine is always the same, just as the record is always the same.<br /><br />Maeder, the author, says that it was the clockwork perfection of his crimes that weighed so heavily against Petiot at his trial. His system was as smooth and efficient as a Nazi concentration camp, and this may be why the movie invents a subplot of Petiot\\'s involvement with the French Gestapo and the occupying Nazis. Unfortunately, it doesn\\'t quite work as part of the story, because it\\'s very hard to figure out just what Petiot is doing for the collaborators, or what is going on when he ends up at their headquarters in the middle of the night. Disposing of bodies? Hiding stolen goods? It\\'s hard to say, and harder to believe; it\\'s not likely the state would turn to a freelancer like Petiot.<br /><br />But it does remind us of the duality of evil people; Petiot is a robber and a murderer, but he is also a devoted father and husband. Just as we learned that Hitler loved dogs, and that Nazis guilty of the worst war crimes could also be loving fathers and family men, so we have to recognize that Petiot could commit unspeakable horrors and yet also function normally. His insanity is easily camouflaged by the insanity and horror of the wartime situation in Paris; when killing, robbing and disappearing are happening all around, nobody pays attention as Petiot tosses more corpses on the pile.', 'sentiment': 'positive'}) (input_keys={'text'}): litellm.RateLimitError: RateLimitError: OpenAIException - Error code: 429 - {'error': {'message': 'Rate limit reached for gpt-3.5-turbo in organization org-nS9hIqZFvGLn1kCX8ZWaZkba on tokens per min (TPM): Limit 200000, Used 198446, Requested 7228. Please try again in 1.702s. Visit https://platform.openai.com/account/rate-limits to learn more.', 'type': 'tokens', 'param': None, 'code': 'rate_limit_exceeded'}}. Set `provide_traceback=True` to see the stack trace.\n"
     ]
    },
    {
     "name": "stdout",
     "output_type": "stream",
     "text": [
      "Average Metric: 0.00 / 0 (0%):  36%|███▌      | 9/25 [00:06<00:10,  1.59it/s]"
     ]
    },
    {
     "name": "stderr",
     "output_type": "stream",
     "text": [
      "2025/03/11 11:27:13 INFO dspy.teleprompt.mipro_optimizer_v2: Score: 0.0 on minibatch of size 25 with parameters ['Predictor 0: Instruction 2', 'Predictor 0: Few-Shot Set 3'].\n",
      "2025/03/11 11:27:13 INFO dspy.teleprompt.mipro_optimizer_v2: Minibatch scores so far: [92.0, 0.0, 0.0, 0.0, 0.0, 0.0]\n",
      "2025/03/11 11:27:13 INFO dspy.teleprompt.mipro_optimizer_v2: Full eval scores so far: [93.75]\n",
      "2025/03/11 11:27:13 INFO dspy.teleprompt.mipro_optimizer_v2: Best full score so far: 93.75\n",
      "2025/03/11 11:27:13 INFO dspy.teleprompt.mipro_optimizer_v2: =========================================\n",
      "\n",
      "\n",
      "2025/03/11 11:27:13 INFO dspy.teleprompt.mipro_optimizer_v2: == Trial 8 / 34 - Minibatch ==\n"
     ]
    },
    {
     "name": "stdout",
     "output_type": "stream",
     "text": [
      "Exception occurred: litellm.RateLimitError: RateLimitError: OpenAIException - Error code: 429 - {'error': {'message': 'Rate limit reached for gpt-3.5-turbo in organization org-nS9hIqZFvGLn1kCX8ZWaZkba on requests per min (RPM): Limit 500, Used 500, Requested 1. Please try again in 120ms. Visit https://platform.openai.com/account/rate-limits to learn more.', 'type': 'requests', 'param': None, 'code': 'rate_limit_exceeded'}}\n",
      "  0%|          | 0/25 [00:00<?, ?it/s]"
     ]
    },
    {
     "name": "stderr",
     "output_type": "stream",
     "text": [
      "2025/03/11 11:27:16 ERROR dspy.utils.parallelizer: Error processing item Example({'text': 'This movie is like real life, by which I mean - not a lot happens in the available 2 hours or so, and not much game plan or plot is evidenced by the frequently invisible cast (their invisibility being due to the \"experimental\" lighting as mentioned by many reviewers). <br /><br />A big bore. No big surprise that Altman helms this - he is a very variable performer (yes we all loved \"Gosford Park\", but \"Pret A Porter\" anyone? Kansas City? Dr T. and the Women? Aaargh), but the fact that the raw material is a John Grisham tale, and the excellent cast that you will perceive through the gathering gloaming of your insistent slumber - makes this truly a masterpiece of bad film. And no, it is not \"so bad it\\'s good\".<br /><br />It\\'s just bad.', 'sentiment': 'negative'}) (input_keys={'text'}): litellm.RateLimitError: RateLimitError: OpenAIException - Error code: 429 - {'error': {'message': 'Rate limit reached for gpt-3.5-turbo in organization org-nS9hIqZFvGLn1kCX8ZWaZkba on requests per min (RPM): Limit 500, Used 500, Requested 1. Please try again in 120ms. Visit https://platform.openai.com/account/rate-limits to learn more.', 'type': 'requests', 'param': None, 'code': 'rate_limit_exceeded'}}. Set `provide_traceback=True` to see the stack trace.\n"
     ]
    },
    {
     "name": "stdout",
     "output_type": "stream",
     "text": [
      "Average Metric: 0.00 / 0 (0%):   4%|▍         | 1/25 [00:03<01:20,  3.35s/it]"
     ]
    },
    {
     "name": "stderr",
     "output_type": "stream",
     "text": [
      "2025/03/11 11:27:17 ERROR dspy.utils.parallelizer: Error processing item Example({'text': 'Although it has been remade several times, this movie is a classic if you are seeing it for the first time. Creative dialog, unique genius in the final scene, it deserves more credit than critics have given it. Highly recommended, one of the best comedies of recent years', 'sentiment': 'positive'}) (input_keys={'text'}): litellm.RateLimitError: RateLimitError: OpenAIException - Error code: 429 - {'error': {'message': 'Rate limit reached for gpt-3.5-turbo in organization org-nS9hIqZFvGLn1kCX8ZWaZkba on tokens per min (TPM): Limit 200000, Used 195361, Requested 6082. Please try again in 432ms. Visit https://platform.openai.com/account/rate-limits to learn more.', 'type': 'tokens', 'param': None, 'code': 'rate_limit_exceeded'}}. Set `provide_traceback=True` to see the stack trace.\n"
     ]
    },
    {
     "name": "stdout",
     "output_type": "stream",
     "text": [
      "Average Metric: 0.00 / 0 (0%):   4%|▍         | 1/25 [00:03<01:20,  3.35s/it]"
     ]
    },
    {
     "name": "stderr",
     "output_type": "stream",
     "text": [
      "2025/03/11 11:27:17 ERROR dspy.utils.parallelizer: Error processing item Example({'text': 'This movie was crap with a capital \"C.\" The opening scene showed promise. But that \"promise\" was broken shortly after the viewer learns where the plot is going.<br /><br />And the wooden statue, Morty, who was rather creepy in the original film, looks plain goofy in this one. It was so obviously just a guy in a cheap plastic costume. (And by the way, who else thinks \"Morty\" is one of the most un-scary names on planet earth? It ranks right up there with \"Jimmy\" or \"Fred\" when it comes to horror value. Or why not just name the wooden statute Henry-freakin\\'-Kissinger. \"Run, it\\'s Dr. Kissinger!\" That\\'d be about as scary as \"Morty.)<br /><br />And then there\\'s a scene where the \"hero\" hits his father\\'s tombstone with---\"a sledgehammer?\" you might guess--\"a two-by-four?\" someone might venture. No, he angrily beats his father\\'s tombstone with a twig---a freakin\\' twig. But worse than that, once the characters walk away, the tombstone actually, and inexplicably, bleeds. Oh brother!<br /><br />There\\'s also a Native American guy who lives with the main character\\'s grandparents, but apparently, does nothing except Morty-maintenance. He perpetuates creepy Morty-legends, warns those who scoff, and even fixes Morty\\'s arm when it becomes damaged during a childish prank. But for all his respect for and tenderness toward Morty, does Morty give a rat\\'s hairy behind? No.<br /><br />The movie drags on, and eventually several people die in ways that correspond to their worst fears (sort of). This film is a real yawner. Don\\'t rent it.', 'sentiment': 'negative'}) (input_keys={'text'}): litellm.RateLimitError: RateLimitError: OpenAIException - Error code: 429 - {'error': {'message': 'Rate limit reached for gpt-3.5-turbo in organization org-nS9hIqZFvGLn1kCX8ZWaZkba on tokens per min (TPM): Limit 200000, Used 195317, Requested 6399. Please try again in 514ms. Visit https://platform.openai.com/account/rate-limits to learn more.', 'type': 'tokens', 'param': None, 'code': 'rate_limit_exceeded'}}. Set `provide_traceback=True` to see the stack trace.\n"
     ]
    },
    {
     "name": "stdout",
     "output_type": "stream",
     "text": [
      "Average Metric: 0.00 / 0 (0%):  12%|█▏        | 3/25 [00:03<00:20,  1.09it/s]"
     ]
    },
    {
     "name": "stderr",
     "output_type": "stream",
     "text": [
      "2025/03/11 11:27:17 ERROR dspy.utils.parallelizer: Error processing item Example({'text': 'Bloodsuckers has the potential to be a somewhat decent movie, the concept of military types tracking down and battling vampires in space is one with some potential in the cheesier realm of things. Even the idea of the universe being full of various different breeds of vampire, all with different attributes, many of which the characters have yet to find out about, is kind of cool as well. As to how most of the life in the galaxy outside of earth is vampire, I\\'m not sure how the makers meant for that to work, given the nature of vampires. Who the hell they are meant to be feeding on if almost everyone is a vampire I don\\'t know. As it is the movie comes across a low budget mix of Firefly/Serenity and vampires movies with a dash of Aliens.<br /><br />The action parts of the movie are pretty average and derivative (Particularly of Serenity) but passable- they are reasonably well executed and there is enough gore for a vampire flick, including some of the comical blood-spurting variety. There is a lot of character stuff, most of which is tedious, coming from conflicts between characters who mostly seem like whiny, immature arseholes- primarily cowboy dude and Asian woman. There are a few character scenes that actually kind of work and the actors don\\'t play it too badly but it mostly slows things down. A nice try at fleshing the characters out but people don\\'t watch a movie called Bloodsuckers for character development and drama. The acting is actually okay. Michael Ironside hams it up and is as fun to watch as ever and at least of a couple of the women are hot. The space SFX aren\\'t too bad for what is clearly a low budget work. The story is again pretty average and derivative but as I said the world created has a little bit of potential. The way things are set up Bloodsuckers really does seem like the pilot for a TV series- character dynamics introduced, the world introduced but not explored, etc. <br /><br />The film does have a some highlights and head scratching moments- the kind of stuff that actually makes these dodgy productions watchable. -The scene where our heroes interrogate a talking sock puppet chestburster type creature. Hilarious. - The \"sex scene.\" WTF indeed. -The credit \"And Michael Ironside as Muco.\" The most annoying aspect of it all though is the really awful and usually inappropriate pop music they have playing very loud over half the scenes of the movie. It is painful to listen to and only detracts from what is only average at best.<br /><br />Basically an okay watch is you\\'re up for something cheesy, even if it is just for the \"chestburster\" scene.', 'sentiment': 'negative'}) (input_keys={'text'}): litellm.RateLimitError: RateLimitError: OpenAIException - Error code: 429 - {'error': {'message': 'Rate limit reached for gpt-3.5-turbo in organization org-nS9hIqZFvGLn1kCX8ZWaZkba on requests per min (RPM): Limit 500, Used 500, Requested 1. Please try again in 120ms. Visit https://platform.openai.com/account/rate-limits to learn more.', 'type': 'requests', 'param': None, 'code': 'rate_limit_exceeded'}}. Set `provide_traceback=True` to see the stack trace.\n"
     ]
    },
    {
     "name": "stdout",
     "output_type": "stream",
     "text": [
      "Average Metric: 0.00 / 0 (0%):  12%|█▏        | 3/25 [00:03<00:20,  1.09it/s]"
     ]
    },
    {
     "name": "stderr",
     "output_type": "stream",
     "text": [
      "2025/03/11 11:27:17 ERROR dspy.utils.parallelizer: Error processing item Example({'text': \"I seriously love this film so much, I never get sick of watching it. The only line I really can't stomach in this is when Riff calls herself a teenage lobotomy but other than that, everything else is perfect. I've never been a fan of PJ Soles and it didn't help to hear that she didn't even know who the Ramones were until she filmed this movie, but I can ignore her snarly little face for the most part. Most people who watch this over and over are fans of the Ramones and really.. that's the only reason I love it so much. I never get tired of seeing DeeDee mess up his Pizza lines or Joey mess up the name of the teacher over and over, haha. One of the best parts of the film is seeing them sing do you want to dance , down the halls of the high school.. I love it. The special edition DVD has a good retrospective, surprisingly PJ Soles isn't on it. Maybe she was working on another project *laugh* Anyway, great film, even better if you're a Ramones fan.\", 'sentiment': 'positive'}) (input_keys={'text'}): litellm.RateLimitError: RateLimitError: OpenAIException - Error code: 429 - {'error': {'message': 'Rate limit reached for gpt-3.5-turbo in organization org-nS9hIqZFvGLn1kCX8ZWaZkba on requests per min (RPM): Limit 500, Used 500, Requested 1. Please try again in 120ms. Visit https://platform.openai.com/account/rate-limits to learn more.', 'type': 'requests', 'param': None, 'code': 'rate_limit_exceeded'}}. Set `provide_traceback=True` to see the stack trace.\n"
     ]
    },
    {
     "name": "stdout",
     "output_type": "stream",
     "text": [
      "Average Metric: 0.00 / 0 (0%):  16%|█▌        | 4/25 [00:03<00:19,  1.09it/s]"
     ]
    },
    {
     "name": "stderr",
     "output_type": "stream",
     "text": [
      "2025/03/11 11:27:17 ERROR dspy.utils.parallelizer: Error processing item Example({'text': \"A year or so ago, I was watching the TV news when a story was broadcast about a zombie movie being filmed in my area. Since then I have paid particular attention to this movie called 'Fido' as it finished production and began playing at festivals. Two weeks ago Fido began playing in my local theater. And, just yesterday, I read a newspaper article which stated Fido is not attracting audiences in it's limited release, with the exception of our local theater. In fact, here it is outdrawing all other shows at The Paramount Theater, including 300. Of course, this makes sense as many locals want to see their city on screen or spot themselves roaming around in zombie make-up. And for any other locals who haven't seen Fido yet but are considering it, I can say there are many images on screen, from the school to city park to the forbidden zone, that you will recognize. In fact, they make the Okanagan Valley look beautiful. That's right beautiful scenery in a zombie movie! However, Fido itself is a very good movie. Yes, despite its flaws, it is better then most of the 20 other movies playing in my local market. Fido is best described as an episode of Lassie in which the collie has been replaced by a member of the undead. This is a clever premise. And the movie even goes further by taking advantage of the 1950's emphasize on conformity and playing up the cold-war paranoia which led to McCarthyism. Furthermore, it builds on the notion that zombies can be tamed or trained which George Romero first introduced in Day Of The Dead.<br /><br />K'Sun Ray plays a small town boy who's mother (Carrie-Ann Moss) longs for a zombie servant so she can be like all the other house wives on her block. However, his dad (Dylan Baker) is against the idea as he once had to kill his own 'zombie father'. Eventually, the family does acquire a zombie named 'Fido' (played by Billy Connolly), and adjusts to life with the undead. Billy Connolly was inspired casting. He is able to convey Fido's confusion, longing, hatred, and loyalty through only his eyes, lumbering body, and grunts. Connolly shows that he can play understated characters better than his outrageously comedic ones. This is his best role since Mrs. Brown.<br /><br />Fido follows in the footsteps of other recent zomcoms such as Shawn Of The Dead and Zombie Honeymoon. Being someone who appreciates Bruce Campbell and Misty Mundae movies more than Eli Roth and Jigsaw ones, I prefer humor over gore in my horror. However, I understand the criticism of those horror fans who feel there is not enough 'undead carnage' in Fido. Yet, I am sure patient viewers will be rewarded by the films gentle humor.<br /><br />The movie does break down in it's third act. It's as if the writers were so wrapped up in the cute premise of domesticated zombies in the 1950s, they forgot about the story arc. However, given my interest in horror comedies and my appreciation for seeing the neighborhood on screen, I rate Fido 9 out of 10.\", 'sentiment': 'positive'}) (input_keys={'text'}): litellm.RateLimitError: RateLimitError: OpenAIException - Error code: 429 - {'error': {'message': 'Rate limit reached for gpt-3.5-turbo in organization org-nS9hIqZFvGLn1kCX8ZWaZkba on tokens per min (TPM): Limit 200000, Used 194711, Requested 6760. Please try again in 441ms. Visit https://platform.openai.com/account/rate-limits to learn more.', 'type': 'tokens', 'param': None, 'code': 'rate_limit_exceeded'}}. Set `provide_traceback=True` to see the stack trace.\n"
     ]
    },
    {
     "name": "stdout",
     "output_type": "stream",
     "text": [
      "Average Metric: 0.00 / 0 (0%):  24%|██▍       | 6/25 [00:03<00:07,  2.59it/s]"
     ]
    },
    {
     "name": "stderr",
     "output_type": "stream",
     "text": [
      "2025/03/11 11:27:20 ERROR dspy.utils.parallelizer: Error processing item Example({'text': 'I think that my favorite part of this movie, the one that exemplifies the sheer pointless, stupidity and inanity of the proceedings, comes at the climax of the film. DOCTOR TED NELSON and his unmarried friend the Sheriff have finally cornered the Melting Man on a landing on some stairs in an electrical generating plant. Keep in mind that Nelson has been looking for the MM for nearly the entire film, and that the MM has killed and eaten several people at this point (including his boss), and Nelson is very aware that MM is violently insane and hungry for human flesh and blood.<br /><br />So the Sheriff has his gun pointed at MM, who is, and I give the movie and Rick Baker props for this, the most disgusting and terrifying object in human form that we have ever seen. And he yells a very important question to DOCTOR TED NELSON: \"WHAT DO WE DO NOW?!?!?\" <br /><br />The camera cuts over to DOCTOR TED NELSON, and it\\'s obvious that Ted has no idea what to do next. Apparently Ted was so intent on the problem of FINDING the Melting Man, he never thought to bring along some restraining devices, a lasso, or straitjacket, or a net, or some tranquilizer darts, or maybe a New Age tape by Vangelis to soothe the savage beast.<br /><br />So the sheriff panics and shoots, the Melting Man goes berserk, and hilarity ensues. <br /><br />Maybe this explains why NASA has been screwing around with the Space Shuttle program in sub-lunar space for the last 30 years instead of going back to the Moon or out to Mars like everyone knows they OUGHT to be doing. I dunno.<br /><br />Anyway, that\\'s the kind of lousy, lazy writing and direction that undercuts every aspect of this movie. It\\'s hard to say how good the actors actually are, because the movie has complete contempt for their characters.<br /><br />Two other incredibly painful sequences also ramp up the stupidity of the proceedings: There is a scene featuring the lumpiest old couple in the world trying to steal lemons from a grove, only to be torn apart by the Melting Man. This scene is a nadir in 70s cinema. I can guarantee you\\'ve never watched a more pointless and irritating setup with odder looking people in your entire life. And the Melting Man\\'s assault on the lady who lives in the house where they keep a horse who pees on the walls defies every attempt to process it.(BTW, I think famous film director Jonathon Demme has a walk-on in this scene as the redneck husband who goes in first to check on the house and never comes out again). The only thing that keeps the actress from literally chewing the scenery is that, as I said, their horse has apparently been peeing on it. And we are forced to watch her hysterics for at least two minutes longer than any SANE film director would hold the shot. <br /><br />Burr DeBenning ought to beat the crap out of IMM\\'s director and photographer. I remember him from an old Columbo episode where he looked MUCH better than he does here - no one\\'s idea of a leading man, but solid and unobtrusive. But no one could possibly be as unappealing in real life as his director makes him look here. <br /><br />Everyone else comes off a little better except for the old couple (and shut up, I know they were being played for laughs, but I ain\\'t laughing!) but not much. <br /><br />This definitely falls into the \\'So Bad You Can\\'t Look Away\\' category of cinema disasters. Still, I\\'d watch it again before I\\'d watch a lot of other 70\\'s and 80\\'s abortions ( \"Track of The Moonbeast\" and \"It Lives By Night\" come to mind), and MST\\'s coverage of it is great fun, so if you get a chance, watch the MST version.', 'sentiment': 'negative'}) (input_keys={'text'}): litellm.RateLimitError: RateLimitError: OpenAIException - Error code: 429 - {'error': {'message': 'Rate limit reached for gpt-3.5-turbo in organization org-nS9hIqZFvGLn1kCX8ZWaZkba on tokens per min (TPM): Limit 200000, Used 197533, Requested 6917. Please try again in 1.335s. Visit https://platform.openai.com/account/rate-limits to learn more.', 'type': 'tokens', 'param': None, 'code': 'rate_limit_exceeded'}}. Set `provide_traceback=True` to see the stack trace.\n"
     ]
    },
    {
     "name": "stdout",
     "output_type": "stream",
     "text": [
      "Average Metric: 0.00 / 0 (0%):  24%|██▍       | 6/25 [00:06<00:07,  2.59it/s]"
     ]
    },
    {
     "name": "stderr",
     "output_type": "stream",
     "text": [
      "2025/03/11 11:27:20 ERROR dspy.utils.parallelizer: Error processing item Example({'text': \"Wes Craven, you are having a laugh... at our expense. The Red Eye plot is preposterous... We are confronted by a guy who has apparently spent 8 weeks watching a girl, who then turns up at an airport behind her, flirts and chats her up successfully, somehow wangles a seat next to her in a two seat space, not trapped in the middle of a five seat row (contacts at check-in?) and is cheezily nice during a painfully slooooow build up. Then, once up in the air, in a confined space, surrounded by strangers, he immediately starts threatening the vacuous, if super-efficient, Rachel McAdams and saying tosh like 'we got ya daddy, do what I say, or poppa gets it'. Well, forgive me, but didn't they already have her daddy ready for slaughter-so-you-better-oughta long before she stepped on the plane and therefore wouldn't it have been oh, sooooooo much simpler to simply snatch the gal off the street and terrorise her in a room somewhere, forgetting the complicated and insecure dad plot, pulling her nails out or whatever until she made the all important 'call' required? Or even - cos this is the movies and we need a few unreal twists - keep the dumb dad-in-distress thing intact if you must, but dress it up better so that holding him in harms way until the convoluted plot had been concluded made some sense, without the plane dumbdown? Alternatively, without wanting to sound like an actual thinking terrorist/assassin - couldn't the massive bazooka-missile thang employed have been far more easily used on, say, a car driving down the highway, with the politician inside, rather than the 50th story of a Miami seafront hotel, from a fishing boat (mind you, as we already know, security in Miami is lax, so they'll speed away)? I know, I know, far more fun to go through watching a pretty girl for 8 weeks, burgle her dads house to steal his wallet (that somehow - star trek style - gets transported from Miami to Texas instantly) in order to - perhaps - get her to arrange for a politician to change hotel room and, and, and... Well, a thousand things could go wrong here, each one entirely destroying the Big Plan, so why not slim the elements down to a sensible handful, such as - 1. bazooka. 2. car. 3. boom! My 50 minute drive home from the cinema was spent highlighting the abundance of flaws and stupid cod-Hitchcockian twists, which sadly was the best fun of the whole sorry experience. And as for security back at Miami Airport... we have an apparently crazy and violent girl running off a plane, chased by cops, who during the chase sits down to have a coffee, moves elsewhere to read a magazine at a bar, then runs again like crazy up and down the whole terminal... by now also chased by crazed Cillian Murphy (no CCTV then? - I had guns pulled on me for parking in the wrong place for 10 seconds at Miami Airport a couple of years back). So instead of speaking to the cops - her allies - or getting on the blower at a call-box direct to her dad to warn him his life is in danger, McAdams prefers instead to steal a People Carrier off a family in the Airport forecourt (call the damned security...) and drives home to daddy, mowing down the assassin with the vehicle in the front garden of the house, in a rich neighbourhood-watch district, crushing the front porch in the process - an act which actually slightly wakes dad up from an afternoon snooze, after about a minute, yet which somehow fails to register with neighbours who aren't even mildly curious, thus ensuring 15 more minutes of hide and seek shenanigans as the duo run around the vast Hollodeck type house... Dohhh, it actually hurts to keep thinking about it all - Cillian (surely renamed Silly 'un for doing this one?) preposterously turns from ice assassin to comically unhinged (and inept) lunatic killer at the end, this theoretically ruthless despatcher of human life now allowing the dad to live so that he can watch his daughter getting her goose cooked. I'd better stop, because the stream of drivel I'm writing here must sound as uncoordinated as the Red Eye script. If Ms McAdams hadn't been allowed to get on the plane in the first place the title could have been altered, from 'Red Eye' to 'No Eye, Dear'. RR\", 'sentiment': 'negative'}) (input_keys={'text'}): litellm.RateLimitError: RateLimitError: OpenAIException - Error code: 429 - {'error': {'message': 'Rate limit reached for gpt-3.5-turbo in organization org-nS9hIqZFvGLn1kCX8ZWaZkba on tokens per min (TPM): Limit 200000, Used 197371, Requested 7064. Please try again in 1.33s. Visit https://platform.openai.com/account/rate-limits to learn more.', 'type': 'tokens', 'param': None, 'code': 'rate_limit_exceeded'}}. Set `provide_traceback=True` to see the stack trace.\n"
     ]
    },
    {
     "name": "stdout",
     "output_type": "stream",
     "text": [
      "Average Metric: 0.00 / 0 (0%):  32%|███▏      | 8/25 [00:06<00:13,  1.22it/s]"
     ]
    },
    {
     "name": "stderr",
     "output_type": "stream",
     "text": [
      "2025/03/11 11:27:20 ERROR dspy.utils.parallelizer: Error processing item Example({'text': 'While the 3-D animation (the highlight of the show) did it\\'s job well, most other elements fell flat. It was as though the filmmakers thought \"well, it\\'s gonna be 3-D so we don\\'t have to work that hard on the plot or character development.\" And the fact that it\\'s a children\\'s movie is absolutely no excuse. The public is drawn to three dimensional characters (Shrek, Nemo\\'s Dad) just as much as they are drawn to three dimensional graphics. The only dimension any of the main characters showed was two dimensional Scooter who twists the plot from time to time with his compulsion to eat everything in sight.<br /><br />And the absolute kicker? Buzz Aldrin\\'s appearance at the very end (after watching a very robotic cartoon version of the same historical figure for an hour and half) comes on the screen and ruins everyone\\'s good time by calling the film\\'s main characters \"contaminants\" and announcing that the situation put forth on screen was actually an impossibility.<br /><br />???!!!??? Did you just wanna tell the kids the Easter Bunny and Santa Claus don\\'t exist while you\\'re at it?', 'sentiment': 'negative'}) (input_keys={'text'}): litellm.RateLimitError: RateLimitError: OpenAIException - Error code: 429 - {'error': {'message': 'Rate limit reached for gpt-3.5-turbo in organization org-nS9hIqZFvGLn1kCX8ZWaZkba on tokens per min (TPM): Limit 200000, Used 197149, Requested 6288. Please try again in 1.031s. Visit https://platform.openai.com/account/rate-limits to learn more.', 'type': 'tokens', 'param': None, 'code': 'rate_limit_exceeded'}}. Set `provide_traceback=True` to see the stack trace.\n"
     ]
    },
    {
     "name": "stdout",
     "output_type": "stream",
     "text": [
      "Average Metric: 0.00 / 0 (0%):  32%|███▏      | 8/25 [00:06<00:13,  1.22it/s]"
     ]
    },
    {
     "name": "stderr",
     "output_type": "stream",
     "text": [
      "2025/03/11 11:29:30 INFO dspy.teleprompt.mipro_optimizer_v2: Score: 0.0 on minibatch of size 25 with parameters ['Predictor 0: Instruction 9', 'Predictor 0: Few-Shot Set 5'].\n",
      "2025/03/11 11:29:30 INFO dspy.teleprompt.mipro_optimizer_v2: Minibatch scores so far: [92.0, 0.0, 0.0, 0.0, 0.0, 0.0, 0.0]\n",
      "2025/03/11 11:29:30 INFO dspy.teleprompt.mipro_optimizer_v2: Full eval scores so far: [93.75]\n",
      "2025/03/11 11:29:30 INFO dspy.teleprompt.mipro_optimizer_v2: Best full score so far: 93.75\n",
      "2025/03/11 11:29:30 INFO dspy.teleprompt.mipro_optimizer_v2: =========================================\n",
      "\n",
      "\n",
      "2025/03/11 11:29:30 INFO dspy.teleprompt.mipro_optimizer_v2: == Trial 9 / 34 - Minibatch ==\n"
     ]
    },
    {
     "name": "stdout",
     "output_type": "stream",
     "text": [
      "Exception occurred: litellm.RateLimitError: RateLimitError: OpenAIException - Error code: 429 - {'error': {'message': 'Rate limit reached for gpt-3.5-turbo in organization org-nS9hIqZFvGLn1kCX8ZWaZkba on tokens per min (TPM): Limit 200000, Used 197052, Requested 6493. Please try again in 1.063s. Visit https://platform.openai.com/account/rate-limits to learn more.', 'type': 'tokens', 'param': None, 'code': 'rate_limit_exceeded'}}\n",
      "Average Metric: 23.00 / 25 (92.0%): 100%|██████████| 25/25 [00:05<00:00,  4.17it/s] "
     ]
    },
    {
     "name": "stderr",
     "output_type": "stream",
     "text": [
      "2025/03/11 11:29:36 INFO dspy.evaluate.evaluate: Average Metric: 23 / 25 (92.0%)\n",
      "2025/03/11 11:29:36 INFO dspy.teleprompt.mipro_optimizer_v2: Score: 92.0 on minibatch of size 25 with parameters ['Predictor 0: Instruction 7', 'Predictor 0: Few-Shot Set 4'].\n",
      "2025/03/11 11:29:36 INFO dspy.teleprompt.mipro_optimizer_v2: Minibatch scores so far: [92.0, 0.0, 0.0, 0.0, 0.0, 0.0, 0.0, 92.0]\n",
      "2025/03/11 11:29:36 INFO dspy.teleprompt.mipro_optimizer_v2: Full eval scores so far: [93.75]\n",
      "2025/03/11 11:29:36 INFO dspy.teleprompt.mipro_optimizer_v2: Best full score so far: 93.75\n",
      "2025/03/11 11:29:36 INFO dspy.teleprompt.mipro_optimizer_v2: =========================================\n",
      "\n",
      "\n",
      "2025/03/11 11:29:36 INFO dspy.teleprompt.mipro_optimizer_v2: == Trial 10 / 34 - Minibatch ==\n"
     ]
    },
    {
     "name": "stdout",
     "output_type": "stream",
     "text": [
      "\n",
      "Average Metric: 3.00 / 4 (75.0%):  16%|█▌        | 4/25 [00:01<00:06,  3.09it/s]"
     ]
    },
    {
     "name": "stderr",
     "output_type": "stream",
     "text": [
      "2025/03/11 11:29:39 ERROR dspy.utils.parallelizer: Error processing item Example({'text': \"I am a huge fan of the comic book series, but this movie fell way below my expectations. I expected a Heavy Metal 2000 kinda feel to it.....slow moving, bad dialogue, lots o' blood.....but this was worse than anything I could have imagined. <br /><br />The plot line is almost the same as the comic, but the good points pretty much stop there. The characters don't have the energy or spirit that drew my attention in the comic series. The movie only covers a small portion of the comic, and the portion used is more slow and boring than later parts. The focus in the movie is on the insignificant events instead of the more interesting overall plot of the comic book.<br /><br />With the right people working on this project, it could have been amazing. Sadly, it wasn't that way, so now there is yet another terrible movie that few will see and even fewer will love. My copy will surely collect dust for years until I finally throw it out.\", 'sentiment': 'negative'}) (input_keys={'text'}): litellm.RateLimitError: RateLimitError: OpenAIException - Error code: 429 - {'error': {'message': 'Rate limit reached for gpt-3.5-turbo in organization org-nS9hIqZFvGLn1kCX8ZWaZkba on tokens per min (TPM): Limit 200000, Used 196264, Requested 6073. Please try again in 701ms. Visit https://platform.openai.com/account/rate-limits to learn more.', 'type': 'tokens', 'param': None, 'code': 'rate_limit_exceeded'}}. Set `provide_traceback=True` to see the stack trace.\n"
     ]
    },
    {
     "name": "stdout",
     "output_type": "stream",
     "text": [
      "Average Metric: 3.00 / 4 (75.0%):  20%|██        | 5/25 [00:03<00:17,  1.14it/s]"
     ]
    },
    {
     "name": "stderr",
     "output_type": "stream",
     "text": [
      "2025/03/11 11:29:39 ERROR dspy.utils.parallelizer: Error processing item Example({'text': \"I just finished watching this movie. It wasn't ridiculously bad, but I'm really disappointed with it. I'm not really sure why someone would make a movie like this. It was marginally entertaining, but I feel like the people making it had a lot of disagreements on what they were making. Monday, the writer was in charge; Tuesday, the director; Wednesday, the guy who gets the coffee; etc. It almost seems like they really wanted to make a couple different movies, but only had the time and money to make one.<br /><br />Someone else commented that the acting was really good, but I'd have to disagree. Then again, if the actors were able to keep a straight face during the filming, perhaps they're better actors than I give them credit for.<br /><br />The back of the DVD gives the impression that the movie would be a mystery... something along the lines of a historical Law and Order or National Treasure. It starts off like that, but then, out of nowhere it takes a turn towards a bad episode of the Twilight Zone, or... what was that other show that wasn't as good... A bad episode of The Outer Limits.<br /><br />My main complaint about the movie is that it is just so played out. There's the evil guy with spiked white hair. There's the love interest, who, when she first appears, the wind actually blows through her hair. Seriously. Once you realize it's a Christian movie, the end is also pretty easy to spot.<br /><br />The cinematography was poorly done, especially in the opening scenes - way to put your best foot forward. It wasn't atrocious for most of the movie, but there was the occasional ridiculously bad shot of an old lady, praying, arms up in a dark room while lightening is striking - the sort of thing that just makes you a little bit embarrassed to be watching the movie.\", 'sentiment': 'negative'}) (input_keys={'text'}): litellm.RateLimitError: RateLimitError: OpenAIException - Error code: 429 - {'error': {'message': 'Rate limit reached for gpt-3.5-turbo in organization org-nS9hIqZFvGLn1kCX8ZWaZkba on tokens per min (TPM): Limit 200000, Used 195707, Requested 6287. Please try again in 598ms. Visit https://platform.openai.com/account/rate-limits to learn more.', 'type': 'tokens', 'param': None, 'code': 'rate_limit_exceeded'}}. Set `provide_traceback=True` to see the stack trace.\n"
     ]
    },
    {
     "name": "stdout",
     "output_type": "stream",
     "text": [
      "Average Metric: 3.00 / 4 (75.0%):  24%|██▍       | 6/25 [00:03<00:12,  1.54it/s]"
     ]
    },
    {
     "name": "stderr",
     "output_type": "stream",
     "text": [
      "2025/03/11 11:29:40 ERROR dspy.utils.parallelizer: Error processing item Example({'text': \"It is obviously illegal. Pedophiles pray on stuff like this. How did they get away with making such a movie? This movie is all summed up in one word, SICK. Where do people get off making, and watching these kinds of films. As I was watching the movie I didn't actually think they would allow this kid that is say maybe 12 if that actually sleep with this woman. Sorry if this is a spoiler to you but I would have rater not seen this. Where has the sanity of these people gone? Maybe the makers of this movie are pedophiles? Our society today is filled with all types of sexual predators that pray upon children, yet film makers make these types of movies that do nothing but provoke this type of behavior. I noticed that on a previous comment someone asked if there was a version where it showed them naked. This is a kid here, and someone is asking something like this? What is wrong with this picture?\", 'sentiment': 'negative'}) (input_keys={'text'}): litellm.RateLimitError: RateLimitError: OpenAIException - Error code: 429 - {'error': {'message': 'Rate limit reached for gpt-3.5-turbo in organization org-nS9hIqZFvGLn1kCX8ZWaZkba on tokens per min (TPM): Limit 200000, Used 199466, Requested 6064. Please try again in 1.659s. Visit https://platform.openai.com/account/rate-limits to learn more.', 'type': 'tokens', 'param': None, 'code': 'rate_limit_exceeded'}}. Set `provide_traceback=True` to see the stack trace.\n"
     ]
    },
    {
     "name": "stdout",
     "output_type": "stream",
     "text": [
      "Average Metric: 4.00 / 5 (80.0%):  32%|███▏      | 8/25 [00:04<00:09,  1.80it/s]"
     ]
    },
    {
     "name": "stderr",
     "output_type": "stream",
     "text": [
      "2025/03/11 11:29:40 ERROR dspy.utils.parallelizer: Error processing item Example({'text': 'It\\'s good to see that Vintage Film Buff have correctly categorized their excellent DVD release as a \"musical\", for that\\'s what this film is, pure and simple. Like its unofficial remake, Murder at the Windmill (1949), the murder plot is just an excuse for an elaborate girlie show with Kitty Carlisle and Gertrude Michael leading a cast of super-decorative girls including Ann Sheridan, Lucy Ball, Beryl Wallace, Gwenllian Gill, Gladys Young, Barbara Fritchie, Wanda Perry and Dorothy White. Carl Brisson is also on hand to lend his strong voice to \"Cocktails for Two\". Undoubtedly the movie\\'s most popular song, it is heard no less than four times. However, it\\'s Gertrude Michael who steals the show, not only with her rendition of \"Sweet Marijauna\" but her strong performance as the hero\\'s rejected girlfriend. As for the rest of the cast, we could have done without Jack Oakie and Victor McLaglen altogether. The only good thing about Oakie\\'s role is his weak running gag with cult icon, Toby Wing. In fact, to give you an idea as to how far the rest of the comedy is over-indulged and over-strained, super-dumb Inspector McLaglen simply cannot put his hands on the killer even though, would you believe, in this instance it happens to be the person you most suspect. Director Mitch Leisen actually goes to great pains to point the killer out to even the dumbest member of the cinema audience by giving the player concerned close-up after close-up.', 'sentiment': 'positive'}) (input_keys={'text'}): litellm.RateLimitError: RateLimitError: OpenAIException - Error code: 429 - {'error': {'message': 'Rate limit reached for gpt-3.5-turbo in organization org-nS9hIqZFvGLn1kCX8ZWaZkba on tokens per min (TPM): Limit 200000, Used 197632, Requested 6201. Please try again in 1.149s. Visit https://platform.openai.com/account/rate-limits to learn more.', 'type': 'tokens', 'param': None, 'code': 'rate_limit_exceeded'}}. Set `provide_traceback=True` to see the stack trace.\n"
     ]
    },
    {
     "name": "stdout",
     "output_type": "stream",
     "text": [
      "Average Metric: 4.00 / 5 (80.0%):  32%|███▏      | 8/25 [00:04<00:09,  1.80it/s]"
     ]
    },
    {
     "name": "stderr",
     "output_type": "stream",
     "text": [
      "2025/03/11 11:29:41 ERROR dspy.utils.parallelizer: Error processing item Example({'text': \"Okay, I rented this movie because of the director...he has made some interesting flicks in the past (if you haven't seen Waxork you are missing a fun ride). Anyway, I had my doubts about this movie from the beginning but I decided to suck it up and give it a look. It's bad. Very bad. If you haven't seen the movie and don't mind spoilers read ahead. First of all, the old saying 'You can't judge a book by it's cover' applies here. The box for this flick seems to indicate that Jill is the stone fox with long hair with highlights. The back of the box has a cool shot of the red-leather Jill and some other shots. The description makes you want to rent the movie because it SOUNDS good. You start watching it and suddenly you find out that the movie takes place (inexplicably) in 1977. Jill is a total dog who is not the girl on the cover. The movie is not quite as predictable as you would think...and that's not a good thing. Characters do so many stupid things without any modicum of motivation...it's embarrassing to watch. 10 minutes before the end of the movie Dolph and another lady have sex for no good reason. Also, what was the point of having Dolph kill this other lady in cold blood who had been helping him. Anthony Hickox the director should have seen a stinker when he read the script. Had it been set in the underworld of the new milennium and made the characters halfway intelligent it might have been decent. To set it in the 70's makes no sense and has no bearing on the story whatsoever. Avoid it!\", 'sentiment': 'negative'}) (input_keys={'text'}): litellm.RateLimitError: RateLimitError: OpenAIException - Error code: 429 - {'error': {'message': 'Rate limit reached for gpt-3.5-turbo in organization org-nS9hIqZFvGLn1kCX8ZWaZkba on tokens per min (TPM): Limit 200000, Used 195977, Requested 6218. Please try again in 658ms. Visit https://platform.openai.com/account/rate-limits to learn more.', 'type': 'tokens', 'param': None, 'code': 'rate_limit_exceeded'}}. Set `provide_traceback=True` to see the stack trace.\n"
     ]
    },
    {
     "name": "stdout",
     "output_type": "stream",
     "text": [
      "Average Metric: 0.00 / 0 (0%):  36%|███▌      | 9/25 [02:38<04:42, 17.64s/it]t/s]\n",
      "Average Metric: 0.00 / 0 (0%):  36%|███▌      | 9/25 [02:28<04:24, 16.55s/it]\n"
     ]
    },
    {
     "name": "stderr",
     "output_type": "stream",
     "text": [
      "2025/03/11 11:29:42 ERROR dspy.utils.parallelizer: Error processing item Example({'text': '\"Ruby in Paradise\" is a beautiful, coming-of-age story about a young woman, Ruby Lee Gissing, escaping her stifling roots to become herself. Although the title character is played artfully by the gorgeous Ashley Judd -- in likely her first movie role, albeit one to be quite proud of -- the emphasis is not upon becoming \"somebody,\" a la the next Madonna (whether Jesus\\' mother or the lurid, attention-hungry singer).<br /><br />It instead emphasizes following ones\\' instincts and being somewhat introspective about them, to grow into one\\'s ideal, adult self. NOTE: This isn\\'t an action movie!!! It uses an occasional voice-over narration (by Ms. Judd) while writing in her journal -- and oh, I see I\\'ve just lost the male half of the readers out there. But be patient with this beautiful movie, where we learn that one\\'s bliss can be discovered in -- oh, I dunno, carrying water and chopping wood.<br /><br />Actor/director/writer Todd Field, who played Nick Nightingale in \"Eyes Wide Shut,\" co-stars as Ruby Lee\\'s noble love interest, one who helps her heal her idea of relationships implanted from youth.<br /><br />But not even his character is the answer for Ruby Lee: There\\'s no external hero imposed upon her. The ultimate message is that we are responsible for ourselves. Writer/director Victor Nunez, who also wrote/directed \"Ulee\\'s Gold,\" did an amazing job showing a young woman growing into herself -- confronting age-old challenges of good v. evil along the way.<br /><br />The supporting cast is also stellar, and the music used, particularly the cuts by chanteuse Sam Phillips (whom I hear is the wife of T. Bone Burnett), is right on -- most especially \"Trying to Hold on to the Earth.\" Now, when I hear the first few chords of that song, tears spring to my eyes, Pavlovian and unbidden -- not sure if it\\'s the music, or the indelible connection to the movie\\'s quiet, charming message of empowerment.<br /><br />This movie is highly recommended for any young person trying to find his/her way. For any woman of any age, it is a must see! The downside: It is NOT on DVD, except in Spanish. (We learned, however, that it is legal to make one copy of a VHS version, which can be readily found online. My beloved husband found someone with a VHS copy and got a DVD copy made for me.) Although this treasure of a movie occasionally pops up on-air \\x96 on an indie channel, usually \\x96 you can\\'t count on that when you might need it most as a tonic to soothe the pressures of the world. So buy a copy for yourself.<br /><br />This movie should have a major re-release, and it would, if I were Queen of Hollywood.<br /><br />-- Figgy Jones', 'sentiment': 'positive'}) (input_keys={'text'}): litellm.RateLimitError: RateLimitError: OpenAIException - Error code: 429 - {'error': {'message': 'Rate limit reached for gpt-3.5-turbo in organization org-nS9hIqZFvGLn1kCX8ZWaZkba on tokens per min (TPM): Limit 200000, Used 196486, Requested 6499. Please try again in 895ms. Visit https://platform.openai.com/account/rate-limits to learn more.', 'type': 'tokens', 'param': None, 'code': 'rate_limit_exceeded'}}. Set `provide_traceback=True` to see the stack trace.\n"
     ]
    },
    {
     "name": "stdout",
     "output_type": "stream",
     "text": [
      "Average Metric: 4.00 / 5 (80.0%):  44%|████▍     | 11/25 [00:06<00:10,  1.33it/s]"
     ]
    },
    {
     "name": "stderr",
     "output_type": "stream",
     "text": [
      "2025/03/11 11:29:43 ERROR dspy.utils.parallelizer: Error processing item Example({'text': \"Movies have put me to sleep before, but no movie has ever done that twice, so it took me three sittings actually to finish it. The dialog was bad. Women spoke stiltedly and the men were caricatures. And two of the supposedly Japanese women looked Chinese, had Chinese names and spoke with clearly Chinese accents. I'm still trying to figure out why the Emmenthal men were sexually wrapped up with each other. 10 minus 8 1/2 equals a tough choice: Do I give this movie a rating of one? or two?<br /><br />Movies have put me to sleep before, but no movie has ever done that twice, so it took me three sittings actually to finish it. The dialog was bad. Women spoke stiltedly and the men were caricatures. And two of the supposedly Japanese women looked Chinese, had Chinese names and spoke with clearly Chinese accents. I'm still trying to figure out why the Emmenthal men were sexually wrapped up with each other. 10 minus 8 1/2 equals a tough choice: Do I give this movie a rating of one? or two?\", 'sentiment': 'negative'}) (input_keys={'text'}): litellm.RateLimitError: RateLimitError: OpenAIException - Error code: 429 - {'error': {'message': 'Rate limit reached for gpt-3.5-turbo in organization org-nS9hIqZFvGLn1kCX8ZWaZkba on tokens per min (TPM): Limit 200000, Used 195638, Requested 6087. Please try again in 517ms. Visit https://platform.openai.com/account/rate-limits to learn more.', 'type': 'tokens', 'param': None, 'code': 'rate_limit_exceeded'}}. Set `provide_traceback=True` to see the stack trace.\n"
     ]
    },
    {
     "name": "stdout",
     "output_type": "stream",
     "text": [
      "Average Metric: 4.00 / 5 (80.0%):  48%|████▊     | 12/25 [00:06<00:07,  1.65it/s]"
     ]
    },
    {
     "name": "stderr",
     "output_type": "stream",
     "text": [
      "2025/03/11 11:29:43 ERROR dspy.utils.parallelizer: Error processing item Example({'text': 'This movie was crap with a capital \"C.\" The opening scene showed promise. But that \"promise\" was broken shortly after the viewer learns where the plot is going.<br /><br />And the wooden statue, Morty, who was rather creepy in the original film, looks plain goofy in this one. It was so obviously just a guy in a cheap plastic costume. (And by the way, who else thinks \"Morty\" is one of the most un-scary names on planet earth? It ranks right up there with \"Jimmy\" or \"Fred\" when it comes to horror value. Or why not just name the wooden statute Henry-freakin\\'-Kissinger. \"Run, it\\'s Dr. Kissinger!\" That\\'d be about as scary as \"Morty.)<br /><br />And then there\\'s a scene where the \"hero\" hits his father\\'s tombstone with---\"a sledgehammer?\" you might guess--\"a two-by-four?\" someone might venture. No, he angrily beats his father\\'s tombstone with a twig---a freakin\\' twig. But worse than that, once the characters walk away, the tombstone actually, and inexplicably, bleeds. Oh brother!<br /><br />There\\'s also a Native American guy who lives with the main character\\'s grandparents, but apparently, does nothing except Morty-maintenance. He perpetuates creepy Morty-legends, warns those who scoff, and even fixes Morty\\'s arm when it becomes damaged during a childish prank. But for all his respect for and tenderness toward Morty, does Morty give a rat\\'s hairy behind? No.<br /><br />The movie drags on, and eventually several people die in ways that correspond to their worst fears (sort of). This film is a real yawner. Don\\'t rent it.', 'sentiment': 'negative'}) (input_keys={'text'}): litellm.RateLimitError: RateLimitError: OpenAIException - Error code: 429 - {'error': {'message': 'Rate limit reached for gpt-3.5-turbo in organization org-nS9hIqZFvGLn1kCX8ZWaZkba on tokens per min (TPM): Limit 200000, Used 195322, Requested 6222. Please try again in 463ms. Visit https://platform.openai.com/account/rate-limits to learn more.', 'type': 'tokens', 'param': None, 'code': 'rate_limit_exceeded'}}. Set `provide_traceback=True` to see the stack trace.\n"
     ]
    },
    {
     "name": "stdout",
     "output_type": "stream",
     "text": [
      "Average Metric: 4.00 / 5 (80.0%):  52%|█████▏    | 13/25 [00:07<00:05,  2.11it/s]"
     ]
    },
    {
     "name": "stderr",
     "output_type": "stream",
     "text": [
      "2025/03/11 11:29:43 ERROR dspy.utils.parallelizer: Error processing item Example({'text': 'With no affinity towards any type of filmmaking, and a healthy appreciation of documentaries, I can honestly say I was angry at myself for bothering to sit through the entire length of \"20 Dates\". I won\\'t waste your time with the plot, you may read other reviews. I will say though that Berkowitz\\'s hyper, Woody Allen-style narration was extremely annoying. You either wished he\\'d lay off the coffee or ingest some tranquilizers. And it\\'s potentially apparent to Berkowitz himself that this film was a bad idea, as parts of it details his trials to finance the documentary. Forgive me for disguising insults as compliments, but I\\'ll give credit to Berkowitz for having the skills to convince some idiot to finance this horrid piece of ****. I appreciate the boundaries & intentions of the film here, but even when regarding the standards Berkowitz sets for himself, he fires off and misses on all levels. In closing, I\\'m sure many of these female companions were not at ease going on a date with a twitchy wanna-be filmmaker, and therefore I question the film\\'s sense of authenticity. Hey Myles, I loved your film the first time I saw it... when it appeared as an episode of Seinfeld or was a film directed by Woody Allen or Kevin Smith.', 'sentiment': 'negative'}) (input_keys={'text'}): litellm.RateLimitError: RateLimitError: OpenAIException - Error code: 429 - {'error': {'message': 'Rate limit reached for gpt-3.5-turbo in organization org-nS9hIqZFvGLn1kCX8ZWaZkba on tokens per min (TPM): Limit 200000, Used 199854, Requested 6147. Please try again in 1.8s. Visit https://platform.openai.com/account/rate-limits to learn more.', 'type': 'tokens', 'param': None, 'code': 'rate_limit_exceeded'}}. Set `provide_traceback=True` to see the stack trace.\n"
     ]
    },
    {
     "name": "stdout",
     "output_type": "stream",
     "text": [
      "Average Metric: 4.00 / 5 (80.0%):  56%|█████▌    | 14/25 [00:07<00:05,  2.16it/s]"
     ]
    },
    {
     "name": "stderr",
     "output_type": "stream",
     "text": [
      "2025/03/11 11:29:46 INFO dspy.teleprompt.mipro_optimizer_v2: Score: 0.0 on minibatch of size 25 with parameters ['Predictor 0: Instruction 0', 'Predictor 0: Few-Shot Set 7'].\n",
      "2025/03/11 11:29:46 INFO dspy.teleprompt.mipro_optimizer_v2: Minibatch scores so far: [92.0, 0.0, 0.0, 0.0, 0.0, 0.0, 0.0, 92.0, 0.0]\n",
      "2025/03/11 11:29:46 INFO dspy.teleprompt.mipro_optimizer_v2: Full eval scores so far: [93.75]\n",
      "2025/03/11 11:29:46 INFO dspy.teleprompt.mipro_optimizer_v2: Best full score so far: 93.75\n",
      "2025/03/11 11:29:46 INFO dspy.teleprompt.mipro_optimizer_v2: ==========================================\n",
      "\n",
      "\n",
      "2025/03/11 11:29:46 INFO dspy.teleprompt.mipro_optimizer_v2: ===== Trial 11 / 34 - Full Evaluation =====\n",
      "2025/03/11 11:29:46 INFO dspy.teleprompt.mipro_optimizer_v2: Doing full eval on next top averaging program (Avg Score: 92.0) from minibatch trials...\n"
     ]
    },
    {
     "name": "stdout",
     "output_type": "stream",
     "text": [
      "Exception occurred: litellm.RateLimitError: RateLimitError: OpenAIException - Error code: 429 - {'error': {'message': 'Rate limit reached for gpt-3.5-turbo in organization org-nS9hIqZFvGLn1kCX8ZWaZkba on tokens per min (TPM): Limit 200000, Used 198193, Requested 6924. Please try again in 1.535s. Visit https://platform.openai.com/account/rate-limits to learn more.', 'type': 'tokens', 'param': None, 'code': 'rate_limit_exceeded'}}\n",
      "Average Metric: 4.00 / 4 (100.0%):   4%|▍         | 3/80 [00:00<00:21,  3.59it/s]  "
     ]
    },
    {
     "name": "stderr",
     "output_type": "stream",
     "text": [
      "2025/03/11 11:29:50 ERROR dspy.utils.parallelizer: Error processing item Example({'text': \"I seriously love this film so much, I never get sick of watching it. The only line I really can't stomach in this is when Riff calls herself a teenage lobotomy but other than that, everything else is perfect. I've never been a fan of PJ Soles and it didn't help to hear that she didn't even know who the Ramones were until she filmed this movie, but I can ignore her snarly little face for the most part. Most people who watch this over and over are fans of the Ramones and really.. that's the only reason I love it so much. I never get tired of seeing DeeDee mess up his Pizza lines or Joey mess up the name of the teacher over and over, haha. One of the best parts of the film is seeing them sing do you want to dance , down the halls of the high school.. I love it. The special edition DVD has a good retrospective, surprisingly PJ Soles isn't on it. Maybe she was working on another project *laugh* Anyway, great film, even better if you're a Ramones fan.\", 'sentiment': 'positive'}) (input_keys={'text'}): litellm.RateLimitError: RateLimitError: OpenAIException - Error code: 429 - {'error': {'message': 'Rate limit reached for gpt-3.5-turbo in organization org-nS9hIqZFvGLn1kCX8ZWaZkba on tokens per min (TPM): Limit 200000, Used 194573, Requested 6053. Please try again in 187ms. Visit https://platform.openai.com/account/rate-limits to learn more.', 'type': 'tokens', 'param': None, 'code': 'rate_limit_exceeded'}}. Set `provide_traceback=True` to see the stack trace.\n"
     ]
    },
    {
     "name": "stdout",
     "output_type": "stream",
     "text": [
      "Average Metric: 4.00 / 4 (100.0%):   5%|▌         | 4/80 [00:03<00:21,  3.59it/s]"
     ]
    },
    {
     "name": "stderr",
     "output_type": "stream",
     "text": [
      "2025/03/11 11:29:50 ERROR dspy.utils.parallelizer: Error processing item Example({'text': \"Wes Craven, you are having a laugh... at our expense. The Red Eye plot is preposterous... We are confronted by a guy who has apparently spent 8 weeks watching a girl, who then turns up at an airport behind her, flirts and chats her up successfully, somehow wangles a seat next to her in a two seat space, not trapped in the middle of a five seat row (contacts at check-in?) and is cheezily nice during a painfully slooooow build up. Then, once up in the air, in a confined space, surrounded by strangers, he immediately starts threatening the vacuous, if super-efficient, Rachel McAdams and saying tosh like 'we got ya daddy, do what I say, or poppa gets it'. Well, forgive me, but didn't they already have her daddy ready for slaughter-so-you-better-oughta long before she stepped on the plane and therefore wouldn't it have been oh, sooooooo much simpler to simply snatch the gal off the street and terrorise her in a room somewhere, forgetting the complicated and insecure dad plot, pulling her nails out or whatever until she made the all important 'call' required? Or even - cos this is the movies and we need a few unreal twists - keep the dumb dad-in-distress thing intact if you must, but dress it up better so that holding him in harms way until the convoluted plot had been concluded made some sense, without the plane dumbdown? Alternatively, without wanting to sound like an actual thinking terrorist/assassin - couldn't the massive bazooka-missile thang employed have been far more easily used on, say, a car driving down the highway, with the politician inside, rather than the 50th story of a Miami seafront hotel, from a fishing boat (mind you, as we already know, security in Miami is lax, so they'll speed away)? I know, I know, far more fun to go through watching a pretty girl for 8 weeks, burgle her dads house to steal his wallet (that somehow - star trek style - gets transported from Miami to Texas instantly) in order to - perhaps - get her to arrange for a politician to change hotel room and, and, and... Well, a thousand things could go wrong here, each one entirely destroying the Big Plan, so why not slim the elements down to a sensible handful, such as - 1. bazooka. 2. car. 3. boom! My 50 minute drive home from the cinema was spent highlighting the abundance of flaws and stupid cod-Hitchcockian twists, which sadly was the best fun of the whole sorry experience. And as for security back at Miami Airport... we have an apparently crazy and violent girl running off a plane, chased by cops, who during the chase sits down to have a coffee, moves elsewhere to read a magazine at a bar, then runs again like crazy up and down the whole terminal... by now also chased by crazed Cillian Murphy (no CCTV then? - I had guns pulled on me for parking in the wrong place for 10 seconds at Miami Airport a couple of years back). So instead of speaking to the cops - her allies - or getting on the blower at a call-box direct to her dad to warn him his life is in danger, McAdams prefers instead to steal a People Carrier off a family in the Airport forecourt (call the damned security...) and drives home to daddy, mowing down the assassin with the vehicle in the front garden of the house, in a rich neighbourhood-watch district, crushing the front porch in the process - an act which actually slightly wakes dad up from an afternoon snooze, after about a minute, yet which somehow fails to register with neighbours who aren't even mildly curious, thus ensuring 15 more minutes of hide and seek shenanigans as the duo run around the vast Hollodeck type house... Dohhh, it actually hurts to keep thinking about it all - Cillian (surely renamed Silly 'un for doing this one?) preposterously turns from ice assassin to comically unhinged (and inept) lunatic killer at the end, this theoretically ruthless despatcher of human life now allowing the dad to live so that he can watch his daughter getting her goose cooked. I'd better stop, because the stream of drivel I'm writing here must sound as uncoordinated as the Red Eye script. If Ms McAdams hadn't been allowed to get on the plane in the first place the title could have been altered, from 'Red Eye' to 'No Eye, Dear'. RR\", 'sentiment': 'negative'}) (input_keys={'text'}): litellm.RateLimitError: RateLimitError: OpenAIException - Error code: 429 - {'error': {'message': 'Rate limit reached for gpt-3.5-turbo in organization org-nS9hIqZFvGLn1kCX8ZWaZkba on tokens per min (TPM): Limit 200000, Used 194481, Requested 6863. Please try again in 403ms. Visit https://platform.openai.com/account/rate-limits to learn more.', 'type': 'tokens', 'param': None, 'code': 'rate_limit_exceeded'}}. Set `provide_traceback=True` to see the stack trace.\n"
     ]
    },
    {
     "name": "stdout",
     "output_type": "stream",
     "text": [
      "Average Metric: 5.00 / 5 (100.0%):   8%|▊         | 6/80 [00:03<01:01,  1.20it/s]"
     ]
    },
    {
     "name": "stderr",
     "output_type": "stream",
     "text": [
      "2025/03/11 11:29:50 ERROR dspy.utils.parallelizer: Error processing item Example({'text': \"I love horses and admire hand drawn animation, so I expected nothing short of amazement from Dreamworks new animated picture Spirit: Stallion of the Cimarron. I guess you could say I was a little bit disappointed. You have wonderful animation and at first what seems like a perfect story. A story about absolutely nothing but a horse in nature. The animals don't sing cute songs or even talk -- a major plus. Sadly, the film has an uncalled for narration by Matt Damon; a sappy soundtrack by Bryan Adams; and enough action scenes to compare it to a Jerry Bruckheimer production. If the film makers would have just stayed with simplicity, we'd have a masterpiece here. This is not a great film, but it is good entertainment for small children. I would recommend this film to families because it has its heart in the right place and its the only thing out there right now that isn't offensive to small children. Not bad, but could have been much better. Very pretty visuals though.\", 'sentiment': 'positive'}) (input_keys={'text'}): litellm.RateLimitError: RateLimitError: OpenAIException - Error code: 429 - {'error': {'message': 'Rate limit reached for gpt-3.5-turbo in organization org-nS9hIqZFvGLn1kCX8ZWaZkba on tokens per min (TPM): Limit 200000, Used 199855, Requested 6058. Please try again in 1.773s. Visit https://platform.openai.com/account/rate-limits to learn more.', 'type': 'tokens', 'param': None, 'code': 'rate_limit_exceeded'}}. Set `provide_traceback=True` to see the stack trace.\n"
     ]
    },
    {
     "name": "stdout",
     "output_type": "stream",
     "text": [
      "Average Metric: 5.00 / 5 (100.0%):  10%|█         | 8/80 [00:03<00:31,  2.31it/s]"
     ]
    },
    {
     "name": "stderr",
     "output_type": "stream",
     "text": [
      "2025/03/11 11:29:50 ERROR dspy.utils.parallelizer: Error processing item Example({'text': \"Okay, I rented this movie because of the director...he has made some interesting flicks in the past (if you haven't seen Waxork you are missing a fun ride). Anyway, I had my doubts about this movie from the beginning but I decided to suck it up and give it a look. It's bad. Very bad. If you haven't seen the movie and don't mind spoilers read ahead. First of all, the old saying 'You can't judge a book by it's cover' applies here. The box for this flick seems to indicate that Jill is the stone fox with long hair with highlights. The back of the box has a cool shot of the red-leather Jill and some other shots. The description makes you want to rent the movie because it SOUNDS good. You start watching it and suddenly you find out that the movie takes place (inexplicably) in 1977. Jill is a total dog who is not the girl on the cover. The movie is not quite as predictable as you would think...and that's not a good thing. Characters do so many stupid things without any modicum of motivation...it's embarrassing to watch. 10 minutes before the end of the movie Dolph and another lady have sex for no good reason. Also, what was the point of having Dolph kill this other lady in cold blood who had been helping him. Anthony Hickox the director should have seen a stinker when he read the script. Had it been set in the underworld of the new milennium and made the characters halfway intelligent it might have been decent. To set it in the 70's makes no sense and has no bearing on the story whatsoever. Avoid it!\", 'sentiment': 'negative'}) (input_keys={'text'}): litellm.RateLimitError: RateLimitError: OpenAIException - Error code: 429 - {'error': {'message': 'Rate limit reached for gpt-3.5-turbo in organization org-nS9hIqZFvGLn1kCX8ZWaZkba on tokens per min (TPM): Limit 200000, Used 199156, Requested 6193. Please try again in 1.604s. Visit https://platform.openai.com/account/rate-limits to learn more.', 'type': 'tokens', 'param': None, 'code': 'rate_limit_exceeded'}}. Set `provide_traceback=True` to see the stack trace.\n"
     ]
    },
    {
     "name": "stdout",
     "output_type": "stream",
     "text": [
      "Average Metric: 5.00 / 5 (100.0%):  11%|█▏        | 9/80 [00:04<00:28,  2.51it/s]"
     ]
    },
    {
     "name": "stderr",
     "output_type": "stream",
     "text": [
      "2025/03/11 11:29:51 ERROR dspy.utils.parallelizer: Error processing item Example({'text': 'It\\'s good to see that Vintage Film Buff have correctly categorized their excellent DVD release as a \"musical\", for that\\'s what this film is, pure and simple. Like its unofficial remake, Murder at the Windmill (1949), the murder plot is just an excuse for an elaborate girlie show with Kitty Carlisle and Gertrude Michael leading a cast of super-decorative girls including Ann Sheridan, Lucy Ball, Beryl Wallace, Gwenllian Gill, Gladys Young, Barbara Fritchie, Wanda Perry and Dorothy White. Carl Brisson is also on hand to lend his strong voice to \"Cocktails for Two\". Undoubtedly the movie\\'s most popular song, it is heard no less than four times. However, it\\'s Gertrude Michael who steals the show, not only with her rendition of \"Sweet Marijauna\" but her strong performance as the hero\\'s rejected girlfriend. As for the rest of the cast, we could have done without Jack Oakie and Victor McLaglen altogether. The only good thing about Oakie\\'s role is his weak running gag with cult icon, Toby Wing. In fact, to give you an idea as to how far the rest of the comedy is over-indulged and over-strained, super-dumb Inspector McLaglen simply cannot put his hands on the killer even though, would you believe, in this instance it happens to be the person you most suspect. Director Mitch Leisen actually goes to great pains to point the killer out to even the dumbest member of the cinema audience by giving the player concerned close-up after close-up.', 'sentiment': 'positive'}) (input_keys={'text'}): litellm.RateLimitError: RateLimitError: OpenAIException - Error code: 429 - {'error': {'message': 'Rate limit reached for gpt-3.5-turbo in organization org-nS9hIqZFvGLn1kCX8ZWaZkba on tokens per min (TPM): Limit 200000, Used 197923, Requested 6176. Please try again in 1.229s. Visit https://platform.openai.com/account/rate-limits to learn more.', 'type': 'tokens', 'param': None, 'code': 'rate_limit_exceeded'}}. Set `provide_traceback=True` to see the stack trace.\n"
     ]
    },
    {
     "name": "stdout",
     "output_type": "stream",
     "text": [
      "Average Metric: 9.00 / 9 (100.0%):  16%|█▋        | 13/80 [00:04<00:21,  3.05it/s]"
     ]
    },
    {
     "name": "stderr",
     "output_type": "stream",
     "text": [
      "2025/03/11 11:29:53 ERROR dspy.utils.parallelizer: Error processing item Example({'text': \"I just finished watching this movie. It wasn't ridiculously bad, but I'm really disappointed with it. I'm not really sure why someone would make a movie like this. It was marginally entertaining, but I feel like the people making it had a lot of disagreements on what they were making. Monday, the writer was in charge; Tuesday, the director; Wednesday, the guy who gets the coffee; etc. It almost seems like they really wanted to make a couple different movies, but only had the time and money to make one.<br /><br />Someone else commented that the acting was really good, but I'd have to disagree. Then again, if the actors were able to keep a straight face during the filming, perhaps they're better actors than I give them credit for.<br /><br />The back of the DVD gives the impression that the movie would be a mystery... something along the lines of a historical Law and Order or National Treasure. It starts off like that, but then, out of nowhere it takes a turn towards a bad episode of the Twilight Zone, or... what was that other show that wasn't as good... A bad episode of The Outer Limits.<br /><br />My main complaint about the movie is that it is just so played out. There's the evil guy with spiked white hair. There's the love interest, who, when she first appears, the wind actually blows through her hair. Seriously. Once you realize it's a Christian movie, the end is also pretty easy to spot.<br /><br />The cinematography was poorly done, especially in the opening scenes - way to put your best foot forward. It wasn't atrocious for most of the movie, but there was the occasional ridiculously bad shot of an old lady, praying, arms up in a dark room while lightening is striking - the sort of thing that just makes you a little bit embarrassed to be watching the movie.\", 'sentiment': 'negative'}) (input_keys={'text'}): litellm.RateLimitError: RateLimitError: OpenAIException - Error code: 429 - {'error': {'message': 'Rate limit reached for gpt-3.5-turbo in organization org-nS9hIqZFvGLn1kCX8ZWaZkba on requests per min (RPM): Limit 500, Used 500, Requested 1. Please try again in 120ms. Visit https://platform.openai.com/account/rate-limits to learn more.', 'type': 'requests', 'param': None, 'code': 'rate_limit_exceeded'}}. Set `provide_traceback=True` to see the stack trace.\n"
     ]
    },
    {
     "name": "stdout",
     "output_type": "stream",
     "text": [
      "Average Metric: 9.00 / 9 (100.0%):  19%|█▉        | 15/80 [00:06<00:29,  2.20it/s]"
     ]
    },
    {
     "name": "stderr",
     "output_type": "stream",
     "text": [
      "2025/03/11 11:29:53 ERROR dspy.utils.parallelizer: Error processing item Example({'text': 'What an appalling piece of rubbish!!! Who ARE all these people who blubber on about how good this is? Yes, it\\'s \"arty\"; and yes, it\\'s \"foreign\", but .... that\\'s not enough. The plot is boring and disjointed, like a reality show but not so slickly made.<br /><br />The people are intrinsically uninteresting; but as characters they don\\'t have enough depth to feel empathy for them. If they are based on real people then I feel very, very sorry for them.<br /><br />The violence (and some of it is very violent) seems quite ostentatious and gratuitous. It\\'s like the producer has visions of being Quenton Tarantino. Not that I think very much of him, either.<br /><br />And oh yes: if I had neighbours like these, I\\'d move!', 'sentiment': 'negative'}) (input_keys={'text'}): litellm.RateLimitError: RateLimitError: OpenAIException - Error code: 429 - {'error': {'message': 'Rate limit reached for gpt-3.5-turbo in organization org-nS9hIqZFvGLn1kCX8ZWaZkba on tokens per min (TPM): Limit 200000, Used 195173, Requested 5994. Please try again in 350ms. Visit https://platform.openai.com/account/rate-limits to learn more.', 'type': 'tokens', 'param': None, 'code': 'rate_limit_exceeded'}}. Set `provide_traceback=True` to see the stack trace.\n"
     ]
    },
    {
     "name": "stdout",
     "output_type": "stream",
     "text": [
      "Average Metric: 9.00 / 10 (90.0%):  20%|██        | 16/80 [00:06<00:26,  2.42it/s]"
     ]
    },
    {
     "name": "stderr",
     "output_type": "stream",
     "text": [
      "2025/03/11 11:29:54 ERROR dspy.utils.parallelizer: Error processing item Example({'text': \"This is a formula B science fiction movie, and the director made no bones about it. It is about a dragon who is restored to life by a scientific team. Everything done is stuff you've seen many times before. It is a weak script, with no real characters. In fact, it is full of stereotype characters and situations. The director attacks this by just making it a formula movie, with no attempt to fool us, and that gives this movie a mild appeal, but it isn't something you're likely to remember a while. It is best seen while you're cooking, cleaning, working out. Sort of mindless fun. It has its place in entertainment, but it certainly isn't something you sit down with friends to watch, unless you're all just drunk and don't care. The mass rating of 3.2 is probably fair. I don't think it is as crappy as most people, but I am surprised that some people in the postings thought this was spectacular. That really eludes me, as I see no attempt to even make this a memorable film.\", 'sentiment': 'negative'}) (input_keys={'text'}): litellm.RateLimitError: RateLimitError: OpenAIException - Error code: 429 - {'error': {'message': 'Rate limit reached for gpt-3.5-turbo in organization org-nS9hIqZFvGLn1kCX8ZWaZkba on tokens per min (TPM): Limit 200000, Used 193990, Requested 6059. Please try again in 14ms. Visit https://platform.openai.com/account/rate-limits to learn more.', 'type': 'tokens', 'param': None, 'code': 'rate_limit_exceeded'}}. Set `provide_traceback=True` to see the stack trace.\n"
     ]
    },
    {
     "name": "stdout",
     "output_type": "stream",
     "text": [
      "Average Metric: 9.00 / 10 (90.0%):  22%|██▎       | 18/80 [00:07<00:20,  3.00it/s]"
     ]
    },
    {
     "name": "stderr",
     "output_type": "stream",
     "text": [
      "2025/03/11 11:29:54 ERROR dspy.utils.parallelizer: Error processing item Example({'text': 'Gus Van Sant has made some excellent films. I truly am a fan.<br /><br />However, I can\\'t help but feel that the cerebral edge of Tom Robbins book \"Even Cowgirls Get the Blues\" is lost in translation to the big screen. Alone, Tom Robbins and Gus Van Sant are incredible visionaries and towers of talent. Ultimately though this one just didn\\'t work. <br /><br />It wasn\\'t that the characters weren\\'t well developed or the plot and content didn\\'t come alive. It\\'s just that our imaginations are much more powerful when reading a book like this. We\\'re taken away to a different time and place and we sometimes think the worst and/or the best and it adds to the overall roller-coaster of the book as it neatly unfolds according to the author\\'s precision. Movies however can leave one with less of the imagination and emotion roller-coaster detracting from the overall experience. This is what I believe happened here.<br /><br />I suggest reading the book!', 'sentiment': 'positive'}) (input_keys={'text'}): litellm.RateLimitError: RateLimitError: OpenAIException - Error code: 429 - {'error': {'message': 'Rate limit reached for gpt-3.5-turbo in organization org-nS9hIqZFvGLn1kCX8ZWaZkba on requests per min (RPM): Limit 500, Used 500, Requested 1. Please try again in 120ms. Visit https://platform.openai.com/account/rate-limits to learn more.', 'type': 'requests', 'param': None, 'code': 'rate_limit_exceeded'}}. Set `provide_traceback=True` to see the stack trace.\n"
     ]
    },
    {
     "name": "stdout",
     "output_type": "stream",
     "text": [
      "Average Metric: 9.00 / 10 (90.0%):  22%|██▎       | 18/80 [00:07<00:20,  3.00it/s]"
     ]
    },
    {
     "name": "stderr",
     "output_type": "stream",
     "text": [
      "2025/03/11 11:29:57 INFO dspy.teleprompt.mipro_optimizer_v2: Full eval scores so far: [93.75, 0.0]\n",
      "2025/03/11 11:29:57 INFO dspy.teleprompt.mipro_optimizer_v2: Best full score so far: 93.75\n",
      "2025/03/11 11:29:57 INFO dspy.teleprompt.mipro_optimizer_v2: =======================\n",
      "2025/03/11 11:29:57 INFO dspy.teleprompt.mipro_optimizer_v2: \n",
      "\n",
      "2025/03/11 11:29:57 INFO dspy.teleprompt.mipro_optimizer_v2: == Trial 12 / 34 - Minibatch ==\n"
     ]
    },
    {
     "name": "stdout",
     "output_type": "stream",
     "text": [
      "Exception occurred: litellm.RateLimitError: RateLimitError: OpenAIException - Error code: 429 - {'error': {'message': 'Rate limit reached for gpt-3.5-turbo in organization org-nS9hIqZFvGLn1kCX8ZWaZkba on requests per min (RPM): Limit 500, Used 500, Requested 1. Please try again in 120ms. Visit https://platform.openai.com/account/rate-limits to learn more.', 'type': 'requests', 'param': None, 'code': 'rate_limit_exceeded'}}\n",
      "Average Metric: 23.00 / 25 (92.0%): 100%|██████████| 25/25 [00:00<00:00, 3862.87it/s]"
     ]
    },
    {
     "name": "stderr",
     "output_type": "stream",
     "text": [
      "2025/03/11 11:29:57 INFO dspy.evaluate.evaluate: Average Metric: 23 / 25 (92.0%)\n",
      "2025/03/11 11:29:57 INFO dspy.teleprompt.mipro_optimizer_v2: Score: 92.0 on minibatch of size 25 with parameters ['Predictor 0: Instruction 0', 'Predictor 0: Few-Shot Set 0'].\n",
      "2025/03/11 11:29:57 INFO dspy.teleprompt.mipro_optimizer_v2: Minibatch scores so far: [92.0, 0.0, 0.0, 0.0, 0.0, 0.0, 0.0, 92.0, 0.0, 92.0]\n",
      "2025/03/11 11:29:57 INFO dspy.teleprompt.mipro_optimizer_v2: Full eval scores so far: [93.75, 0.0]\n",
      "2025/03/11 11:29:57 INFO dspy.teleprompt.mipro_optimizer_v2: Best full score so far: 93.75\n",
      "2025/03/11 11:29:57 INFO dspy.teleprompt.mipro_optimizer_v2: ==========================================\n",
      "\n",
      "\n",
      "2025/03/11 11:29:57 INFO dspy.teleprompt.mipro_optimizer_v2: == Trial 13 / 34 - Minibatch ==\n"
     ]
    },
    {
     "name": "stdout",
     "output_type": "stream",
     "text": [
      "\n",
      "  0%|          | 0/25 [00:00<?, ?it/s]"
     ]
    },
    {
     "name": "stderr",
     "output_type": "stream",
     "text": [
      "2025/03/11 11:30:00 ERROR dspy.utils.parallelizer: Error processing item Example({'text': \"Not funny - how can anyone link this to Monty Python? That is absolutely ridiculous - there are no laughs. This is not funny. Over the top, but ugly, weird just for weird sake and it seems to me these people were on something all the time. Unfortunately something that did not make them funny.<br /><br />It should be given some points for effort etc. whatever. Actually it appears there is a laugh track - or is there one? Hummm.... Since there are barely any laughs that's a debatable question.<br /><br />Maybe I'm doing it injustice - maybe it's some sort of exercise. Some sort of art - in that case anything goes, never mind.<br /><br />But these guys playing women with high-pitched voices, turned-up noses. Come on !!! Not funny. <br /><br />There is only one heir apparent to Monty Pythons intellectual wit and that is Stephen Colbert, and maybe Jon Stewart.\", 'sentiment': 'negative'}) (input_keys={'text'}): litellm.RateLimitError: RateLimitError: OpenAIException - Error code: 429 - {'error': {'message': 'Rate limit reached for gpt-3.5-turbo in organization org-nS9hIqZFvGLn1kCX8ZWaZkba on tokens per min (TPM): Limit 200000, Used 196182, Requested 6117. Please try again in 689ms. Visit https://platform.openai.com/account/rate-limits to learn more.', 'type': 'tokens', 'param': None, 'code': 'rate_limit_exceeded'}}. Set `provide_traceback=True` to see the stack trace.\n"
     ]
    },
    {
     "name": "stdout",
     "output_type": "stream",
     "text": [
      "Average Metric: 0.00 / 0 (0%):   4%|▍         | 1/25 [00:03<01:20,  3.34s/it]"
     ]
    },
    {
     "name": "stderr",
     "output_type": "stream",
     "text": [
      "2025/03/11 11:30:00 ERROR dspy.utils.parallelizer: Error processing item Example({'text': 'This Film was really eye-opening. I have seen this film several times. First, when I was four and I actually remembered it and then when I was 12. The whole message that the director is conveying is for everyone to wake up and not make the mistake of leaving God out of our everyday lives or just Plain going the extra mile to insult him.<br /><br />A great Movie for Non-believers and Believers alike!', 'sentiment': 'positive'}) (input_keys={'text'}): litellm.RateLimitError: RateLimitError: OpenAIException - Error code: 429 - {'error': {'message': 'Rate limit reached for gpt-3.5-turbo in organization org-nS9hIqZFvGLn1kCX8ZWaZkba on requests per min (RPM): Limit 500, Used 500, Requested 1. Please try again in 120ms. Visit https://platform.openai.com/account/rate-limits to learn more.', 'type': 'requests', 'param': None, 'code': 'rate_limit_exceeded'}}. Set `provide_traceback=True` to see the stack trace.\n"
     ]
    },
    {
     "name": "stdout",
     "output_type": "stream",
     "text": [
      "Average Metric: 0.00 / 0 (0%):   4%|▍         | 1/25 [00:03<01:20,  3.34s/it]"
     ]
    },
    {
     "name": "stderr",
     "output_type": "stream",
     "text": [
      "2025/03/11 11:30:01 ERROR dspy.utils.parallelizer: Error processing item Example({'text': 'Most war films made in the US during WWII were great fun to watch but suffered from severe gaps in realism because they were being produced more for propaganda value to raise the spirits at home than anything else. I am not knocking these films as many of them are still very watchable. However, because they so often lack realism they are prevented from being truly great films. A perfect example was the John Garfield film Air Force--in which a B-17 nearly single-handedly takes out half the Japanese air force! However, Pride Of The Marines is a welcome departure--scoring high marks for portraying a true story in a reasonably accurate manner. When I first saw this film, I thought it was NOT a true story as it seemed way too improbable to be true. However, after researching further I found that it was in fact rather true to the amazing story of two men who did so much to earn the Medal of Honor. This is one case where real life seemed too incredible to be true!', 'sentiment': 'positive'}) (input_keys={'text'}): litellm.RateLimitError: RateLimitError: OpenAIException - Error code: 429 - {'error': {'message': 'Rate limit reached for gpt-3.5-turbo in organization org-nS9hIqZFvGLn1kCX8ZWaZkba on requests per min (RPM): Limit 500, Used 500, Requested 1. Please try again in 120ms. Visit https://platform.openai.com/account/rate-limits to learn more.', 'type': 'requests', 'param': None, 'code': 'rate_limit_exceeded'}}. Set `provide_traceback=True` to see the stack trace.\n"
     ]
    },
    {
     "name": "stdout",
     "output_type": "stream",
     "text": [
      "Average Metric: 0.00 / 0 (0%):   8%|▊         | 2/25 [00:03<01:16,  3.34s/it]"
     ]
    },
    {
     "name": "stderr",
     "output_type": "stream",
     "text": [
      "2025/03/11 11:30:01 ERROR dspy.utils.parallelizer: Error processing item Example({'text': 'THHE2 is entertaining in that you\\'ll laugh a lot and cringe and probably say \"oh sh*t!\" and \"get your face away from the goddamn hole you dumb**s\" or things along those lines but I don\\'t know if its really worth seeing- I was very annoyed throughout the entirety with the horrible military characters who don\\'t seem to know the first thing about combat.<br /><br />Yes there was more violence, gore, and a higher body count than the first one but I am still am debating whether that cancels out my feeling throughout the whole movie about how ridiculous it is (and not a good ridiculousness like Dead Alive or Feast). My time would have been better spent watching Aja\\'s remake for the 5th time.<br /><br />So go for some laughs, or go for some gore, but don\\'t go hoping to come out of it satisfied.', 'sentiment': 'negative'}) (input_keys={'text'}): litellm.RateLimitError: RateLimitError: OpenAIException - Error code: 429 - {'error': {'message': 'Rate limit reached for gpt-3.5-turbo in organization org-nS9hIqZFvGLn1kCX8ZWaZkba on tokens per min (TPM): Limit 200000, Used 195294, Requested 6099. Please try again in 417ms. Visit https://platform.openai.com/account/rate-limits to learn more.', 'type': 'tokens', 'param': None, 'code': 'rate_limit_exceeded'}}. Set `provide_traceback=True` to see the stack trace.\n"
     ]
    },
    {
     "name": "stdout",
     "output_type": "stream",
     "text": [
      "Average Metric: 0.00 / 0 (0%):  16%|█▌        | 4/25 [00:03<00:14,  1.43it/s]"
     ]
    },
    {
     "name": "stderr",
     "output_type": "stream",
     "text": [
      "2025/03/11 11:30:01 ERROR dspy.utils.parallelizer: Error processing item Example({'text': '(Rating: 21 by The Film Snob.) (See our blog What-To-See-Next for details on our rating system.)<br /><br />Here\\'s a movie that will have you clawing at your own face in an attempt to earn release from the on-screen tedium. <br /><br />You\\'ll not be wringing your hands, nor rolling your eyes, nor sighing into your popcorn. No indeed. For a movie of *this* averagousity, only clawing at your own face will do. <br /><br />When you begin to claw your own face -- as begin you must! -- start in at the lower portion. You\\'ll need your upper portion, with its handy tear ducts, intact for the Truly Tear-jerking third act which may bring you to your knees if you haven\\'t clawed your way clear of the entire theatre by then. <br /><br />In a season celebrating Joe Six-Pack and Hockey Moms as the new Gold Standard for leadership and foreign diplomacy, permaybe a movie this tedium will be welcomed as A Thing that anyone could create. *Watching* it, however, is a much more dangerous undertaking. <br /><br />Here\\'s our story... <br /><br />Sidney Young, the London publisher of a fourth-tier celebrity/entertainment magazine is just about to see his magazine go under. He needs a miracle, and what he gets is a phone call from New York City, in the USA.<br /><br />The publisher of Sharp\\'s magazine, Clayton Harding (played by Jeff Bridges) says \"Come work for me!\" With his own employees carrying out the fax machine out of his apartment/office in the background, saying \"Yes\" is a no-brainer.<br /><br />Soon Sidney is at work in New York City, doing allllllll the wrong things. His interviews consist of asking Broadway musical directors if they are (1) Jewish, and (2) gay. <br /><br />He kills the pet dog of Sohpie Maes, the industry\\'s hottest movie star, when she leaves it in the magazine\\'s offices during a business luncheon.<br /><br />This is a spot of bad luck for everyone, for, among other things, Sidney imagines that he is in love with Maes, before he wakes up to the Dunst character.<br /><br />Worst of all, he totally alienates Alison Olsen (played by winsome scripting-confusion by Kristen Dunst), a colleague assigned to show him the ropes of the magazine *and* The Big Apple. (We have, of course, been to a movie before, and so we know how this relationship is going to end up. This is therefore why we\\'ll need intact tear ducts for the movie\\'s third act.)<br /><br />The problem with The Thing is, the script just never jells, excepting for the one tear-duct set piece in which True Love prevails.<br /><br />Publisher Harding is supposed to be a son-of-a-bitch who also wants to just throw the whole job over. The script never comes down firmly on one or the other sides of this dichotomy, however, and Bridges is left to twist and waffle in the breeze.<br /><br />Alison Olsen is supposed to despise Sidney Young, but whenever he comes up to her (as he does constantly) she makes a point of engaging him in conversation, instead of attempting to discourage his existence.<br /><br />The \"comedy\" of early scenes is built around a piglet destroying an expensive hotel room, and then taking the elevator downstairs to urinate on the expensive high heels of a celebrity at a cocktail reception.<br /><br />The hot starlet Maes confesses that she is attracted to Young because he is \"wounded.\" The character never shows us *why* he is wounded, however. This is yet another resultant of the movie\\'s mortally wounded script.<br /><br />At one hours and fifty minutes, This Thing feels longer (and more deadly) than Napoleon\\'s retreat from Moscow. It is uninspiring, unfunny, unredeemable, and not even rentable. Run Away', 'sentiment': 'negative'}) (input_keys={'text'}): litellm.RateLimitError: RateLimitError: OpenAIException - Error code: 429 - {'error': {'message': 'Rate limit reached for gpt-3.5-turbo in organization org-nS9hIqZFvGLn1kCX8ZWaZkba on tokens per min (TPM): Limit 200000, Used 195031, Requested 6809. Please try again in 552ms. Visit https://platform.openai.com/account/rate-limits to learn more.', 'type': 'tokens', 'param': None, 'code': 'rate_limit_exceeded'}}. Set `provide_traceback=True` to see the stack trace.\n"
     ]
    },
    {
     "name": "stdout",
     "output_type": "stream",
     "text": [
      "Average Metric: 0.00 / 0 (0%):  20%|██        | 5/25 [00:03<00:10,  1.84it/s]"
     ]
    },
    {
     "name": "stderr",
     "output_type": "stream",
     "text": [
      "2025/03/11 11:30:01 ERROR dspy.utils.parallelizer: Error processing item Example({'text': 'What\\'s Good About It: Some inventive and genuinely creepy little effects that will get under the skin of even the most seasoned horror fan. Doesn\\'t rely on the hackneyed soundtrack stabs for its \"gotcha\" moments. Even if you\\'ve seen everything, there\\'s still a few things in this film that will make your jaw drop.<br /><br />What Could Have Been Better About It: The acting was, at times, flat and unconvincing. It had a \"shot-on-video\" quality in some places (though,it mostly achieved the atmosphere it was striving for), and the camera work is full of needless close-ups of meaningless actions. Though the effects are genuinely creepy, I think they may have gone to the well a few too many times with some of them. The ending seemed rushed, and glossed over what could have been more impactful moments. The viewer is left to figure out a lot of things for themselves, not as a challenge by the filmmakers, but because they just missed it.<br /><br />Still, a good little indie horror film that is easily several steps above the average. Well worth the rental.', 'sentiment': 'positive'}) (input_keys={'text'}): litellm.RateLimitError: RateLimitError: OpenAIException - Error code: 429 - {'error': {'message': 'Rate limit reached for gpt-3.5-turbo in organization org-nS9hIqZFvGLn1kCX8ZWaZkba on tokens per min (TPM): Limit 200000, Used 194626, Requested 6166. Please try again in 237ms. Visit https://platform.openai.com/account/rate-limits to learn more.', 'type': 'tokens', 'param': None, 'code': 'rate_limit_exceeded'}}. Set `provide_traceback=True` to see the stack trace.\n"
     ]
    },
    {
     "name": "stdout",
     "output_type": "stream",
     "text": [
      "Average Metric: 4.00 / 5 (80.0%):  56%|█████▌    | 14/25 [00:26<00:20,  1.87s/it]\n",
      "Average Metric: 9.00 / 10 (90.0%):  24%|██▍       | 19/80 [00:15<00:49,  1.23it/s]\n",
      "Average Metric: 1.00 / 1 (100.0%):  28%|██▊       | 7/25 [00:04<00:10,  1.72it/s]"
     ]
    },
    {
     "name": "stderr",
     "output_type": "stream",
     "text": [
      "2025/03/11 11:30:04 ERROR dspy.utils.parallelizer: Error processing item Example({'text': \"A year or so ago, I was watching the TV news when a story was broadcast about a zombie movie being filmed in my area. Since then I have paid particular attention to this movie called 'Fido' as it finished production and began playing at festivals. Two weeks ago Fido began playing in my local theater. And, just yesterday, I read a newspaper article which stated Fido is not attracting audiences in it's limited release, with the exception of our local theater. In fact, here it is outdrawing all other shows at The Paramount Theater, including 300. Of course, this makes sense as many locals want to see their city on screen or spot themselves roaming around in zombie make-up. And for any other locals who haven't seen Fido yet but are considering it, I can say there are many images on screen, from the school to city park to the forbidden zone, that you will recognize. In fact, they make the Okanagan Valley look beautiful. That's right beautiful scenery in a zombie movie! However, Fido itself is a very good movie. Yes, despite its flaws, it is better then most of the 20 other movies playing in my local market. Fido is best described as an episode of Lassie in which the collie has been replaced by a member of the undead. This is a clever premise. And the movie even goes further by taking advantage of the 1950's emphasize on conformity and playing up the cold-war paranoia which led to McCarthyism. Furthermore, it builds on the notion that zombies can be tamed or trained which George Romero first introduced in Day Of The Dead.<br /><br />K'Sun Ray plays a small town boy who's mother (Carrie-Ann Moss) longs for a zombie servant so she can be like all the other house wives on her block. However, his dad (Dylan Baker) is against the idea as he once had to kill his own 'zombie father'. Eventually, the family does acquire a zombie named 'Fido' (played by Billy Connolly), and adjusts to life with the undead. Billy Connolly was inspired casting. He is able to convey Fido's confusion, longing, hatred, and loyalty through only his eyes, lumbering body, and grunts. Connolly shows that he can play understated characters better than his outrageously comedic ones. This is his best role since Mrs. Brown.<br /><br />Fido follows in the footsteps of other recent zomcoms such as Shawn Of The Dead and Zombie Honeymoon. Being someone who appreciates Bruce Campbell and Misty Mundae movies more than Eli Roth and Jigsaw ones, I prefer humor over gore in my horror. However, I understand the criticism of those horror fans who feel there is not enough 'undead carnage' in Fido. Yet, I am sure patient viewers will be rewarded by the films gentle humor.<br /><br />The movie does break down in it's third act. It's as if the writers were so wrapped up in the cute premise of domesticated zombies in the 1950s, they forgot about the story arc. However, given my interest in horror comedies and my appreciation for seeing the neighborhood on screen, I rate Fido 9 out of 10.\", 'sentiment': 'positive'}) (input_keys={'text'}): litellm.RateLimitError: RateLimitError: OpenAIException - Error code: 429 - {'error': {'message': 'Rate limit reached for gpt-3.5-turbo in organization org-nS9hIqZFvGLn1kCX8ZWaZkba on tokens per min (TPM): Limit 200000, Used 195266, Requested 6645. Please try again in 573ms. Visit https://platform.openai.com/account/rate-limits to learn more.', 'type': 'tokens', 'param': None, 'code': 'rate_limit_exceeded'}}. Set `provide_traceback=True` to see the stack trace.\n"
     ]
    },
    {
     "name": "stdout",
     "output_type": "stream",
     "text": [
      "Average Metric: 1.00 / 1 (100.0%):  32%|███▏      | 8/25 [00:07<00:16,  1.01it/s]"
     ]
    },
    {
     "name": "stderr",
     "output_type": "stream",
     "text": [
      "2025/03/11 11:30:05 ERROR dspy.utils.parallelizer: Error processing item Example({'text': 'Brokedown Palace is the story of two best friends, Alice and Darlene, who go on a spontaneous trip to Thailand and wind up in prison after being caught with planted drugs in their luggage. In this way, the movie had the potential to turn into a serious and moving film, such as \"Return to Paradise\", but instead, the movie chose to focus little on the girls\\' situation and more on their friendship.<br /><br />Claire Danes and Kate Beckinsale both turn in excellent performances, and the movie is much more about the interplay between them - the suspicion, the jealousy, the questioning and testing of their friendship and ultimately the sacrifices made in the name of friendship. This movie chooses not to delve too deeply into politics or even into the harshness of prison life (which is a bit glossed over), and focuses more on these friendship issues.<br /><br />There were some plot holes here, and some parts that just didn\\'t seem believable or realistic. We didn\\'t feel the real fear or hopelessness of their situation as well as we might have. And we get very little feeling of life outside the prison walls, with Bill Pullman playing the supposedly sleazy lawyer who actually turns out to have a heart of gold. In short, this should, by all rights, have been a much darker movie than it was.<br /><br />But overall, I enjoyed it. The acting was good, the soundtrack was perfect, and the storyline had enough twists and turns to stay interesting. Worth seeing.', 'sentiment': 'positive'}) (input_keys={'text'}): litellm.RateLimitError: RateLimitError: OpenAIException - Error code: 429 - {'error': {'message': 'Rate limit reached for gpt-3.5-turbo in organization org-nS9hIqZFvGLn1kCX8ZWaZkba on tokens per min (TPM): Limit 200000, Used 194064, Requested 6267. Please try again in 99ms. Visit https://platform.openai.com/account/rate-limits to learn more.', 'type': 'tokens', 'param': None, 'code': 'rate_limit_exceeded'}}. Set `provide_traceback=True` to see the stack trace.\n"
     ]
    },
    {
     "name": "stdout",
     "output_type": "stream",
     "text": [
      "Average Metric: 1.00 / 1 (100.0%):  36%|███▌      | 9/25 [00:07<00:13,  1.23it/s]"
     ]
    },
    {
     "name": "stderr",
     "output_type": "stream",
     "text": [
      "2025/03/11 11:30:05 ERROR dspy.utils.parallelizer: Error processing item Example({'text': \"Okay, I rented this movie because of the director...he has made some interesting flicks in the past (if you haven't seen Waxork you are missing a fun ride). Anyway, I had my doubts about this movie from the beginning but I decided to suck it up and give it a look. It's bad. Very bad. If you haven't seen the movie and don't mind spoilers read ahead. First of all, the old saying 'You can't judge a book by it's cover' applies here. The box for this flick seems to indicate that Jill is the stone fox with long hair with highlights. The back of the box has a cool shot of the red-leather Jill and some other shots. The description makes you want to rent the movie because it SOUNDS good. You start watching it and suddenly you find out that the movie takes place (inexplicably) in 1977. Jill is a total dog who is not the girl on the cover. The movie is not quite as predictable as you would think...and that's not a good thing. Characters do so many stupid things without any modicum of motivation...it's embarrassing to watch. 10 minutes before the end of the movie Dolph and another lady have sex for no good reason. Also, what was the point of having Dolph kill this other lady in cold blood who had been helping him. Anthony Hickox the director should have seen a stinker when he read the script. Had it been set in the underworld of the new milennium and made the characters halfway intelligent it might have been decent. To set it in the 70's makes no sense and has no bearing on the story whatsoever. Avoid it!\", 'sentiment': 'negative'}) (input_keys={'text'}): litellm.RateLimitError: RateLimitError: OpenAIException - Error code: 429 - {'error': {'message': 'Rate limit reached for gpt-3.5-turbo in organization org-nS9hIqZFvGLn1kCX8ZWaZkba on requests per min (RPM): Limit 500, Used 500, Requested 1. Please try again in 120ms. Visit https://platform.openai.com/account/rate-limits to learn more.', 'type': 'requests', 'param': None, 'code': 'rate_limit_exceeded'}}. Set `provide_traceback=True` to see the stack trace.\n"
     ]
    },
    {
     "name": "stdout",
     "output_type": "stream",
     "text": [
      "Average Metric: 1.00 / 1 (100.0%):  36%|███▌      | 9/25 [00:07<00:13,  1.23it/s]"
     ]
    },
    {
     "name": "stderr",
     "output_type": "stream",
     "text": [
      "2025/03/11 11:30:08 INFO dspy.teleprompt.mipro_optimizer_v2: Score: 0.0 on minibatch of size 25 with parameters ['Predictor 0: Instruction 5', 'Predictor 0: Few-Shot Set 9'].\n",
      "2025/03/11 11:30:08 INFO dspy.teleprompt.mipro_optimizer_v2: Minibatch scores so far: [92.0, 0.0, 0.0, 0.0, 0.0, 0.0, 0.0, 92.0, 0.0, 92.0, 0.0]\n",
      "2025/03/11 11:30:08 INFO dspy.teleprompt.mipro_optimizer_v2: Full eval scores so far: [93.75, 0.0]\n",
      "2025/03/11 11:30:08 INFO dspy.teleprompt.mipro_optimizer_v2: Best full score so far: 93.75\n",
      "2025/03/11 11:30:08 INFO dspy.teleprompt.mipro_optimizer_v2: ==========================================\n",
      "\n",
      "\n",
      "2025/03/11 11:30:08 INFO dspy.teleprompt.mipro_optimizer_v2: == Trial 14 / 34 - Minibatch ==\n"
     ]
    },
    {
     "name": "stdout",
     "output_type": "stream",
     "text": [
      "Exception occurred: litellm.RateLimitError: RateLimitError: OpenAIException - Error code: 429 - {'error': {'message': 'Rate limit reached for gpt-3.5-turbo in organization org-nS9hIqZFvGLn1kCX8ZWaZkba on requests per min (RPM): Limit 500, Used 500, Requested 1. Please try again in 120ms. Visit https://platform.openai.com/account/rate-limits to learn more.', 'type': 'requests', 'param': None, 'code': 'rate_limit_exceeded'}}\n",
      "Average Metric: 6.00 / 7 (85.7%):  28%|██▊       | 7/25 [00:01<00:04,  4.04it/s]   "
     ]
    },
    {
     "name": "stderr",
     "output_type": "stream",
     "text": [
      "2025/03/11 11:30:12 ERROR dspy.utils.parallelizer: Error processing item Example({'text': 'I *loved* the original Scary Movie. I\\'m a huge fan of parody- it is my favorite form of humor. It is sometimes regarded as the most intelligent form of humor. The Wayans boys seemed to grasp that concept perfectly in the original film, then temporarily forgot it when making the sequel. I think the Wayans\\' are a family of comical geniuses. Alas, even geniuses make mistakes.<br /><br />The movie begins with promise. I liked \"The Exorcist\" parody, especially the \"come on out, ma\" gag. Now, that\\'s Wayans-quality material. But, other than that, I can only think of two other times I laughed: 1) when Tori Spelling is seduced in the middle of the night by a spirit, then becomes clingy and starts talking about marriage with him. Meanwhile, he\\'s saying, \"It was just a booty call!!\" That was kinda funny. 2) The \"Save the Last Dance\" parody where the Cindy character inadvertently beats up a girl while practicing her new moves. But even the short-lived giggles are no match for the side-splitting laughs of the first Scary Movie.<br /><br />The rest of the movie is pure trash, filled with cheap gross-out gags. Jokes from the first movie which were subtle or implied are magnified and overdone. For example, in Scary Movie I, several innuendos are made to imply that the character Ray is gay. This was hilarious. But, in Scary Movie II, the whole penis-strangulation scene with Ray under the bed was mind-numbing and incredibly unfunny. This is the pattern of the whole film. Shock humor *alone* doesn\\'t take a movie very far. This was a trend in 2000 and 2001, unfortunately. <br /><br />As much as it pains me to rate a Wayans movie so low, I have to give this one a 2 out of 10.', 'sentiment': 'negative'}) (input_keys={'text'}): litellm.RateLimitError: RateLimitError: OpenAIException - Error code: 429 - {'error': {'message': 'Rate limit reached for gpt-3.5-turbo in organization org-nS9hIqZFvGLn1kCX8ZWaZkba on tokens per min (TPM): Limit 200000, Used 194579, Requested 6234. Please try again in 243ms. Visit https://platform.openai.com/account/rate-limits to learn more.', 'type': 'tokens', 'param': None, 'code': 'rate_limit_exceeded'}}. Set `provide_traceback=True` to see the stack trace.\n"
     ]
    },
    {
     "name": "stdout",
     "output_type": "stream",
     "text": [
      "Average Metric: 7.00 / 8 (87.5%):  32%|███▏      | 8/25 [00:03<00:08,  1.95it/s]"
     ]
    },
    {
     "name": "stderr",
     "output_type": "stream",
     "text": [
      "2025/03/11 11:30:12 ERROR dspy.utils.parallelizer: Error processing item Example({'text': 'It sounds as if it should be a biography of Claude Monet but it\\'s actually a highly focused story of relationships between three adolescent girls on a French synchronized swimming team. There are no parents or teachers to speak of, no school, and boys are represented by one peripheral figure, the hunky Francois who enters the story determined from time to time and always leaves confused.<br /><br />Pauline Aquart is the youngest of the three, only aspiring to join the team she so much admires. She\\'s kind of odd looking. She\\'s not yet out of her adolescent growth spurt and has long, bony limbs, big feet, and no derriere to speak of. She\\'s prognathous and sports these plump pursed lips. After a while her appearance grows on you and from certain angles she can come to appear enthralling.<br /><br />Adele Haenel is older -- more, well, more developed physically. What a glamorous figure she cuts in her swim suit, sauntering around, teasing the boys, swishing her long blond hair. But she\\'s not what she seems. Or is she? I couldn\\'t quite figure it out. The French are long on paradoxes and short on consistency. No wonder Francois is always sniffing after her.<br /><br />There\\'s not so much ambiguity in Louse Blachere\\'s character. She\\'s on the team too but she\\'s dumpy and plain, and sensitive about it, and has an intense crush on Francois. Blachere is a good actress and adds to the ungainliness of the character through her performance.<br /><br />The movie deals with the relationships between these three, meaning intrigues, deceptions, hidden feelings, and all the rest of what we associate with young girls who spend much time with one another. This is of course a tricky topic. It becomes trickier during the gradual development of a homoerotic relationship between Pauline and Adele. Not that you should expect this to be a soft porn movie. The only nudity we see is considerably less than a turn on, and what little sex there is under the covers, sometimes literally.<br /><br />I don\\'t think I want to get into the plot or into its analysis too much, partly because it\\'s suggestive rather than expressed through action, partly because it\\'s complex, and partly because I\\'m not sure I got it all.<br /><br />Let me give an example. Okay. Adele is the girl the others envy. She\\'s also quite distant and self satisfied. On top of that she is apparently schtupping every boy and man in sight if they can be of any use to her at all, from the handsome but dumb Francois to the bus driver she wants a favor from. She brags unashamedly about her expertise in fellatio. When Pauline approaches her about joining the swim team, Adele uses her as a lookout during assignations with the guys. A superior and self-indulgent narcissist, you know? But then the soi-disant slut takes the skinny Pauline under her wing and reveals to Pauline that she\\'s still a virgin. Really? Yes, really. Pauline begins to draw closer to Adele and Adele finally confesses that she\\'d like to rid herself of her hymen and she would like Pauline to do it for her. Pauline, now drawn sexually to Adele, performs the task with subdued relish. NOW Adele would REALLY like to get it on with a man, preferably older and experienced. So she takes Pauline to a boite where she dances seductively with some guy until she follows Pauline to the powder room. The two girls stand there staring at one another, neither having overtly expressed a sexually tinged interest in the other. But Adele stands so close that Pauline slowly loosens her own reins, reaches up, and kisses Adele on the lips. Adele steps back, smiling, and says, \"There now, that wasn\\'t so bad, was it?\", and then walks back into the club.<br /><br />That\\'s a pretty close description of whatever is going on between Pauline and Adele -- but what the hell IS going on? Initially, Adele treats Pauline like an irrelevant child, later like a close friend, finally like a potential lover -- and the minute Pauline responds, Adele walks off satisfied. Is she USING Pauline the way she seems to be using men? Does it satisfy Adele to know that she now has another person in involuntary servitude? I don\\'t know.<br /><br />I\\'ve slighted Louise Blachere as the third member of the trio, the plain and overripe wallflower whose expression always suggests dumbfoundedness but who at least is thoroughly heterosexual and the first of the three to rid herself of that noisome virginity, but I\\'ve only skipped her for considerations of space.<br /><br />Should you see it? By all means. (Just compare it to the typical American movie about high school kids.) For men, some of whom have never penetrated the female mystique, this may give you some idea of what it looks like in medium shot.', 'sentiment': 'positive'}) (input_keys={'text'}): litellm.RateLimitError: RateLimitError: OpenAIException - Error code: 429 - {'error': {'message': 'Rate limit reached for gpt-3.5-turbo in organization org-nS9hIqZFvGLn1kCX8ZWaZkba on tokens per min (TPM): Limit 200000, Used 194501, Requested 6994. Please try again in 448ms. Visit https://platform.openai.com/account/rate-limits to learn more.', 'type': 'tokens', 'param': None, 'code': 'rate_limit_exceeded'}}. Set `provide_traceback=True` to see the stack trace.\n"
     ]
    },
    {
     "name": "stdout",
     "output_type": "stream",
     "text": [
      "Average Metric: 7.00 / 8 (87.5%):  36%|███▌      | 9/25 [00:03<00:08,  1.95it/s]"
     ]
    },
    {
     "name": "stderr",
     "output_type": "stream",
     "text": [
      "2025/03/11 11:30:12 ERROR dspy.utils.parallelizer: Error processing item Example({'text': \"Nay Sayers of this film are likely bitter from some seriously unrequited love. This is a great film for anyone capable of understanding Johnny Mathis's song, or any song from that era: Bobby Darin's, Beyond the Sea... or Stan Getz's, The Girl From Ipanema, et al...<br /><br />I measure films by how many times I have to watch them before I'm satisfied... Chances Are had me back a few good times.<br /><br />I also watch the synergy between the cast... I thought they worked well together.<br /><br />Open your heart, and let the comedic magic of film transport you.<br /><br />'Alan\", 'sentiment': 'positive'}) (input_keys={'text'}): litellm.RateLimitError: RateLimitError: OpenAIException - Error code: 429 - {'error': {'message': 'Rate limit reached for gpt-3.5-turbo in organization org-nS9hIqZFvGLn1kCX8ZWaZkba on tokens per min (TPM): Limit 200000, Used 194328, Requested 5960. Please try again in 86ms. Visit https://platform.openai.com/account/rate-limits to learn more.', 'type': 'tokens', 'param': None, 'code': 'rate_limit_exceeded'}}. Set `provide_traceback=True` to see the stack trace.\n"
     ]
    },
    {
     "name": "stdout",
     "output_type": "stream",
     "text": [
      "Average Metric: 7.00 / 8 (87.5%):  44%|████▍     | 11/25 [00:03<00:04,  3.21it/s]"
     ]
    },
    {
     "name": "stderr",
     "output_type": "stream",
     "text": [
      "2025/03/11 11:30:12 ERROR dspy.utils.parallelizer: Error processing item Example({'text': \"I am a huge fan of the comic book series, but this movie fell way below my expectations. I expected a Heavy Metal 2000 kinda feel to it.....slow moving, bad dialogue, lots o' blood.....but this was worse than anything I could have imagined. <br /><br />The plot line is almost the same as the comic, but the good points pretty much stop there. The characters don't have the energy or spirit that drew my attention in the comic series. The movie only covers a small portion of the comic, and the portion used is more slow and boring than later parts. The focus in the movie is on the insignificant events instead of the more interesting overall plot of the comic book.<br /><br />With the right people working on this project, it could have been amazing. Sadly, it wasn't that way, so now there is yet another terrible movie that few will see and even fewer will love. My copy will surely collect dust for years until I finally throw it out.\", 'sentiment': 'negative'}) (input_keys={'text'}): litellm.RateLimitError: RateLimitError: OpenAIException - Error code: 429 - {'error': {'message': 'Rate limit reached for gpt-3.5-turbo in organization org-nS9hIqZFvGLn1kCX8ZWaZkba on requests per min (RPM): Limit 500, Used 500, Requested 1. Please try again in 120ms. Visit https://platform.openai.com/account/rate-limits to learn more.', 'type': 'requests', 'param': None, 'code': 'rate_limit_exceeded'}}. Set `provide_traceback=True` to see the stack trace.\n"
     ]
    },
    {
     "name": "stdout",
     "output_type": "stream",
     "text": [
      "Average Metric: 8.00 / 9 (88.9%):  52%|█████▏    | 13/25 [00:03<00:03,  3.98it/s]"
     ]
    },
    {
     "name": "stderr",
     "output_type": "stream",
     "text": [
      "2025/03/11 11:30:12 ERROR dspy.utils.parallelizer: Error processing item Example({'text': \"Back in the days before the Toxic Avenger, the low-camp kings at Troma Films tried to take the high (OK, somewhat-less-low) road of producing straight slasher pics. I'd like to think that viewing the results here is what convinced them to give up all pretension and go for self-conscious parody.<br /><br />Splatter University is another film for the masochists in the audience. As it meanders about through two separate casts and innumerable pointless subplots, it actually becomes painful to watch. Let's see if I can summarize.<br /><br />After learning that a dangerous psychopath has escaped from a local hospital, the action moves to a Catholic university (I don't recall the name, but in honor of the title, let's call it St. Splatter). The students are listless and sullen, and argue pettily with each other, slackers ahead of their time. Meanwhile, the new professor, Julie Parker, proves utterly incompetent at her job. The kids deal with relationships, infidelity, unwanted pregnancies, lecherous priests, and how to avoid doing any work in class; Julie deals with a creepy boyfriend, the inflexible administration at St. Splatter, counseling unwed mothers, and the blank, expressionless looks of her students. None of it means a darn thing or gets resolved in any meaningful way. Oh, and every once in a while, a POV shot comes along and stabs one of the girls to death, but don't hold your breath waiting for it. There's a Red Herring Killer, and then a sadly anticlimactic confrontation with the Real Killer, then it's back to the asylum and roll credits.<br /><br />The slow pace and numerous inane subplots seem almost calculated to produce a mounting sense of frustration in the viewer, which is helped along by choppy editing, coffee-can sound quality, and dialog that just doesn't make any sense. And the most agonizing thing about this movie is the killer's fixation on women - the men in this movie are just so deserving. I'd've paid good money to see someone off the jerk with the pregnant girlfriend, or the lunkhead Lothario who was fooling around with his girlfriend's roommate, or any of the creepy priests. There ain't no justice.\", 'sentiment': 'negative'}) (input_keys={'text'}): litellm.RateLimitError: RateLimitError: OpenAIException - Error code: 429 - {'error': {'message': 'Rate limit reached for gpt-3.5-turbo in organization org-nS9hIqZFvGLn1kCX8ZWaZkba on tokens per min (TPM): Limit 200000, Used 199520, Requested 6353. Please try again in 1.761s. Visit https://platform.openai.com/account/rate-limits to learn more.', 'type': 'tokens', 'param': None, 'code': 'rate_limit_exceeded'}}. Set `provide_traceback=True` to see the stack trace.\n"
     ]
    },
    {
     "name": "stdout",
     "output_type": "stream",
     "text": [
      "Average Metric: 8.00 / 9 (88.9%):  52%|█████▏    | 13/25 [00:03<00:03,  3.98it/s]"
     ]
    },
    {
     "name": "stderr",
     "output_type": "stream",
     "text": [
      "2025/03/11 11:30:14 ERROR dspy.utils.parallelizer: Error processing item Example({'text': 'The Sopranos is probably the most widely acclaimed TV series ever, so naturally my expectations were through the roof, and yet the show surpassed them. I love the mafia and crime genre in film and I enjoy following the compelling stories set in these worlds, but this is so much more. 86+ hours of material gives the story a chance to not only be one of the most thrilling and unpredictable mafia/action stories, but also to be a great family drama, a shocking character study, a laugh-out-loud comedy, a brilliant psychological examination dealing with the nature of good and evil, and an intellectual arty collaboration of representative dreams and hallucinations all in one. David Chase\\'s epic series manages to accomplish all of this and more, and cements HBO as the closest TV can get to cinematic perfection, paving the road for a number of other series to continue blowing audiences away.<br /><br />Realism is present when it is needed, but Chase\\'s decisions to depart from it for effect on occasion for \"dream episodes\" and the like only adds more layers to the series. Chase--along with a strong writing staff including Matthew Weiner and Terrence Winter, future creators of Mad Men and Boardwalk Empire respectively--turns New Jersey into an intricate universe full of the greatest cast of characters I\\'ve seen on TV.<br /><br />James Gandolfini domineers the show as Tony, one of the most groundbreaking characters on TV ever. Tony adheres to half of the mobster stereotypes from pop culture, but he defies the other half entirely, and through his family interactions and his therapy sessions with Dr. Melfi (Lorraine Bracco, with whom he has a considerable chemistry that ensures that the therapy scenes always have a completely different feel to the rest of the show), we see nearly every side to Tony Soprano and learn that he is more of an everyman than one would expect.<br /><br />Edie Falco matches the power of Gandolfini\\'s performance as Tony\\'s wife Carmela. From her mixed feelings about Tony\\'s lifestyle, to her suspicions about murders, to her torment over Tony\\'s cheating, to her own thoughts about infidelity, Carmela runs the gamut of emotions throughout 6 seasons and Falco makes her the prime vehicle for the non- mafia viewers to have eyes into such a corrupt world. Scenes between Tony and Carmela provide some of the most heartwrenching and painfully realistic drama ever seen on television.<br /><br />The supporting cast is almost as phenomenal, and a wide array of characters populate the cast over all six seasons, somehow without any redundancies. Nancy Marchand steals the show as Tony\\'s overbearing mother Livia, an insight into Tony\\'s personality problems and panic attacks. The familiarity of Marchand\\'s incessant complaints is almost gruesome since she takes the character so believably far. Michael Imperioli is Christopher, Tony\\'s protégé, whose various poor choices lead him down a road that is painful to watch but brilliantly executed. Drea De Matteo plays Christopher\\'s girlfriend Adriana, and is so well- meaning and loving that the dark arc her character takes as she gets too involved with Christopher\\'s career. Tony Sirico is Paulie, introduced as the ultimate mafia stereotype and a source of comic, but eventually he becomes one of the most sympathetic and complex characters on the show, and nobody plays true anger better than he. And that\\'s just the tip of the iceberg.<br /><br />Familiar faces such as Peter Bogdanovich, Jon Favreau, Ben Kingsley, Lauren Bacall, Will Arnett, Nancy Sinatra, David Strathairn, Robert Patrick, Hal Holbrook, Burt Young, and Eric Mangini make appearances over the course of the show, while names as notable as Joe Pantoliano, Steve Buscemi, and Steven Van Zandt have regular roles as main characters in the series. There are 50+ great characters with powerful arcs, and the excitement and tension never let up in any of the various subplots throughout the show.<br /><br />Comedic elements and entire episodes filled with brilliant hilarity dilute the powerhouse dramatic intensity of the series, which is so multipurpose that for one reason or enough, the credits of nearly any episode left me somewhat bewildered. The Sopranos is the most powerful and addicting series I have seen overall, and its highs are so mindblowing that I would have to call it my favourite show in spite of arguable lows (most of which I disagree with).<br /><br />Whether you love or hate the ending, or what you make of it is irrelevant: the discussion it has created is an achievement in itself. The iconic nature of the entire series makes it an essential part of television history. There are multiple elements for anyone to love and marvel at in this show, so if you\\'re thinking of watching something else instead, do yourself a favour and fuhgeddaboutit.', 'sentiment': 'positive'}) (input_keys={'text'}): litellm.RateLimitError: RateLimitError: OpenAIException - Error code: 429 - {'error': {'message': 'Rate limit reached for gpt-3.5-turbo in organization org-nS9hIqZFvGLn1kCX8ZWaZkba on tokens per min (TPM): Limit 200000, Used 194048, Requested 7021. Please try again in 320ms. Visit https://platform.openai.com/account/rate-limits to learn more.', 'type': 'tokens', 'param': None, 'code': 'rate_limit_exceeded'}}. Set `provide_traceback=True` to see the stack trace.\n"
     ]
    },
    {
     "name": "stdout",
     "output_type": "stream",
     "text": [
      "Average Metric: 8.00 / 9 (88.9%):  60%|██████    | 15/25 [00:05<00:04,  2.38it/s]"
     ]
    },
    {
     "name": "stderr",
     "output_type": "stream",
     "text": [
      "2025/03/11 11:30:15 ERROR dspy.utils.parallelizer: Error processing item Example({'text': 'Often laugh out loud funny play on sex, family, and the classes in Beverly Hills milks more laughs out of the zip code than it\\'s seen since the days of Granny and Jed Clampett. Plot centers on two chauffers who\\'ve bet on which one of them can bed his employer (both single or soon to be single ladies, quite sexy -- Bisset and Woronov) first. If Manuel wins, his friend will pay off his debt to a violent asian street gang -- if he loses, he must play bottom man to his friend! <br /><br />Lots of raunchy dialogue, fairly sick physical humour, etc. But a lot of the comedy is just beneath the surface. Bartel is memorable as a very sensual oder member of the family who ends up taking his sexy, teenaged niece on a year long \"missionary trip\" to Africa.<br /><br />Hilarious fun.', 'sentiment': 'positive'}) (input_keys={'text'}): litellm.RateLimitError: RateLimitError: OpenAIException - Error code: 429 - {'error': {'message': 'Rate limit reached for gpt-3.5-turbo in organization org-nS9hIqZFvGLn1kCX8ZWaZkba on tokens per min (TPM): Limit 200000, Used 195234, Requested 6009. Please try again in 372ms. Visit https://platform.openai.com/account/rate-limits to learn more.', 'type': 'tokens', 'param': None, 'code': 'rate_limit_exceeded'}}. Set `provide_traceback=True` to see the stack trace.\n"
     ]
    },
    {
     "name": "stdout",
     "output_type": "stream",
     "text": [
      "Average Metric: 8.00 / 9 (88.9%):  64%|██████▍   | 16/25 [00:06<00:05,  1.67it/s]"
     ]
    },
    {
     "name": "stderr",
     "output_type": "stream",
     "text": [
      "2025/03/11 11:30:15 ERROR dspy.utils.parallelizer: Error processing item Example({'text': \"This is at least the third remake of this movie so if while watching it, there is a sense of deja vu, don't be surprised. All they did was change the setting of the story and tell it differently but the differences are not significant. And it doesn't get any better because the plot is flawed to begin with. It never works. And like its predecessors, the acting is mediocre.<br /><br />The plot has a unique ending which will surprise any one who has never seen the movie before but the ending doesn't fit the story. Had this movie ended ten minutes earlier, it would have worked and have been very satisfying and I would have thought it more worthwhile. But here is the spoiler and that in the end crime does pay because the criminal is not caught. I never like this message resulting from a movie.\", 'sentiment': 'negative'}) (input_keys={'text'}): litellm.RateLimitError: RateLimitError: OpenAIException - Error code: 429 - {'error': {'message': 'Rate limit reached for gpt-3.5-turbo in organization org-nS9hIqZFvGLn1kCX8ZWaZkba on requests per min (RPM): Limit 500, Used 500, Requested 1. Please try again in 120ms. Visit https://platform.openai.com/account/rate-limits to learn more.', 'type': 'requests', 'param': None, 'code': 'rate_limit_exceeded'}}. Set `provide_traceback=True` to see the stack trace.\n"
     ]
    },
    {
     "name": "stdout",
     "output_type": "stream",
     "text": [
      "Average Metric: 8.00 / 9 (88.9%):  64%|██████▍   | 16/25 [00:07<00:05,  1.67it/s]"
     ]
    },
    {
     "name": "stderr",
     "output_type": "stream",
     "text": [
      "2025/03/11 11:30:15 ERROR dspy.utils.parallelizer: Error processing item Example({'text': 'Frailty--8/10--It\\'s non-sensical title and \"Bill Paxton Directs\" headline aside, this is a pretty good old fashioned rip snorting biblical horror thriller. In the end, it may end up only being the inbred Southern Gothic cousin of Kubrick\\'s \"The Shining\"---but hey, that\\'s a pretty damn entertaining notion. It\\'s also got a doozy of a plot twist...and a very ambiguous moral message. This is the kind of movie that years from now people will catch late at night on basic cable and scare the beejesus out of themselves watching it. Too bad director Bill Paxton had to go hire himself to star...oh well....still a devil of a good rent.', 'sentiment': 'positive'}) (input_keys={'text'}): litellm.RateLimitError: RateLimitError: OpenAIException - Error code: 429 - {'error': {'message': 'Rate limit reached for gpt-3.5-turbo in organization org-nS9hIqZFvGLn1kCX8ZWaZkba on requests per min (RPM): Limit 500, Used 500, Requested 1. Please try again in 120ms. Visit https://platform.openai.com/account/rate-limits to learn more.', 'type': 'requests', 'param': None, 'code': 'rate_limit_exceeded'}}. Set `provide_traceback=True` to see the stack trace.\n"
     ]
    },
    {
     "name": "stdout",
     "output_type": "stream",
     "text": [
      "Average Metric: 8.00 / 9 (88.9%):  68%|██████▊   | 17/25 [00:07<00:04,  1.67it/s]"
     ]
    },
    {
     "name": "stderr",
     "output_type": "stream",
     "text": [
      "2025/03/11 11:30:21 INFO dspy.teleprompt.mipro_optimizer_v2: Score: 0.0 on minibatch of size 25 with parameters ['Predictor 0: Instruction 1', 'Predictor 0: Few-Shot Set 2'].\n",
      "2025/03/11 11:30:21 INFO dspy.teleprompt.mipro_optimizer_v2: Minibatch scores so far: [92.0, 0.0, 0.0, 0.0, 0.0, 0.0, 0.0, 92.0, 0.0, 92.0, 0.0, 0.0]\n",
      "2025/03/11 11:30:21 INFO dspy.teleprompt.mipro_optimizer_v2: Full eval scores so far: [93.75, 0.0]\n",
      "2025/03/11 11:30:21 INFO dspy.teleprompt.mipro_optimizer_v2: Best full score so far: 93.75\n",
      "2025/03/11 11:30:21 INFO dspy.teleprompt.mipro_optimizer_v2: ==========================================\n",
      "\n",
      "\n",
      "2025/03/11 11:30:21 INFO dspy.teleprompt.mipro_optimizer_v2: == Trial 15 / 34 - Minibatch ==\n"
     ]
    },
    {
     "name": "stdout",
     "output_type": "stream",
     "text": [
      "Exception occurred: litellm.RateLimitError: RateLimitError: OpenAIException - Error code: 429 - {'error': {'message': 'Rate limit reached for gpt-3.5-turbo in organization org-nS9hIqZFvGLn1kCX8ZWaZkba on tokens per min (TPM): Limit 200000, Used 199292, Requested 6824. Please try again in 1.834s. Visit https://platform.openai.com/account/rate-limits to learn more.', 'type': 'tokens', 'param': None, 'code': 'rate_limit_exceeded'}}\n",
      "Average Metric: 24.00 / 25 (96.0%): 100%|██████████| 25/25 [00:10<00:00,  2.37it/s]"
     ]
    },
    {
     "name": "stderr",
     "output_type": "stream",
     "text": [
      "2025/03/11 11:30:31 INFO dspy.evaluate.evaluate: Average Metric: 24 / 25 (96.0%)\n",
      "2025/03/11 11:30:31 INFO dspy.teleprompt.mipro_optimizer_v2: Score: 96.0 on minibatch of size 25 with parameters ['Predictor 0: Instruction 1', 'Predictor 0: Few-Shot Set 0'].\n",
      "2025/03/11 11:30:31 INFO dspy.teleprompt.mipro_optimizer_v2: Minibatch scores so far: [92.0, 0.0, 0.0, 0.0, 0.0, 0.0, 0.0, 92.0, 0.0, 92.0, 0.0, 0.0, 96.0]\n",
      "2025/03/11 11:30:31 INFO dspy.teleprompt.mipro_optimizer_v2: Full eval scores so far: [93.75, 0.0]\n",
      "2025/03/11 11:30:31 INFO dspy.teleprompt.mipro_optimizer_v2: Best full score so far: 93.75\n",
      "2025/03/11 11:30:31 INFO dspy.teleprompt.mipro_optimizer_v2: ==========================================\n",
      "\n",
      "\n",
      "2025/03/11 11:30:31 INFO dspy.teleprompt.mipro_optimizer_v2: == Trial 16 / 34 - Minibatch ==\n"
     ]
    },
    {
     "name": "stdout",
     "output_type": "stream",
     "text": [
      "\n",
      "Average Metric: 24.00 / 25 (96.0%): 100%|██████████| 25/25 [00:05<00:00,  4.63it/s] "
     ]
    },
    {
     "name": "stderr",
     "output_type": "stream",
     "text": [
      "2025/03/11 11:30:37 INFO dspy.evaluate.evaluate: Average Metric: 24 / 25 (96.0%)\n",
      "2025/03/11 11:30:37 INFO dspy.teleprompt.mipro_optimizer_v2: Score: 96.0 on minibatch of size 25 with parameters ['Predictor 0: Instruction 8', 'Predictor 0: Few-Shot Set 0'].\n",
      "2025/03/11 11:30:37 INFO dspy.teleprompt.mipro_optimizer_v2: Minibatch scores so far: [92.0, 0.0, 0.0, 0.0, 0.0, 0.0, 0.0, 92.0, 0.0, 92.0, 0.0, 0.0, 96.0, 96.0]\n",
      "2025/03/11 11:30:37 INFO dspy.teleprompt.mipro_optimizer_v2: Full eval scores so far: [93.75, 0.0]\n",
      "2025/03/11 11:30:37 INFO dspy.teleprompt.mipro_optimizer_v2: Best full score so far: 93.75\n",
      "2025/03/11 11:30:37 INFO dspy.teleprompt.mipro_optimizer_v2: ==========================================\n",
      "\n",
      "\n",
      "2025/03/11 11:30:37 INFO dspy.teleprompt.mipro_optimizer_v2: == Trial 17 / 34 - Minibatch ==\n"
     ]
    },
    {
     "name": "stdout",
     "output_type": "stream",
     "text": [
      "\n",
      "Average Metric: 24.00 / 25 (96.0%): 100%|██████████| 25/25 [00:03<00:00,  8.07it/s] "
     ]
    },
    {
     "name": "stderr",
     "output_type": "stream",
     "text": [
      "2025/03/11 11:30:40 INFO dspy.evaluate.evaluate: Average Metric: 24 / 25 (96.0%)\n",
      "2025/03/11 11:30:40 INFO dspy.teleprompt.mipro_optimizer_v2: Score: 96.0 on minibatch of size 25 with parameters ['Predictor 0: Instruction 8', 'Predictor 0: Few-Shot Set 0'].\n",
      "2025/03/11 11:30:40 INFO dspy.teleprompt.mipro_optimizer_v2: Minibatch scores so far: [92.0, 0.0, 0.0, 0.0, 0.0, 0.0, 0.0, 92.0, 0.0, 92.0, 0.0, 0.0, 96.0, 96.0, 96.0]\n",
      "2025/03/11 11:30:40 INFO dspy.teleprompt.mipro_optimizer_v2: Full eval scores so far: [93.75, 0.0]\n",
      "2025/03/11 11:30:40 INFO dspy.teleprompt.mipro_optimizer_v2: Best full score so far: 93.75\n",
      "2025/03/11 11:30:40 INFO dspy.teleprompt.mipro_optimizer_v2: ==========================================\n",
      "\n",
      "\n",
      "2025/03/11 11:30:40 INFO dspy.teleprompt.mipro_optimizer_v2: == Trial 18 / 34 - Minibatch ==\n"
     ]
    },
    {
     "name": "stdout",
     "output_type": "stream",
     "text": [
      "\n",
      "Average Metric: 24.00 / 25 (96.0%): 100%|██████████| 25/25 [00:05<00:00,  4.42it/s]"
     ]
    },
    {
     "name": "stderr",
     "output_type": "stream",
     "text": [
      "2025/03/11 11:30:45 INFO dspy.evaluate.evaluate: Average Metric: 24 / 25 (96.0%)\n",
      "2025/03/11 11:30:45 INFO dspy.teleprompt.mipro_optimizer_v2: Score: 96.0 on minibatch of size 25 with parameters ['Predictor 0: Instruction 1', 'Predictor 0: Few-Shot Set 0'].\n",
      "2025/03/11 11:30:45 INFO dspy.teleprompt.mipro_optimizer_v2: Minibatch scores so far: [92.0, 0.0, 0.0, 0.0, 0.0, 0.0, 0.0, 92.0, 0.0, 92.0, 0.0, 0.0, 96.0, 96.0, 96.0, 96.0]\n",
      "2025/03/11 11:30:45 INFO dspy.teleprompt.mipro_optimizer_v2: Full eval scores so far: [93.75, 0.0]\n",
      "2025/03/11 11:30:45 INFO dspy.teleprompt.mipro_optimizer_v2: Best full score so far: 93.75\n",
      "2025/03/11 11:30:45 INFO dspy.teleprompt.mipro_optimizer_v2: ==========================================\n",
      "\n",
      "\n",
      "2025/03/11 11:30:45 INFO dspy.teleprompt.mipro_optimizer_v2: == Trial 19 / 34 - Minibatch ==\n"
     ]
    },
    {
     "name": "stdout",
     "output_type": "stream",
     "text": [
      "\n",
      "Average Metric: 24.00 / 25 (96.0%): 100%|██████████| 25/25 [00:08<00:00,  2.78it/s] "
     ]
    },
    {
     "name": "stderr",
     "output_type": "stream",
     "text": [
      "2025/03/11 11:30:54 INFO dspy.evaluate.evaluate: Average Metric: 24 / 25 (96.0%)\n",
      "2025/03/11 11:30:54 INFO dspy.teleprompt.mipro_optimizer_v2: Score: 96.0 on minibatch of size 25 with parameters ['Predictor 0: Instruction 7', 'Predictor 0: Few-Shot Set 0'].\n",
      "2025/03/11 11:30:54 INFO dspy.teleprompt.mipro_optimizer_v2: Minibatch scores so far: [92.0, 0.0, 0.0, 0.0, 0.0, 0.0, 0.0, 92.0, 0.0, 92.0, 0.0, 0.0, 96.0, 96.0, 96.0, 96.0, 96.0]\n",
      "2025/03/11 11:30:54 INFO dspy.teleprompt.mipro_optimizer_v2: Full eval scores so far: [93.75, 0.0]\n",
      "2025/03/11 11:30:54 INFO dspy.teleprompt.mipro_optimizer_v2: Best full score so far: 93.75\n",
      "2025/03/11 11:30:54 INFO dspy.teleprompt.mipro_optimizer_v2: ==========================================\n",
      "\n",
      "\n",
      "2025/03/11 11:30:54 INFO dspy.teleprompt.mipro_optimizer_v2: == Trial 20 / 34 - Minibatch ==\n"
     ]
    },
    {
     "name": "stdout",
     "output_type": "stream",
     "text": [
      "\n",
      "Average Metric: 1.00 / 1 (100.0%):  40%|████      | 10/25 [00:59<01:28,  5.93s/it]\n",
      "Average Metric: 8.00 / 9 (88.9%):  72%|███████▏  | 18/25 [00:48<00:18,  2.68s/it]\n"
     ]
    },
    {
     "name": "stderr",
     "output_type": "stream",
     "text": [
      "2025/03/11 11:30:59 ERROR dspy.utils.parallelizer: Error processing item Example({'text': \"For me this is a story that starts with some funny jokes regarding Franks fanatasies when he is travelling with a staircase and when he is sitting in business meetings... The problem is that when you have been watching this movie for an hour you will see the same fantasies/funny situations again and again and again. It is to predictable. It is more done as a TV story where you can go away and come back without missing anything.<br /><br />I like Felix Herngren as Frank but that is not enough even when it is a comedy it has to have more variations and some kind of message to it's audience....<br /><br />\", 'sentiment': 'negative'}) (input_keys={'text'}): litellm.RateLimitError: RateLimitError: OpenAIException - Error code: 429 - {'error': {'message': 'Rate limit reached for gpt-3.5-turbo in organization org-nS9hIqZFvGLn1kCX8ZWaZkba on tokens per min (TPM): Limit 200000, Used 198743, Requested 6145. Please try again in 1.466s. Visit https://platform.openai.com/account/rate-limits to learn more.', 'type': 'tokens', 'param': None, 'code': 'rate_limit_exceeded'}}. Set `provide_traceback=True` to see the stack trace.\n"
     ]
    },
    {
     "name": "stdout",
     "output_type": "stream",
     "text": [
      "Average Metric: 8.00 / 8 (100.0%):  36%|███▌      | 9/25 [00:04<00:11,  1.35it/s]"
     ]
    },
    {
     "name": "stderr",
     "output_type": "stream",
     "text": [
      "2025/03/11 11:30:59 ERROR dspy.utils.parallelizer: Error processing item Example({'text': \"if you like gangster type of movies, then this is the first one you should buy or at least rent, Al Pacino his performance is top notch. and the story is classic!! 10 / 10 !!!! Why isn't this movie in the TOP 250 list??\", 'sentiment': 'positive'}) (input_keys={'text'}): litellm.RateLimitError: RateLimitError: OpenAIException - Error code: 429 - {'error': {'message': 'Rate limit reached for gpt-3.5-turbo in organization org-nS9hIqZFvGLn1kCX8ZWaZkba on tokens per min (TPM): Limit 200000, Used 198294, Requested 6048. Please try again in 1.302s. Visit https://platform.openai.com/account/rate-limits to learn more.', 'type': 'tokens', 'param': None, 'code': 'rate_limit_exceeded'}}. Set `provide_traceback=True` to see the stack trace.\n"
     ]
    },
    {
     "name": "stdout",
     "output_type": "stream",
     "text": [
      "Average Metric: 8.00 / 8 (100.0%):  36%|███▌      | 9/25 [00:04<00:11,  1.35it/s]"
     ]
    },
    {
     "name": "stderr",
     "output_type": "stream",
     "text": [
      "2025/03/11 11:30:59 ERROR dspy.utils.parallelizer: Error processing item Example({'text': \"I've watched this movie twice, and I plan to see it again. It is the movie that puts you in the director's place, regarding his romantic relations and the political situation in Israel. It also makes me cry because of remembering the wonderful time it was, and the horrible murder described there. It is really worth watching.\", 'sentiment': 'positive'}) (input_keys={'text'}): litellm.RateLimitError: RateLimitError: OpenAIException - Error code: 429 - {'error': {'message': 'Rate limit reached for gpt-3.5-turbo in organization org-nS9hIqZFvGLn1kCX8ZWaZkba on tokens per min (TPM): Limit 200000, Used 198300, Requested 6074. Please try again in 1.312s. Visit https://platform.openai.com/account/rate-limits to learn more.', 'type': 'tokens', 'param': None, 'code': 'rate_limit_exceeded'}}. Set `provide_traceback=True` to see the stack trace.\n"
     ]
    },
    {
     "name": "stdout",
     "output_type": "stream",
     "text": [
      "Average Metric: 8.00 / 8 (100.0%):  44%|████▍     | 11/25 [00:04<00:06,  2.01it/s]"
     ]
    },
    {
     "name": "stderr",
     "output_type": "stream",
     "text": [
      "2025/03/11 11:30:59 ERROR dspy.utils.parallelizer: Error processing item Example({'text': \"Wes Craven, you are having a laugh... at our expense. The Red Eye plot is preposterous... We are confronted by a guy who has apparently spent 8 weeks watching a girl, who then turns up at an airport behind her, flirts and chats her up successfully, somehow wangles a seat next to her in a two seat space, not trapped in the middle of a five seat row (contacts at check-in?) and is cheezily nice during a painfully slooooow build up. Then, once up in the air, in a confined space, surrounded by strangers, he immediately starts threatening the vacuous, if super-efficient, Rachel McAdams and saying tosh like 'we got ya daddy, do what I say, or poppa gets it'. Well, forgive me, but didn't they already have her daddy ready for slaughter-so-you-better-oughta long before she stepped on the plane and therefore wouldn't it have been oh, sooooooo much simpler to simply snatch the gal off the street and terrorise her in a room somewhere, forgetting the complicated and insecure dad plot, pulling her nails out or whatever until she made the all important 'call' required? Or even - cos this is the movies and we need a few unreal twists - keep the dumb dad-in-distress thing intact if you must, but dress it up better so that holding him in harms way until the convoluted plot had been concluded made some sense, without the plane dumbdown? Alternatively, without wanting to sound like an actual thinking terrorist/assassin - couldn't the massive bazooka-missile thang employed have been far more easily used on, say, a car driving down the highway, with the politician inside, rather than the 50th story of a Miami seafront hotel, from a fishing boat (mind you, as we already know, security in Miami is lax, so they'll speed away)? I know, I know, far more fun to go through watching a pretty girl for 8 weeks, burgle her dads house to steal his wallet (that somehow - star trek style - gets transported from Miami to Texas instantly) in order to - perhaps - get her to arrange for a politician to change hotel room and, and, and... Well, a thousand things could go wrong here, each one entirely destroying the Big Plan, so why not slim the elements down to a sensible handful, such as - 1. bazooka. 2. car. 3. boom! My 50 minute drive home from the cinema was spent highlighting the abundance of flaws and stupid cod-Hitchcockian twists, which sadly was the best fun of the whole sorry experience. And as for security back at Miami Airport... we have an apparently crazy and violent girl running off a plane, chased by cops, who during the chase sits down to have a coffee, moves elsewhere to read a magazine at a bar, then runs again like crazy up and down the whole terminal... by now also chased by crazed Cillian Murphy (no CCTV then? - I had guns pulled on me for parking in the wrong place for 10 seconds at Miami Airport a couple of years back). So instead of speaking to the cops - her allies - or getting on the blower at a call-box direct to her dad to warn him his life is in danger, McAdams prefers instead to steal a People Carrier off a family in the Airport forecourt (call the damned security...) and drives home to daddy, mowing down the assassin with the vehicle in the front garden of the house, in a rich neighbourhood-watch district, crushing the front porch in the process - an act which actually slightly wakes dad up from an afternoon snooze, after about a minute, yet which somehow fails to register with neighbours who aren't even mildly curious, thus ensuring 15 more minutes of hide and seek shenanigans as the duo run around the vast Hollodeck type house... Dohhh, it actually hurts to keep thinking about it all - Cillian (surely renamed Silly 'un for doing this one?) preposterously turns from ice assassin to comically unhinged (and inept) lunatic killer at the end, this theoretically ruthless despatcher of human life now allowing the dad to live so that he can watch his daughter getting her goose cooked. I'd better stop, because the stream of drivel I'm writing here must sound as uncoordinated as the Red Eye script. If Ms McAdams hadn't been allowed to get on the plane in the first place the title could have been altered, from 'Red Eye' to 'No Eye, Dear'. RR\", 'sentiment': 'negative'}) (input_keys={'text'}): litellm.RateLimitError: RateLimitError: OpenAIException - Error code: 429 - {'error': {'message': 'Rate limit reached for gpt-3.5-turbo in organization org-nS9hIqZFvGLn1kCX8ZWaZkba on tokens per min (TPM): Limit 200000, Used 197677, Requested 7043. Please try again in 1.416s. Visit https://platform.openai.com/account/rate-limits to learn more.', 'type': 'tokens', 'param': None, 'code': 'rate_limit_exceeded'}}. Set `provide_traceback=True` to see the stack trace.\n"
     ]
    },
    {
     "name": "stdout",
     "output_type": "stream",
     "text": [
      "Average Metric: 9.00 / 9 (100.0%):  52%|█████▏    | 13/25 [00:05<00:05,  2.25it/s]"
     ]
    },
    {
     "name": "stderr",
     "output_type": "stream",
     "text": [
      "2025/03/11 11:31:01 ERROR dspy.utils.parallelizer: Error processing item Example({'text': 'Bloodsuckers has the potential to be a somewhat decent movie, the concept of military types tracking down and battling vampires in space is one with some potential in the cheesier realm of things. Even the idea of the universe being full of various different breeds of vampire, all with different attributes, many of which the characters have yet to find out about, is kind of cool as well. As to how most of the life in the galaxy outside of earth is vampire, I\\'m not sure how the makers meant for that to work, given the nature of vampires. Who the hell they are meant to be feeding on if almost everyone is a vampire I don\\'t know. As it is the movie comes across a low budget mix of Firefly/Serenity and vampires movies with a dash of Aliens.<br /><br />The action parts of the movie are pretty average and derivative (Particularly of Serenity) but passable- they are reasonably well executed and there is enough gore for a vampire flick, including some of the comical blood-spurting variety. There is a lot of character stuff, most of which is tedious, coming from conflicts between characters who mostly seem like whiny, immature arseholes- primarily cowboy dude and Asian woman. There are a few character scenes that actually kind of work and the actors don\\'t play it too badly but it mostly slows things down. A nice try at fleshing the characters out but people don\\'t watch a movie called Bloodsuckers for character development and drama. The acting is actually okay. Michael Ironside hams it up and is as fun to watch as ever and at least of a couple of the women are hot. The space SFX aren\\'t too bad for what is clearly a low budget work. The story is again pretty average and derivative but as I said the world created has a little bit of potential. The way things are set up Bloodsuckers really does seem like the pilot for a TV series- character dynamics introduced, the world introduced but not explored, etc. <br /><br />The film does have a some highlights and head scratching moments- the kind of stuff that actually makes these dodgy productions watchable. -The scene where our heroes interrogate a talking sock puppet chestburster type creature. Hilarious. - The \"sex scene.\" WTF indeed. -The credit \"And Michael Ironside as Muco.\" The most annoying aspect of it all though is the really awful and usually inappropriate pop music they have playing very loud over half the scenes of the movie. It is painful to listen to and only detracts from what is only average at best.<br /><br />Basically an okay watch is you\\'re up for something cheesy, even if it is just for the \"chestburster\" scene.', 'sentiment': 'negative'}) (input_keys={'text'}): litellm.RateLimitError: RateLimitError: OpenAIException - Error code: 429 - {'error': {'message': 'Rate limit reached for gpt-3.5-turbo in organization org-nS9hIqZFvGLn1kCX8ZWaZkba on tokens per min (TPM): Limit 200000, Used 198578, Requested 6646. Please try again in 1.567s. Visit https://platform.openai.com/account/rate-limits to learn more.', 'type': 'tokens', 'param': None, 'code': 'rate_limit_exceeded'}}. Set `provide_traceback=True` to see the stack trace.\n"
     ]
    },
    {
     "name": "stdout",
     "output_type": "stream",
     "text": [
      "Average Metric: 9.00 / 9 (100.0%):  56%|█████▌    | 14/25 [00:06<00:06,  1.72it/s]"
     ]
    },
    {
     "name": "stderr",
     "output_type": "stream",
     "text": [
      "2025/03/11 11:31:02 ERROR dspy.utils.parallelizer: Error processing item Example({'text': \"A year or so ago, I was watching the TV news when a story was broadcast about a zombie movie being filmed in my area. Since then I have paid particular attention to this movie called 'Fido' as it finished production and began playing at festivals. Two weeks ago Fido began playing in my local theater. And, just yesterday, I read a newspaper article which stated Fido is not attracting audiences in it's limited release, with the exception of our local theater. In fact, here it is outdrawing all other shows at The Paramount Theater, including 300. Of course, this makes sense as many locals want to see their city on screen or spot themselves roaming around in zombie make-up. And for any other locals who haven't seen Fido yet but are considering it, I can say there are many images on screen, from the school to city park to the forbidden zone, that you will recognize. In fact, they make the Okanagan Valley look beautiful. That's right beautiful scenery in a zombie movie! However, Fido itself is a very good movie. Yes, despite its flaws, it is better then most of the 20 other movies playing in my local market. Fido is best described as an episode of Lassie in which the collie has been replaced by a member of the undead. This is a clever premise. And the movie even goes further by taking advantage of the 1950's emphasize on conformity and playing up the cold-war paranoia which led to McCarthyism. Furthermore, it builds on the notion that zombies can be tamed or trained which George Romero first introduced in Day Of The Dead.<br /><br />K'Sun Ray plays a small town boy who's mother (Carrie-Ann Moss) longs for a zombie servant so she can be like all the other house wives on her block. However, his dad (Dylan Baker) is against the idea as he once had to kill his own 'zombie father'. Eventually, the family does acquire a zombie named 'Fido' (played by Billy Connolly), and adjusts to life with the undead. Billy Connolly was inspired casting. He is able to convey Fido's confusion, longing, hatred, and loyalty through only his eyes, lumbering body, and grunts. Connolly shows that he can play understated characters better than his outrageously comedic ones. This is his best role since Mrs. Brown.<br /><br />Fido follows in the footsteps of other recent zomcoms such as Shawn Of The Dead and Zombie Honeymoon. Being someone who appreciates Bruce Campbell and Misty Mundae movies more than Eli Roth and Jigsaw ones, I prefer humor over gore in my horror. However, I understand the criticism of those horror fans who feel there is not enough 'undead carnage' in Fido. Yet, I am sure patient viewers will be rewarded by the films gentle humor.<br /><br />The movie does break down in it's third act. It's as if the writers were so wrapped up in the cute premise of domesticated zombies in the 1950s, they forgot about the story arc. However, given my interest in horror comedies and my appreciation for seeing the neighborhood on screen, I rate Fido 9 out of 10.\", 'sentiment': 'positive'}) (input_keys={'text'}): litellm.RateLimitError: RateLimitError: OpenAIException - Error code: 429 - {'error': {'message': 'Rate limit reached for gpt-3.5-turbo in organization org-nS9hIqZFvGLn1kCX8ZWaZkba on tokens per min (TPM): Limit 200000, Used 193802, Requested 6738. Please try again in 162ms. Visit https://platform.openai.com/account/rate-limits to learn more.', 'type': 'tokens', 'param': None, 'code': 'rate_limit_exceeded'}}. Set `provide_traceback=True` to see the stack trace.\n"
     ]
    },
    {
     "name": "stdout",
     "output_type": "stream",
     "text": [
      "Average Metric: 9.00 / 9 (100.0%):  60%|██████    | 15/25 [00:07<00:07,  1.27it/s]"
     ]
    },
    {
     "name": "stderr",
     "output_type": "stream",
     "text": [
      "2025/03/11 11:31:02 ERROR dspy.utils.parallelizer: Error processing item Example({'text': 'I *loved* the original Scary Movie. I\\'m a huge fan of parody- it is my favorite form of humor. It is sometimes regarded as the most intelligent form of humor. The Wayans boys seemed to grasp that concept perfectly in the original film, then temporarily forgot it when making the sequel. I think the Wayans\\' are a family of comical geniuses. Alas, even geniuses make mistakes.<br /><br />The movie begins with promise. I liked \"The Exorcist\" parody, especially the \"come on out, ma\" gag. Now, that\\'s Wayans-quality material. But, other than that, I can only think of two other times I laughed: 1) when Tori Spelling is seduced in the middle of the night by a spirit, then becomes clingy and starts talking about marriage with him. Meanwhile, he\\'s saying, \"It was just a booty call!!\" That was kinda funny. 2) The \"Save the Last Dance\" parody where the Cindy character inadvertently beats up a girl while practicing her new moves. But even the short-lived giggles are no match for the side-splitting laughs of the first Scary Movie.<br /><br />The rest of the movie is pure trash, filled with cheap gross-out gags. Jokes from the first movie which were subtle or implied are magnified and overdone. For example, in Scary Movie I, several innuendos are made to imply that the character Ray is gay. This was hilarious. But, in Scary Movie II, the whole penis-strangulation scene with Ray under the bed was mind-numbing and incredibly unfunny. This is the pattern of the whole film. Shock humor *alone* doesn\\'t take a movie very far. This was a trend in 2000 and 2001, unfortunately. <br /><br />As much as it pains me to rate a Wayans movie so low, I have to give this one a 2 out of 10.', 'sentiment': 'negative'}) (input_keys={'text'}): litellm.RateLimitError: RateLimitError: OpenAIException - Error code: 429 - {'error': {'message': 'Rate limit reached for gpt-3.5-turbo in organization org-nS9hIqZFvGLn1kCX8ZWaZkba on tokens per min (TPM): Limit 200000, Used 199743, Requested 6414. Please try again in 1.847s. Visit https://platform.openai.com/account/rate-limits to learn more.', 'type': 'tokens', 'param': None, 'code': 'rate_limit_exceeded'}}. Set `provide_traceback=True` to see the stack trace.\n"
     ]
    },
    {
     "name": "stdout",
     "output_type": "stream",
     "text": [
      "Average Metric: 9.00 / 9 (100.0%):  60%|██████    | 15/25 [00:08<00:07,  1.27it/s]"
     ]
    },
    {
     "name": "stderr",
     "output_type": "stream",
     "text": [
      "2025/03/11 11:31:03 ERROR dspy.utils.parallelizer: Error processing item Example({'text': \"In my opinion, this is a pretty good celebrity skit show. I enjoyed seeing Greg Kinnear as the host. There are many reasons why I said that. Even though Hal Sparks was an okay host, I sometimes wish that Greg Kinnear hadn't left. If you ask me, it seems that nobody stays with a TV show throughout its entire run anymore. Still, I enjoyed seeing the various hosts and other people spoofing celebrities. If you ask me, that was pretty darn funny. Before I wrap this up, I must say that I kind of miss this show. Now, in conclusion, I highly recommend this show to all you die-hard sketch show fans. You will really enjoy it.\", 'sentiment': 'positive'}) (input_keys={'text'}): litellm.RateLimitError: RateLimitError: OpenAIException - Error code: 429 - {'error': {'message': 'Rate limit reached for gpt-3.5-turbo in organization org-nS9hIqZFvGLn1kCX8ZWaZkba on requests per min (RPM): Limit 500, Used 500, Requested 1. Please try again in 120ms. Visit https://platform.openai.com/account/rate-limits to learn more.', 'type': 'requests', 'param': None, 'code': 'rate_limit_exceeded'}}. Set `provide_traceback=True` to see the stack trace.\n"
     ]
    },
    {
     "name": "stdout",
     "output_type": "stream",
     "text": [
      "Average Metric: 9.00 / 9 (100.0%):  68%|██████▊   | 17/25 [00:08<00:04,  1.96it/s]"
     ]
    },
    {
     "name": "stderr",
     "output_type": "stream",
     "text": [
      "2025/03/11 11:31:03 ERROR dspy.utils.parallelizer: Error processing item Example({'text': 'As someone who was staggered at the incredible visuals of \"Hero,\" I was anxious to see this film which was billed as being along the same lines, but better. It also featured an actress I like: Ziyi Zhang. Well, I was disappointed on both counts. I bought the DVD of this film sight-unseen, and that was a mistake. It was not better.<br /><br />I realize these flying-through-the-air martial arts films are pure fantasy but this story is stretched so far past anything remotely believable it just made me shake my head in disappointing disbelief. A blind woman defeating hundreds of opponents? Sorry, that\\'s going a little far. Also, the major male character \\'Jin\" (Takeshi Kaneshiro) was so annoying with his dialog, stupid look on his face and stupid laugh, that he ruined the film, too.<br /><br />Despite the wonderful colors and amazing action scenes, this story - to me - just didn\\'t have an appeal to make it a movie worth owning. This film is no \"Hero\" of mine!', 'sentiment': 'negative'}) (input_keys={'text'}): litellm.RateLimitError: RateLimitError: OpenAIException - Error code: 429 - {'error': {'message': 'Rate limit reached for gpt-3.5-turbo in organization org-nS9hIqZFvGLn1kCX8ZWaZkba on tokens per min (TPM): Limit 200000, Used 198919, Requested 6235. Please try again in 1.546s. Visit https://platform.openai.com/account/rate-limits to learn more.', 'type': 'tokens', 'param': None, 'code': 'rate_limit_exceeded'}}. Set `provide_traceback=True` to see the stack trace.\n"
     ]
    },
    {
     "name": "stdout",
     "output_type": "stream",
     "text": [
      "Average Metric: 9.00 / 9 (100.0%):  68%|██████▊   | 17/25 [00:08<00:04,  1.96it/s]"
     ]
    },
    {
     "name": "stderr",
     "output_type": "stream",
     "text": [
      "2025/03/11 11:31:07 INFO dspy.teleprompt.mipro_optimizer_v2: Score: 0.0 on minibatch of size 25 with parameters ['Predictor 0: Instruction 8', 'Predictor 0: Few-Shot Set 3'].\n",
      "2025/03/11 11:31:07 INFO dspy.teleprompt.mipro_optimizer_v2: Minibatch scores so far: [92.0, 0.0, 0.0, 0.0, 0.0, 0.0, 0.0, 92.0, 0.0, 92.0, 0.0, 0.0, 96.0, 96.0, 96.0, 96.0, 96.0, 0.0]\n",
      "2025/03/11 11:31:07 INFO dspy.teleprompt.mipro_optimizer_v2: Full eval scores so far: [93.75, 0.0]\n",
      "2025/03/11 11:31:07 INFO dspy.teleprompt.mipro_optimizer_v2: Best full score so far: 93.75\n",
      "2025/03/11 11:31:07 INFO dspy.teleprompt.mipro_optimizer_v2: ==========================================\n",
      "\n",
      "\n",
      "2025/03/11 11:31:07 INFO dspy.teleprompt.mipro_optimizer_v2: ===== Trial 21 / 34 - Full Evaluation =====\n",
      "2025/03/11 11:31:07 INFO dspy.teleprompt.mipro_optimizer_v2: Doing full eval on next top averaging program (Avg Score: 96.0) from minibatch trials...\n"
     ]
    },
    {
     "name": "stdout",
     "output_type": "stream",
     "text": [
      "Exception occurred: litellm.RateLimitError: RateLimitError: OpenAIException - Error code: 429 - {'error': {'message': 'Rate limit reached for gpt-3.5-turbo in organization org-nS9hIqZFvGLn1kCX8ZWaZkba on tokens per min (TPM): Limit 200000, Used 196855, Requested 6188. Please try again in 912ms. Visit https://platform.openai.com/account/rate-limits to learn more.', 'type': 'tokens', 'param': None, 'code': 'rate_limit_exceeded'}}\n",
      "Average Metric: 8.00 / 9 (88.9%):  10%|█         | 8/80 [00:02<00:38,  1.85it/s]  "
     ]
    },
    {
     "name": "stderr",
     "output_type": "stream",
     "text": [
      "2025/03/11 11:31:09 ERROR dspy.utils.parallelizer: Error processing item Example({'text': \"Okay, I rented this movie because of the director...he has made some interesting flicks in the past (if you haven't seen Waxork you are missing a fun ride). Anyway, I had my doubts about this movie from the beginning but I decided to suck it up and give it a look. It's bad. Very bad. If you haven't seen the movie and don't mind spoilers read ahead. First of all, the old saying 'You can't judge a book by it's cover' applies here. The box for this flick seems to indicate that Jill is the stone fox with long hair with highlights. The back of the box has a cool shot of the red-leather Jill and some other shots. The description makes you want to rent the movie because it SOUNDS good. You start watching it and suddenly you find out that the movie takes place (inexplicably) in 1977. Jill is a total dog who is not the girl on the cover. The movie is not quite as predictable as you would think...and that's not a good thing. Characters do so many stupid things without any modicum of motivation...it's embarrassing to watch. 10 minutes before the end of the movie Dolph and another lady have sex for no good reason. Also, what was the point of having Dolph kill this other lady in cold blood who had been helping him. Anthony Hickox the director should have seen a stinker when he read the script. Had it been set in the underworld of the new milennium and made the characters halfway intelligent it might have been decent. To set it in the 70's makes no sense and has no bearing on the story whatsoever. Avoid it!\", 'sentiment': 'negative'}) (input_keys={'text'}): litellm.RateLimitError: RateLimitError: OpenAIException - Error code: 429 - {'error': {'message': 'Rate limit reached for gpt-3.5-turbo in organization org-nS9hIqZFvGLn1kCX8ZWaZkba on tokens per min (TPM): Limit 200000, Used 199507, Requested 817. Please try again in 97ms. Visit https://platform.openai.com/account/rate-limits to learn more.', 'type': 'tokens', 'param': None, 'code': 'rate_limit_exceeded'}}. Set `provide_traceback=True` to see the stack trace.\n"
     ]
    },
    {
     "name": "stdout",
     "output_type": "stream",
     "text": [
      "Average Metric: 9.00 / 10 (90.0%):  12%|█▎        | 10/80 [00:02<00:37,  1.85it/s]"
     ]
    },
    {
     "name": "stderr",
     "output_type": "stream",
     "text": [
      "2025/03/11 11:31:09 ERROR dspy.utils.parallelizer: Error processing item Example({'text': \"I love horses and admire hand drawn animation, so I expected nothing short of amazement from Dreamworks new animated picture Spirit: Stallion of the Cimarron. I guess you could say I was a little bit disappointed. You have wonderful animation and at first what seems like a perfect story. A story about absolutely nothing but a horse in nature. The animals don't sing cute songs or even talk -- a major plus. Sadly, the film has an uncalled for narration by Matt Damon; a sappy soundtrack by Bryan Adams; and enough action scenes to compare it to a Jerry Bruckheimer production. If the film makers would have just stayed with simplicity, we'd have a masterpiece here. This is not a great film, but it is good entertainment for small children. I would recommend this film to families because it has its heart in the right place and its the only thing out there right now that isn't offensive to small children. Not bad, but could have been much better. Very pretty visuals though.\", 'sentiment': 'positive'}) (input_keys={'text'}): litellm.RateLimitError: RateLimitError: OpenAIException - Error code: 429 - {'error': {'message': 'Rate limit reached for gpt-3.5-turbo in organization org-nS9hIqZFvGLn1kCX8ZWaZkba on requests per min (RPM): Limit 500, Used 500, Requested 1. Please try again in 120ms. Visit https://platform.openai.com/account/rate-limits to learn more.', 'type': 'requests', 'param': None, 'code': 'rate_limit_exceeded'}}. Set `provide_traceback=True` to see the stack trace.\n"
     ]
    },
    {
     "name": "stdout",
     "output_type": "stream",
     "text": [
      "Average Metric: 10.00 / 11 (90.9%):  15%|█▌        | 12/80 [00:02<00:11,  6.08it/s]"
     ]
    },
    {
     "name": "stderr",
     "output_type": "stream",
     "text": [
      "2025/03/11 11:31:09 ERROR dspy.utils.parallelizer: Error processing item Example({'text': 'This obscure de Sica delivers the goods. And it is said \"the meek shall inherit the earth.\" This tale of classes on the surface but really an allegory for all the homeless people that populated Europe after the great war. They are homeless but cheerful, in a societies too impoverished and selfish to care for or acknowledge them, footmats for the Italian carpetbaggers. de Sica chooses to tell it as a fairy tale, a Cinderella story. I have not read the book it is based on so I cannot foresay if the deus ex machina is the construct of the writer or Vittorio. It begins with the words, \"Once upon a time...\" to exemplify the timelessness of its tale, for the story could be set anywhere and everywhere. Caricature sketches of the aristocracy that cut to the bone, whimsical nature of the homeless especially when they begin to grant their wishes and an ending right out of a Spielberg picture makes this boulange a delight for all. De Sica\\'s most accessible picture is also one of his best. Abandoning neo-realism, he always dallied between that and pure good old film-making, he creates a movie that breaks the heart and at the same time fills it with the yearning of hope that one needs to continue leaving in this world. Gracias Vittorio! Gracias! Gracias!!! Gracias!!!!!!!!!!!!', 'sentiment': 'positive'}) (input_keys={'text'}): litellm.RateLimitError: RateLimitError: OpenAIException - Error code: 429 - {'error': {'message': 'Rate limit reached for gpt-3.5-turbo in organization org-nS9hIqZFvGLn1kCX8ZWaZkba on tokens per min (TPM): Limit 200000, Used 199641, Requested 758. Please try again in 119ms. Visit https://platform.openai.com/account/rate-limits to learn more.', 'type': 'tokens', 'param': None, 'code': 'rate_limit_exceeded'}}. Set `provide_traceback=True` to see the stack trace.\n"
     ]
    },
    {
     "name": "stdout",
     "output_type": "stream",
     "text": [
      "Average Metric: 10.00 / 11 (90.9%):  16%|█▋        | 13/80 [00:02<00:11,  6.08it/s]"
     ]
    },
    {
     "name": "stderr",
     "output_type": "stream",
     "text": [
      "2025/03/11 11:31:10 ERROR dspy.utils.parallelizer: Error processing item Example({'text': 'It\\'s good to see that Vintage Film Buff have correctly categorized their excellent DVD release as a \"musical\", for that\\'s what this film is, pure and simple. Like its unofficial remake, Murder at the Windmill (1949), the murder plot is just an excuse for an elaborate girlie show with Kitty Carlisle and Gertrude Michael leading a cast of super-decorative girls including Ann Sheridan, Lucy Ball, Beryl Wallace, Gwenllian Gill, Gladys Young, Barbara Fritchie, Wanda Perry and Dorothy White. Carl Brisson is also on hand to lend his strong voice to \"Cocktails for Two\". Undoubtedly the movie\\'s most popular song, it is heard no less than four times. However, it\\'s Gertrude Michael who steals the show, not only with her rendition of \"Sweet Marijauna\" but her strong performance as the hero\\'s rejected girlfriend. As for the rest of the cast, we could have done without Jack Oakie and Victor McLaglen altogether. The only good thing about Oakie\\'s role is his weak running gag with cult icon, Toby Wing. In fact, to give you an idea as to how far the rest of the comedy is over-indulged and over-strained, super-dumb Inspector McLaglen simply cannot put his hands on the killer even though, would you believe, in this instance it happens to be the person you most suspect. Director Mitch Leisen actually goes to great pains to point the killer out to even the dumbest member of the cinema audience by giving the player concerned close-up after close-up.', 'sentiment': 'positive'}) (input_keys={'text'}): litellm.RateLimitError: RateLimitError: OpenAIException - Error code: 429 - {'error': {'message': 'Rate limit reached for gpt-3.5-turbo in organization org-nS9hIqZFvGLn1kCX8ZWaZkba on requests per min (RPM): Limit 500, Used 500, Requested 1. Please try again in 120ms. Visit https://platform.openai.com/account/rate-limits to learn more.', 'type': 'requests', 'param': None, 'code': 'rate_limit_exceeded'}}. Set `provide_traceback=True` to see the stack trace.\n"
     ]
    },
    {
     "name": "stdout",
     "output_type": "stream",
     "text": [
      "Average Metric: 10.00 / 11 (90.9%):  19%|█▉        | 15/80 [00:03<00:12,  5.34it/s]"
     ]
    },
    {
     "name": "stderr",
     "output_type": "stream",
     "text": [
      "2025/03/11 11:31:10 ERROR dspy.utils.parallelizer: Error processing item Example({'text': \"Wes Craven, you are having a laugh... at our expense. The Red Eye plot is preposterous... We are confronted by a guy who has apparently spent 8 weeks watching a girl, who then turns up at an airport behind her, flirts and chats her up successfully, somehow wangles a seat next to her in a two seat space, not trapped in the middle of a five seat row (contacts at check-in?) and is cheezily nice during a painfully slooooow build up. Then, once up in the air, in a confined space, surrounded by strangers, he immediately starts threatening the vacuous, if super-efficient, Rachel McAdams and saying tosh like 'we got ya daddy, do what I say, or poppa gets it'. Well, forgive me, but didn't they already have her daddy ready for slaughter-so-you-better-oughta long before she stepped on the plane and therefore wouldn't it have been oh, sooooooo much simpler to simply snatch the gal off the street and terrorise her in a room somewhere, forgetting the complicated and insecure dad plot, pulling her nails out or whatever until she made the all important 'call' required? Or even - cos this is the movies and we need a few unreal twists - keep the dumb dad-in-distress thing intact if you must, but dress it up better so that holding him in harms way until the convoluted plot had been concluded made some sense, without the plane dumbdown? Alternatively, without wanting to sound like an actual thinking terrorist/assassin - couldn't the massive bazooka-missile thang employed have been far more easily used on, say, a car driving down the highway, with the politician inside, rather than the 50th story of a Miami seafront hotel, from a fishing boat (mind you, as we already know, security in Miami is lax, so they'll speed away)? I know, I know, far more fun to go through watching a pretty girl for 8 weeks, burgle her dads house to steal his wallet (that somehow - star trek style - gets transported from Miami to Texas instantly) in order to - perhaps - get her to arrange for a politician to change hotel room and, and, and... Well, a thousand things could go wrong here, each one entirely destroying the Big Plan, so why not slim the elements down to a sensible handful, such as - 1. bazooka. 2. car. 3. boom! My 50 minute drive home from the cinema was spent highlighting the abundance of flaws and stupid cod-Hitchcockian twists, which sadly was the best fun of the whole sorry experience. And as for security back at Miami Airport... we have an apparently crazy and violent girl running off a plane, chased by cops, who during the chase sits down to have a coffee, moves elsewhere to read a magazine at a bar, then runs again like crazy up and down the whole terminal... by now also chased by crazed Cillian Murphy (no CCTV then? - I had guns pulled on me for parking in the wrong place for 10 seconds at Miami Airport a couple of years back). So instead of speaking to the cops - her allies - or getting on the blower at a call-box direct to her dad to warn him his life is in danger, McAdams prefers instead to steal a People Carrier off a family in the Airport forecourt (call the damned security...) and drives home to daddy, mowing down the assassin with the vehicle in the front garden of the house, in a rich neighbourhood-watch district, crushing the front porch in the process - an act which actually slightly wakes dad up from an afternoon snooze, after about a minute, yet which somehow fails to register with neighbours who aren't even mildly curious, thus ensuring 15 more minutes of hide and seek shenanigans as the duo run around the vast Hollodeck type house... Dohhh, it actually hurts to keep thinking about it all - Cillian (surely renamed Silly 'un for doing this one?) preposterously turns from ice assassin to comically unhinged (and inept) lunatic killer at the end, this theoretically ruthless despatcher of human life now allowing the dad to live so that he can watch his daughter getting her goose cooked. I'd better stop, because the stream of drivel I'm writing here must sound as uncoordinated as the Red Eye script. If Ms McAdams hadn't been allowed to get on the plane in the first place the title could have been altered, from 'Red Eye' to 'No Eye, Dear'. RR\", 'sentiment': 'negative'}) (input_keys={'text'}): litellm.RateLimitError: RateLimitError: OpenAIException - Error code: 429 - {'error': {'message': 'Rate limit reached for gpt-3.5-turbo in organization org-nS9hIqZFvGLn1kCX8ZWaZkba on requests per min (RPM): Limit 500, Used 500, Requested 1. Please try again in 120ms. Visit https://platform.openai.com/account/rate-limits to learn more.', 'type': 'requests', 'param': None, 'code': 'rate_limit_exceeded'}}. Set `provide_traceback=True` to see the stack trace.\n"
     ]
    },
    {
     "name": "stdout",
     "output_type": "stream",
     "text": [
      "Average Metric: 16.00 / 17 (94.1%):  26%|██▋       | 21/80 [00:04<00:14,  3.94it/s]"
     ]
    },
    {
     "name": "stderr",
     "output_type": "stream",
     "text": [
      "2025/03/11 11:31:12 ERROR dspy.utils.parallelizer: Error processing item Example({'text': \"This is a formula B science fiction movie, and the director made no bones about it. It is about a dragon who is restored to life by a scientific team. Everything done is stuff you've seen many times before. It is a weak script, with no real characters. In fact, it is full of stereotype characters and situations. The director attacks this by just making it a formula movie, with no attempt to fool us, and that gives this movie a mild appeal, but it isn't something you're likely to remember a while. It is best seen while you're cooking, cleaning, working out. Sort of mindless fun. It has its place in entertainment, but it certainly isn't something you sit down with friends to watch, unless you're all just drunk and don't care. The mass rating of 3.2 is probably fair. I don't think it is as crappy as most people, but I am surprised that some people in the postings thought this was spectacular. That really eludes me, as I see no attempt to even make this a memorable film.\", 'sentiment': 'negative'}) (input_keys={'text'}): litellm.RateLimitError: RateLimitError: OpenAIException - Error code: 429 - {'error': {'message': 'Rate limit reached for gpt-3.5-turbo in organization org-nS9hIqZFvGLn1kCX8ZWaZkba on tokens per min (TPM): Limit 200000, Used 199436, Requested 683. Please try again in 35ms. Visit https://platform.openai.com/account/rate-limits to learn more.', 'type': 'tokens', 'param': None, 'code': 'rate_limit_exceeded'}}. Set `provide_traceback=True` to see the stack trace.\n"
     ]
    },
    {
     "name": "stdout",
     "output_type": "stream",
     "text": [
      "Average Metric: 17.00 / 18 (94.4%):  29%|██▉       | 23/80 [00:05<00:11,  5.01it/s]"
     ]
    },
    {
     "name": "stderr",
     "output_type": "stream",
     "text": [
      "2025/03/11 11:31:12 ERROR dspy.utils.parallelizer: Error processing item Example({'text': 'I think that my favorite part of this movie, the one that exemplifies the sheer pointless, stupidity and inanity of the proceedings, comes at the climax of the film. DOCTOR TED NELSON and his unmarried friend the Sheriff have finally cornered the Melting Man on a landing on some stairs in an electrical generating plant. Keep in mind that Nelson has been looking for the MM for nearly the entire film, and that the MM has killed and eaten several people at this point (including his boss), and Nelson is very aware that MM is violently insane and hungry for human flesh and blood.<br /><br />So the Sheriff has his gun pointed at MM, who is, and I give the movie and Rick Baker props for this, the most disgusting and terrifying object in human form that we have ever seen. And he yells a very important question to DOCTOR TED NELSON: \"WHAT DO WE DO NOW?!?!?\" <br /><br />The camera cuts over to DOCTOR TED NELSON, and it\\'s obvious that Ted has no idea what to do next. Apparently Ted was so intent on the problem of FINDING the Melting Man, he never thought to bring along some restraining devices, a lasso, or straitjacket, or a net, or some tranquilizer darts, or maybe a New Age tape by Vangelis to soothe the savage beast.<br /><br />So the sheriff panics and shoots, the Melting Man goes berserk, and hilarity ensues. <br /><br />Maybe this explains why NASA has been screwing around with the Space Shuttle program in sub-lunar space for the last 30 years instead of going back to the Moon or out to Mars like everyone knows they OUGHT to be doing. I dunno.<br /><br />Anyway, that\\'s the kind of lousy, lazy writing and direction that undercuts every aspect of this movie. It\\'s hard to say how good the actors actually are, because the movie has complete contempt for their characters.<br /><br />Two other incredibly painful sequences also ramp up the stupidity of the proceedings: There is a scene featuring the lumpiest old couple in the world trying to steal lemons from a grove, only to be torn apart by the Melting Man. This scene is a nadir in 70s cinema. I can guarantee you\\'ve never watched a more pointless and irritating setup with odder looking people in your entire life. And the Melting Man\\'s assault on the lady who lives in the house where they keep a horse who pees on the walls defies every attempt to process it.(BTW, I think famous film director Jonathon Demme has a walk-on in this scene as the redneck husband who goes in first to check on the house and never comes out again). The only thing that keeps the actress from literally chewing the scenery is that, as I said, their horse has apparently been peeing on it. And we are forced to watch her hysterics for at least two minutes longer than any SANE film director would hold the shot. <br /><br />Burr DeBenning ought to beat the crap out of IMM\\'s director and photographer. I remember him from an old Columbo episode where he looked MUCH better than he does here - no one\\'s idea of a leading man, but solid and unobtrusive. But no one could possibly be as unappealing in real life as his director makes him look here. <br /><br />Everyone else comes off a little better except for the old couple (and shut up, I know they were being played for laughs, but I ain\\'t laughing!) but not much. <br /><br />This definitely falls into the \\'So Bad You Can\\'t Look Away\\' category of cinema disasters. Still, I\\'d watch it again before I\\'d watch a lot of other 70\\'s and 80\\'s abortions ( \"Track of The Moonbeast\" and \"It Lives By Night\" come to mind), and MST\\'s coverage of it is great fun, so if you get a chance, watch the MST version.', 'sentiment': 'negative'}) (input_keys={'text'}): litellm.RateLimitError: RateLimitError: OpenAIException - Error code: 429 - {'error': {'message': 'Rate limit reached for gpt-3.5-turbo in organization org-nS9hIqZFvGLn1kCX8ZWaZkba on tokens per min (TPM): Limit 200000, Used 199659, Requested 1340. Please try again in 299ms. Visit https://platform.openai.com/account/rate-limits to learn more.', 'type': 'tokens', 'param': None, 'code': 'rate_limit_exceeded'}}. Set `provide_traceback=True` to see the stack trace.\n"
     ]
    },
    {
     "name": "stdout",
     "output_type": "stream",
     "text": [
      "Average Metric: 17.00 / 18 (94.4%):  31%|███▏      | 25/80 [00:05<00:09,  5.97it/s]"
     ]
    },
    {
     "name": "stderr",
     "output_type": "stream",
     "text": [
      "2025/03/11 11:31:12 ERROR dspy.utils.parallelizer: Error processing item Example({'text': 'This movie was horrible, simply put. It was so bad I registered with IMDb to warn you of its dangers.<br /><br />I am a campy horror film expert, per se. I have watched \"Redneck Zombies\", \"House of the Psychotic Women\", \"Slumber Party Massacre II\" and many others. I know my schlock. And I know this movie sucks.<br /><br />Three fourths of the film is comprised of scared individuals running from one side of the screen to the other. When they are not running, they are spouting non-sequitur lines, devoid of emotion or motivation. When the actors begin to be acceptable, the direction falls to pieces. There were so many jarring low-angle shots; I figured Leif Jonker had a 3 foot tall tripod. He used what I call the \"Leif Maneuver\" several millions times: that is, zooming out from an object of interest like an amateur. Apparently the film crew couldn\\'t get up early enough to film a sunrise, so they filmed a sunset... and played it in reverse. With direction this lazy, you are actually impressed with the final gory scene. The only thing you can figure is that the last five minutes was filmed before the first eighty-five minutes.<br /><br />If you want a good (bad) gory movie, rent \"Riki-Oh\" or the foundational \"Dead Alive.\" If you are a schlock buff, and are looking for a challenge, give \"Darkness\" a go.<br /><br />Quote o\\' the movie-<br /><br />Vampire: It\\'s die time!', 'sentiment': 'negative'}) (input_keys={'text'}): litellm.RateLimitError: RateLimitError: OpenAIException - Error code: 429 - {'error': {'message': 'Rate limit reached for gpt-3.5-turbo in organization org-nS9hIqZFvGLn1kCX8ZWaZkba on tokens per min (TPM): Limit 200000, Used 200000, Requested 784. Please try again in 235ms. Visit https://platform.openai.com/account/rate-limits to learn more.', 'type': 'tokens', 'param': None, 'code': 'rate_limit_exceeded'}}. Set `provide_traceback=True` to see the stack trace.\n"
     ]
    },
    {
     "name": "stdout",
     "output_type": "stream",
     "text": [
      "Average Metric: 21.00 / 22 (95.5%):  36%|███▋      | 29/80 [00:05<00:10,  4.80it/s]"
     ]
    },
    {
     "name": "stderr",
     "output_type": "stream",
     "text": [
      "2025/03/11 11:31:12 ERROR dspy.utils.parallelizer: Error processing item Example({'text': \"This film failed to explore the humanity of the animals which left me with an empty feeling inside. [Spoiler ahead] I was not convinced that Dr. D really had a compelling reason to forego the big buyout deal to help his furry friends. Whereas Babe (the original) bucked the trend of big-budget hits by focusing on the human virtues of the animals vs. their humans counterparts, all the animals in this film were nothing more than comical caricatures which one would gladly stuff in the meat-grinder (even more so if one could understand their pointless babble). Without Eddie Murphy's zany behavior, this film would be a flop.\", 'sentiment': 'negative'}) (input_keys={'text'}): litellm.RateLimitError: RateLimitError: OpenAIException - Error code: 429 - {'error': {'message': 'Rate limit reached for gpt-3.5-turbo in organization org-nS9hIqZFvGLn1kCX8ZWaZkba on tokens per min (TPM): Limit 200000, Used 199606, Requested 594. Please try again in 60ms. Visit https://platform.openai.com/account/rate-limits to learn more.', 'type': 'tokens', 'param': None, 'code': 'rate_limit_exceeded'}}. Set `provide_traceback=True` to see the stack trace.\n"
     ]
    },
    {
     "name": "stdout",
     "output_type": "stream",
     "text": [
      "Average Metric: 21.00 / 22 (95.5%):  38%|███▊      | 30/80 [00:05<00:10,  4.80it/s]"
     ]
    },
    {
     "name": "stderr",
     "output_type": "stream",
     "text": [
      "2025/03/11 11:31:16 INFO dspy.teleprompt.mipro_optimizer_v2: Full eval scores so far: [93.75, 0.0, 0.0]\n",
      "2025/03/11 11:31:16 INFO dspy.teleprompt.mipro_optimizer_v2: Best full score so far: 93.75\n",
      "2025/03/11 11:31:16 INFO dspy.teleprompt.mipro_optimizer_v2: =======================\n",
      "2025/03/11 11:31:16 INFO dspy.teleprompt.mipro_optimizer_v2: \n",
      "\n",
      "2025/03/11 11:31:16 INFO dspy.teleprompt.mipro_optimizer_v2: == Trial 22 / 34 - Minibatch ==\n"
     ]
    },
    {
     "name": "stdout",
     "output_type": "stream",
     "text": [
      "Exception occurred: litellm.RateLimitError: RateLimitError: OpenAIException - Error code: 429 - {'error': {'message': 'Rate limit reached for gpt-3.5-turbo in organization org-nS9hIqZFvGLn1kCX8ZWaZkba on tokens per min (TPM): Limit 200000, Used 199850, Requested 1347. Please try again in 359ms. Visit https://platform.openai.com/account/rate-limits to learn more.', 'type': 'tokens', 'param': None, 'code': 'rate_limit_exceeded'}}\n",
      "Average Metric: 22.00 / 25 (88.0%): 100%|██████████| 25/25 [00:03<00:00,  7.67it/s]"
     ]
    },
    {
     "name": "stderr",
     "output_type": "stream",
     "text": [
      "2025/03/11 11:31:19 INFO dspy.evaluate.evaluate: Average Metric: 22 / 25 (88.0%)\n",
      "2025/03/11 11:31:19 INFO dspy.teleprompt.mipro_optimizer_v2: Score: 88.0 on minibatch of size 25 with parameters ['Predictor 0: Instruction 8', 'Predictor 0: Few-Shot Set 0'].\n",
      "2025/03/11 11:31:19 INFO dspy.teleprompt.mipro_optimizer_v2: Minibatch scores so far: [92.0, 0.0, 0.0, 0.0, 0.0, 0.0, 0.0, 92.0, 0.0, 92.0, 0.0, 0.0, 96.0, 96.0, 96.0, 96.0, 96.0, 0.0, 88.0]\n",
      "2025/03/11 11:31:19 INFO dspy.teleprompt.mipro_optimizer_v2: Full eval scores so far: [93.75, 0.0, 0.0]\n",
      "2025/03/11 11:31:19 INFO dspy.teleprompt.mipro_optimizer_v2: Best full score so far: 93.75\n",
      "2025/03/11 11:31:19 INFO dspy.teleprompt.mipro_optimizer_v2: ==========================================\n",
      "\n",
      "\n",
      "2025/03/11 11:31:19 INFO dspy.teleprompt.mipro_optimizer_v2: == Trial 23 / 34 - Minibatch ==\n"
     ]
    },
    {
     "name": "stdout",
     "output_type": "stream",
     "text": [
      "\n",
      "Average Metric: 9.00 / 9 (100.0%):  72%|███████▏  | 18/25 [00:26<00:10,  1.47s/it]\n",
      "Average Metric: 21.00 / 22 (95.5%):  39%|███▉      | 31/80 [00:14<00:22,  2.19it/s]\n",
      "Average Metric: 23.00 / 25 (92.0%): 100%|██████████| 25/25 [51:42<00:00, 124.11s/it]"
     ]
    },
    {
     "name": "stderr",
     "output_type": "stream",
     "text": [
      "2025/03/11 12:23:02 INFO dspy.evaluate.evaluate: Average Metric: 23 / 25 (92.0%)\n",
      "2025/03/11 12:23:02 INFO dspy.teleprompt.mipro_optimizer_v2: Score: 92.0 on minibatch of size 25 with parameters ['Predictor 0: Instruction 8', 'Predictor 0: Few-Shot Set 7'].\n",
      "2025/03/11 12:23:02 INFO dspy.teleprompt.mipro_optimizer_v2: Minibatch scores so far: [92.0, 0.0, 0.0, 0.0, 0.0, 0.0, 0.0, 92.0, 0.0, 92.0, 0.0, 0.0, 96.0, 96.0, 96.0, 96.0, 96.0, 0.0, 88.0, 92.0]\n",
      "2025/03/11 12:23:02 INFO dspy.teleprompt.mipro_optimizer_v2: Full eval scores so far: [93.75, 0.0, 0.0]\n",
      "2025/03/11 12:23:02 INFO dspy.teleprompt.mipro_optimizer_v2: Best full score so far: 93.75\n",
      "2025/03/11 12:23:02 INFO dspy.teleprompt.mipro_optimizer_v2: ==========================================\n",
      "\n",
      "\n",
      "2025/03/11 12:23:02 INFO dspy.teleprompt.mipro_optimizer_v2: == Trial 24 / 34 - Minibatch ==\n"
     ]
    },
    {
     "name": "stdout",
     "output_type": "stream",
     "text": [
      "\n",
      "Average Metric: 23.00 / 25 (92.0%): 100%|██████████| 25/25 [00:11<00:00,  2.21it/s]"
     ]
    },
    {
     "name": "stderr",
     "output_type": "stream",
     "text": [
      "2025/03/11 12:23:14 INFO dspy.evaluate.evaluate: Average Metric: 23 / 25 (92.0%)\n",
      "2025/03/11 12:23:14 INFO dspy.teleprompt.mipro_optimizer_v2: Score: 92.0 on minibatch of size 25 with parameters ['Predictor 0: Instruction 6', 'Predictor 0: Few-Shot Set 0'].\n",
      "2025/03/11 12:23:14 INFO dspy.teleprompt.mipro_optimizer_v2: Minibatch scores so far: [92.0, 0.0, 0.0, 0.0, 0.0, 0.0, 0.0, 92.0, 0.0, 92.0, 0.0, 0.0, 96.0, 96.0, 96.0, 96.0, 96.0, 0.0, 88.0, 92.0, 92.0]\n",
      "2025/03/11 12:23:14 INFO dspy.teleprompt.mipro_optimizer_v2: Full eval scores so far: [93.75, 0.0, 0.0]\n",
      "2025/03/11 12:23:14 INFO dspy.teleprompt.mipro_optimizer_v2: Best full score so far: 93.75\n",
      "2025/03/11 12:23:14 INFO dspy.teleprompt.mipro_optimizer_v2: ==========================================\n",
      "\n",
      "\n",
      "2025/03/11 12:23:14 INFO dspy.teleprompt.mipro_optimizer_v2: == Trial 25 / 34 - Minibatch ==\n"
     ]
    },
    {
     "name": "stdout",
     "output_type": "stream",
     "text": [
      "\n",
      "Average Metric: 23.00 / 25 (92.0%): 100%|██████████| 25/25 [00:11<00:00,  2.24it/s]"
     ]
    },
    {
     "name": "stderr",
     "output_type": "stream",
     "text": [
      "2025/03/11 12:23:25 INFO dspy.evaluate.evaluate: Average Metric: 23 / 25 (92.0%)\n",
      "2025/03/11 12:23:25 INFO dspy.teleprompt.mipro_optimizer_v2: Score: 92.0 on minibatch of size 25 with parameters ['Predictor 0: Instruction 8', 'Predictor 0: Few-Shot Set 5'].\n",
      "2025/03/11 12:23:25 INFO dspy.teleprompt.mipro_optimizer_v2: Minibatch scores so far: [92.0, 0.0, 0.0, 0.0, 0.0, 0.0, 0.0, 92.0, 0.0, 92.0, 0.0, 0.0, 96.0, 96.0, 96.0, 96.0, 96.0, 0.0, 88.0, 92.0, 92.0, 92.0]\n",
      "2025/03/11 12:23:25 INFO dspy.teleprompt.mipro_optimizer_v2: Full eval scores so far: [93.75, 0.0, 0.0]\n",
      "2025/03/11 12:23:25 INFO dspy.teleprompt.mipro_optimizer_v2: Best full score so far: 93.75\n",
      "2025/03/11 12:23:25 INFO dspy.teleprompt.mipro_optimizer_v2: ==========================================\n",
      "\n",
      "\n",
      "2025/03/11 12:23:25 INFO dspy.teleprompt.mipro_optimizer_v2: == Trial 26 / 34 - Minibatch ==\n"
     ]
    },
    {
     "name": "stdout",
     "output_type": "stream",
     "text": [
      "\n",
      "Average Metric: 24.00 / 25 (96.0%): 100%|██████████| 25/25 [00:08<00:00,  2.94it/s]"
     ]
    },
    {
     "name": "stderr",
     "output_type": "stream",
     "text": [
      "2025/03/11 12:23:33 INFO dspy.evaluate.evaluate: Average Metric: 24 / 25 (96.0%)\n",
      "2025/03/11 12:23:33 INFO dspy.teleprompt.mipro_optimizer_v2: Score: 96.0 on minibatch of size 25 with parameters ['Predictor 0: Instruction 5', 'Predictor 0: Few-Shot Set 0'].\n",
      "2025/03/11 12:23:33 INFO dspy.teleprompt.mipro_optimizer_v2: Minibatch scores so far: [92.0, 0.0, 0.0, 0.0, 0.0, 0.0, 0.0, 92.0, 0.0, 92.0, 0.0, 0.0, 96.0, 96.0, 96.0, 96.0, 96.0, 0.0, 88.0, 92.0, 92.0, 92.0, 96.0]\n",
      "2025/03/11 12:23:33 INFO dspy.teleprompt.mipro_optimizer_v2: Full eval scores so far: [93.75, 0.0, 0.0]\n",
      "2025/03/11 12:23:33 INFO dspy.teleprompt.mipro_optimizer_v2: Best full score so far: 93.75\n",
      "2025/03/11 12:23:33 INFO dspy.teleprompt.mipro_optimizer_v2: ==========================================\n",
      "\n",
      "\n",
      "2025/03/11 12:23:33 INFO dspy.teleprompt.mipro_optimizer_v2: == Trial 27 / 34 - Minibatch ==\n"
     ]
    },
    {
     "name": "stdout",
     "output_type": "stream",
     "text": [
      "\n",
      "Average Metric: 23.00 / 25 (92.0%): 100%|██████████| 25/25 [00:05<00:00,  4.23it/s] "
     ]
    },
    {
     "name": "stderr",
     "output_type": "stream",
     "text": [
      "2025/03/11 12:23:39 INFO dspy.evaluate.evaluate: Average Metric: 23 / 25 (92.0%)\n",
      "2025/03/11 12:23:39 INFO dspy.teleprompt.mipro_optimizer_v2: Score: 92.0 on minibatch of size 25 with parameters ['Predictor 0: Instruction 2', 'Predictor 0: Few-Shot Set 0'].\n",
      "2025/03/11 12:23:39 INFO dspy.teleprompt.mipro_optimizer_v2: Minibatch scores so far: [92.0, 0.0, 0.0, 0.0, 0.0, 0.0, 0.0, 92.0, 0.0, 92.0, 0.0, 0.0, 96.0, 96.0, 96.0, 96.0, 96.0, 0.0, 88.0, 92.0, 92.0, 92.0, 96.0, 92.0]\n",
      "2025/03/11 12:23:39 INFO dspy.teleprompt.mipro_optimizer_v2: Full eval scores so far: [93.75, 0.0, 0.0]\n",
      "2025/03/11 12:23:39 INFO dspy.teleprompt.mipro_optimizer_v2: Best full score so far: 93.75\n",
      "2025/03/11 12:23:39 INFO dspy.teleprompt.mipro_optimizer_v2: ==========================================\n",
      "\n",
      "\n",
      "2025/03/11 12:23:39 INFO dspy.teleprompt.mipro_optimizer_v2: == Trial 28 / 34 - Minibatch ==\n"
     ]
    },
    {
     "name": "stdout",
     "output_type": "stream",
     "text": [
      "\n",
      "Average Metric: 15.00 / 16 (93.8%):  64%|██████▍   | 16/25 [00:03<00:01,  5.39it/s]"
     ]
    },
    {
     "name": "stderr",
     "output_type": "stream",
     "text": [
      "2025/03/11 12:23:44 ERROR dspy.utils.parallelizer: Error processing item Example({'text': 'This movie is like real life, by which I mean - not a lot happens in the available 2 hours or so, and not much game plan or plot is evidenced by the frequently invisible cast (their invisibility being due to the \"experimental\" lighting as mentioned by many reviewers). <br /><br />A big bore. No big surprise that Altman helms this - he is a very variable performer (yes we all loved \"Gosford Park\", but \"Pret A Porter\" anyone? Kansas City? Dr T. and the Women? Aaargh), but the fact that the raw material is a John Grisham tale, and the excellent cast that you will perceive through the gathering gloaming of your insistent slumber - makes this truly a masterpiece of bad film. And no, it is not \"so bad it\\'s good\".<br /><br />It\\'s just bad.', 'sentiment': 'negative'}) (input_keys={'text'}): litellm.RateLimitError: RateLimitError: OpenAIException - Error code: 429 - {'error': {'message': 'Rate limit reached for gpt-3.5-turbo in organization org-nS9hIqZFvGLn1kCX8ZWaZkba on tokens per min (TPM): Limit 200000, Used 195345, Requested 6258. Please try again in 480ms. Visit https://platform.openai.com/account/rate-limits to learn more.', 'type': 'tokens', 'param': None, 'code': 'rate_limit_exceeded'}}. Set `provide_traceback=True` to see the stack trace.\n"
     ]
    },
    {
     "name": "stdout",
     "output_type": "stream",
     "text": [
      "Average Metric: 15.00 / 16 (93.8%):  68%|██████▊   | 17/25 [00:05<00:03,  2.55it/s]"
     ]
    },
    {
     "name": "stderr",
     "output_type": "stream",
     "text": [
      "2025/03/11 12:23:45 ERROR dspy.utils.parallelizer: Error processing item Example({'text': 'It\\'s good to see that Vintage Film Buff have correctly categorized their excellent DVD release as a \"musical\", for that\\'s what this film is, pure and simple. Like its unofficial remake, Murder at the Windmill (1949), the murder plot is just an excuse for an elaborate girlie show with Kitty Carlisle and Gertrude Michael leading a cast of super-decorative girls including Ann Sheridan, Lucy Ball, Beryl Wallace, Gwenllian Gill, Gladys Young, Barbara Fritchie, Wanda Perry and Dorothy White. Carl Brisson is also on hand to lend his strong voice to \"Cocktails for Two\". Undoubtedly the movie\\'s most popular song, it is heard no less than four times. However, it\\'s Gertrude Michael who steals the show, not only with her rendition of \"Sweet Marijauna\" but her strong performance as the hero\\'s rejected girlfriend. As for the rest of the cast, we could have done without Jack Oakie and Victor McLaglen altogether. The only good thing about Oakie\\'s role is his weak running gag with cult icon, Toby Wing. In fact, to give you an idea as to how far the rest of the comedy is over-indulged and over-strained, super-dumb Inspector McLaglen simply cannot put his hands on the killer even though, would you believe, in this instance it happens to be the person you most suspect. Director Mitch Leisen actually goes to great pains to point the killer out to even the dumbest member of the cinema audience by giving the player concerned close-up after close-up.', 'sentiment': 'positive'}) (input_keys={'text'}): litellm.RateLimitError: RateLimitError: OpenAIException - Error code: 429 - {'error': {'message': 'Rate limit reached for gpt-3.5-turbo in organization org-nS9hIqZFvGLn1kCX8ZWaZkba on tokens per min (TPM): Limit 200000, Used 194205, Requested 6435. Please try again in 192ms. Visit https://platform.openai.com/account/rate-limits to learn more.', 'type': 'tokens', 'param': None, 'code': 'rate_limit_exceeded'}}. Set `provide_traceback=True` to see the stack trace.\n"
     ]
    },
    {
     "name": "stdout",
     "output_type": "stream",
     "text": [
      "Average Metric: 15.00 / 16 (93.8%):  72%|███████▏  | 18/25 [00:05<00:02,  2.61it/s]"
     ]
    },
    {
     "name": "stderr",
     "output_type": "stream",
     "text": [
      "2025/03/11 12:23:45 ERROR dspy.utils.parallelizer: Error processing item Example({'text': 'I discovered this film after reading the book that inspired it. It is not a strictly biographical film; it is \"loosely based\" on the facts. But I found it a compelling and eerie exploration of evil and madness, and Michel Serrault gives an unforgettable performance as Dr. Petiot.<br /><br />There are many memorable images in this movie; Petiot traveling through the night like a vampire, his black cloak flapping behind him, is almost iconic. There are also several touches of expressionism - Petiot\\'s crooked silhouette mounting the stairs leading from the cellar where the butchered remains of his victims await cremation, reminds me of some scenes from \\'Nosferatu\\'.<br /><br />But I found the primary appeal of this movie to be aural. The soundtrack is loaded with ominous sounds, starting with the foreboding music of the opening credits, accompanied by wordless wailing. Petiot lives and runs his medical practice in a complex with many small shops, and there is a persistent background noise of knives being sharpened somewhere, as well as a peddler playing eerie tunes on a saw. There are animal noises as well - the concierge keeps a goat, unseen cats howl - and later in the film we see hapless cattle being herded through an underpass. The whole atmosphere is unsettling, with overtones of violence and slaughter.<br /><br />Not only animals, but human voices are often heard - the screams of Gestapo victims, Petiot\\'s patients in his waiting room, monitored by a listening device, just the same as the suspected collaborators after the war are monitored in their cells. Even the action of the film is often arranged so that we hear the voices of the participants without seeing them - when Petiot goes to see Mme Kern, we hear her singing as she works, her voice echoing in the theater, before we ever see her. And even when she does appear, she is often filmed from behind, her voice calling out to her husband, whose voice calls out to her in conversation. Disembodied voices echo in large halls, and their owners, when seen at all, are photographed at a distance, so we cannot actually see them speaking. This is a ghost story, and these are the voices of ghosts - many of them Petiot\\'s future victims.<br /><br />Yet Petiot himself is often only a voice; his frightening laughter echoes as he retreats from the camera, throwing comments behind him or into the air to nobody. In a way, he is as much a ghost as those he murders. He is always frantically busy, scurrying from appointment to appointment, never at rest. But his activity is that of a machine - lifeless and imperturbable. It is interesting that among all the horror and danger of occupied Paris, Petiot alone is unafraid; he is amused, enthusiastic, angry, irritated, contemptuous, but never afraid, unlike those real people he lures to their deaths. It is no surprise that he boasts of his mechanical inventions, including a perpetual motion machine (a true detail from the book - he did claim to have invented many machines); he is a sort of perpetual motion machine himself. And mechanical imagery is everywhere in the film, from the opening giant wheel in the movie house, to Petiot\\'s bicycle (with its squeaking wheels echoing the sound of sharpening knives), to the Victrola he keeps winding up to play music before he makes a kill. Even his routine with his victims is mechanical - write a note to your wife, let me disguise you before you leave, you need a vaccination, Barcelona, Casablanca, Dakar - like a well-oiled machine, the routine is always the same, just as the record is always the same.<br /><br />Maeder, the author, says that it was the clockwork perfection of his crimes that weighed so heavily against Petiot at his trial. His system was as smooth and efficient as a Nazi concentration camp, and this may be why the movie invents a subplot of Petiot\\'s involvement with the French Gestapo and the occupying Nazis. Unfortunately, it doesn\\'t quite work as part of the story, because it\\'s very hard to figure out just what Petiot is doing for the collaborators, or what is going on when he ends up at their headquarters in the middle of the night. Disposing of bodies? Hiding stolen goods? It\\'s hard to say, and harder to believe; it\\'s not likely the state would turn to a freelancer like Petiot.<br /><br />But it does remind us of the duality of evil people; Petiot is a robber and a murderer, but he is also a devoted father and husband. Just as we learned that Hitler loved dogs, and that Nazis guilty of the worst war crimes could also be loving fathers and family men, so we have to recognize that Petiot could commit unspeakable horrors and yet also function normally. His insanity is easily camouflaged by the insanity and horror of the wartime situation in Paris; when killing, robbing and disappearing are happening all around, nobody pays attention as Petiot tosses more corpses on the pile.', 'sentiment': 'positive'}) (input_keys={'text'}): litellm.RateLimitError: RateLimitError: OpenAIException - Error code: 429 - {'error': {'message': 'Rate limit reached for gpt-3.5-turbo in organization org-nS9hIqZFvGLn1kCX8ZWaZkba on tokens per min (TPM): Limit 200000, Used 199847, Requested 7298. Please try again in 2.143s. Visit https://platform.openai.com/account/rate-limits to learn more.', 'type': 'tokens', 'param': None, 'code': 'rate_limit_exceeded'}}. Set `provide_traceback=True` to see the stack trace.\n",
      "2025/03/11 12:23:45 ERROR dspy.utils.parallelizer: Error processing item Example({'text': 'Films such as Chocolat, Beau Travail, and others have propelled French director Claire Denis into the top echelon of the world\\'s most unique and accomplished filmmakers and her 2004 film The Intruder (L\\'Intrus) adds to the depth of her portfolio. A cinematic poem that conveys a mood of abiding loneliness and loss, the film provides a glimpse into the psyche of a man who is deteriorating physically and mentally and who travels to various parts of the globe seeking redemption and peace but finds it hard to come by. Loosely based on Jean-Luc Nancy\\'s memoir of a heart transplant, The Intruder is a film of such unrelenting opaqueness that even after two viewings it is difficult to describe it in other than subjective, impressionistic terms.<br /><br />Louis Trebor (Michael Subor) is a man in his seventies who is likely dying of a heart condition and who, like the professor in Ingmar Bergman\\'s Wild Strawberries, attempts to come to terms with the mistakes of his life while he has time. It is clear that he is physically rugged and very wealthy but seems emotionally drained and the look on his face is one of quiet resignation. Though we see only one episode of violence, where he gets out of bed in the middle of night to kill an intruder, there is a sinister sense about him. He might be an intelligence officer, a foreign agent, or a hit man.<br /><br />Whatever the case, he apparently is under some kind of surveillance and acts like a man that has been involved in criminal wrongdoing and is only now able to see the consequences. Facial close-ups throughout the movie create a strong sense of isolation. He lives with his dogs in a cabin in the Jura Mountains near the French-Swiss border and has an estranged son Sidney (Gregoire Collin) whom he has long neglected. Sidney lives nearby with his wife Antoinette (Florence Loiret-Caille) and their two children. In one telling scene, he meets up with his father on the street and calls him a lunatic, but that does not prevent him from taking his money.<br /><br />When the film opens, we meet Antoinette, a Swiss border guard, who boards a van with a trained dog to sniff out some contraband. When she comes home, she is greeted by her husband who asks her with tongue-in-cheek if she has \"anything to declare?\" Other than these three individuals, the people and circumstances we see during the rest of the film may exist only in Louis\\' imagination. Louis has three women in his life and we meet them all in the film\\'s first half hour: a pharmacist (Bambou) who prepares his medication, a neighbor (Béatrice Dalle) who is a dog breeder who refuses to care for his dogs when he goes away on a trip telling him that they are as crazy as he is, and a young Russian organ dealer (Katia Golubeva) who he tells he wants a \"young man\\'s heart\".<br /><br />Relentlessly, she stalks him throughout the film but it is apparently only in his mind. In the last section of the film, Louis travels to South Korea in search of a heart transplant and to Tahiti to deliver a gift to a different son, one whom he has not seen for many years or perhaps has never seen. His heart transplant, however, appears to be a metaphor for a man without a heart, a man whose life has been fascinating but ultimately directionless, intruding into other people\\'s lives with little real empathy. The Intruder contains a haunting guitar soundtrack by Stuart Staples of the band Tindersticks, reminiscent of the guitar riff in Jim Jarmusch\\'s Dead Man, and gorgeous cinematography by Denis regular Agnes Godard.<br /><br />Godard creates memorable images that convey a mood of longing and regret: a heart beating alone in the snow, an infant in a sling looking up at his father for a good two minutes, the baby\\'s expression gradually turning from morose to a half smile, colored streamers blowing from a newly christened ship, a massage in a dark room by a mysterious Korean masseuse, and the vast expanse of ocean seen from a bobbing ship deck. While The Intruder can be frustrating because of its elliptical nature, Denis forces us to respond out of our own experience, to understand the images on the screen on a very personal level. If there is any theme, a hint might be found in the opening that tells us what is revealed piecemeal in the film - \"your worst enemies are hiding, in the shadow, in your heart.\"', 'sentiment': 'positive'}) (input_keys={'text'}): litellm.RateLimitError: RateLimitError: OpenAIException - Error code: 429 - {'error': {'message': 'Rate limit reached for gpt-3.5-turbo in organization org-nS9hIqZFvGLn1kCX8ZWaZkba on tokens per min (TPM): Limit 200000, Used 199786, Requested 7159. Please try again in 2.083s. Visit https://platform.openai.com/account/rate-limits to learn more.', 'type': 'tokens', 'param': None, 'code': 'rate_limit_exceeded'}}. Set `provide_traceback=True` to see the stack trace.\n"
     ]
    },
    {
     "name": "stdout",
     "output_type": "stream",
     "text": [
      "Average Metric: 15.00 / 16 (93.8%):  76%|███████▌  | 19/25 [00:05<00:02,  2.86it/s]"
     ]
    },
    {
     "name": "stderr",
     "output_type": "stream",
     "text": [
      "2025/03/11 12:23:46 ERROR dspy.utils.parallelizer: Error processing item Example({'text': \"THE SUNSHINE BOYS was the hilarious 1975 screen adaptation of Neil Simon's play about a retired vaudevillian team, played by Walter Matthau and George Burns, who had a very bitter breakup and have been asked to reunite one more time for a television special or something like that. The problem is that the two still hate each other and want nothing to do with each other. Richard Benjamin appears as Matthau's nephew, a theatrical agent who has been given the monumental responsibility of making this reunion a reality. This warm and winning comedy is a lovely valentine to a forgotten form of entertainment...vaudeville and it works mainly thanks to one of Neil Simon's better screenplays and outstanding work by Matthau, Burns, and Benjamin. Burns won the Best Supporting Actor Oscar for this, but I think Matthau walks away with this film with his flawlessly hilarious performance as Willy Clark. Matthau was nominated for Best Actor but didn't stand a chance against Nicholson for ONE FLEW OVER THE CUCKOO'S NEST; however, in another year, this was an Oscar-worthy performance. Matthau commands the screen and there is not a false note in this beautifully timed performance. The scene where he is auditioning for a potato chip commercial and can't get the name of the product right is a classic. THE SUNSHINE BOYS is a warm and winning Neil Simon comedy which shines thanks to unbeatable chemistry between Matthau and Burns.\", 'sentiment': 'positive'}) (input_keys={'text'}): litellm.RateLimitError: RateLimitError: OpenAIException - Error code: 429 - {'error': {'message': 'Rate limit reached for gpt-3.5-turbo in organization org-nS9hIqZFvGLn1kCX8ZWaZkba on tokens per min (TPM): Limit 200000, Used 197340, Requested 6430. Please try again in 1.131s. Visit https://platform.openai.com/account/rate-limits to learn more.', 'type': 'tokens', 'param': None, 'code': 'rate_limit_exceeded'}}. Set `provide_traceback=True` to see the stack trace.\n"
     ]
    },
    {
     "name": "stdout",
     "output_type": "stream",
     "text": [
      "Average Metric: 16.00 / 17 (94.1%):  88%|████████▊ | 22/25 [00:06<00:00,  3.23it/s]"
     ]
    },
    {
     "name": "stderr",
     "output_type": "stream",
     "text": [
      "2025/03/11 12:23:48 ERROR dspy.utils.parallelizer: Error processing item Example({'text': 'My abiding love of Italian actress Lucianna Paluzzi, who helped jump-start my puberty with her performance in 1965\\'s \"Thunderball,\" has led me to some fairly unusual places. Case in point, this British curiosity from 1959, \"Carlton-Browne of the F.O.,\" which features Lucianna in one of her earlier roles. She plays a princess in this one, although the picture is actually a showcase for the talents of Terry-Thomas and Peter Sellers, both of whose stars were certainly on the rise at this point. In this cute, often very funny film, we learn of the Madeira-like island nation of Gaillardia, which had been a British colony until 1916 and then universally forgotten. Forty-three years later, however, it becomes the center of worldwide attention and international espionage when valuable cobalt deposits are discovered there, and Her Majesty sends the bumbling Carlton-Browne of the Foreign Office to take charge. Terry-Thomas underplays this part nicely, as does Sellers in his role as Prime Minister Amphibulos of the tiny country. (This was Sellers\\' second film of 1959 concerning a tiny country matching wits with the world, the other being \"The Mouse That Roared,\" of course.) Ian Bannen almost steals the show here as Gaillardia\\'s suave king, and my girl Lucianna is as appealing as can be in her minor role. The film exhibits much in the way of very dry humor, although there ARE some belly laughs to be had (the reception at the Gaillardian airport, for example, and especially that May Day-style parade of Gaillardian strength). And Sellers\\' seedy prime minister, with his cracked English and seemingly perpetual sweat stains, is yet another memorable character in this great actor\\'s pantheon. Despite the occasional instance or two of indecipherable, stiff-upper-lip British gibberish, I found this picture to be a winningly modest entertainment, and well presented on this crisp-looking Anchor Bay DVD.', 'sentiment': 'positive'}) (input_keys={'text'}): litellm.RateLimitError: RateLimitError: OpenAIException - Error code: 429 - {'error': {'message': 'Rate limit reached for gpt-3.5-turbo in organization org-nS9hIqZFvGLn1kCX8ZWaZkba on tokens per min (TPM): Limit 200000, Used 196252, Requested 6551. Please try again in 840ms. Visit https://platform.openai.com/account/rate-limits to learn more.', 'type': 'tokens', 'param': None, 'code': 'rate_limit_exceeded'}}. Set `provide_traceback=True` to see the stack trace.\n"
     ]
    },
    {
     "name": "stdout",
     "output_type": "stream",
     "text": [
      "Average Metric: 16.00 / 17 (94.1%):  92%|█████████▏| 23/25 [00:08<00:01,  1.50it/s]"
     ]
    },
    {
     "name": "stderr",
     "output_type": "stream",
     "text": [
      "2025/03/11 12:23:48 ERROR dspy.utils.parallelizer: Error processing item Example({'text': \"Not funny - how can anyone link this to Monty Python? That is absolutely ridiculous - there are no laughs. This is not funny. Over the top, but ugly, weird just for weird sake and it seems to me these people were on something all the time. Unfortunately something that did not make them funny.<br /><br />It should be given some points for effort etc. whatever. Actually it appears there is a laugh track - or is there one? Hummm.... Since there are barely any laughs that's a debatable question.<br /><br />Maybe I'm doing it injustice - maybe it's some sort of exercise. Some sort of art - in that case anything goes, never mind.<br /><br />But these guys playing women with high-pitched voices, turned-up noses. Come on !!! Not funny. <br /><br />There is only one heir apparent to Monty Pythons intellectual wit and that is Stephen Colbert, and maybe Jon Stewart.\", 'sentiment': 'negative'}) (input_keys={'text'}): litellm.RateLimitError: RateLimitError: OpenAIException - Error code: 429 - {'error': {'message': 'Rate limit reached for gpt-3.5-turbo in organization org-nS9hIqZFvGLn1kCX8ZWaZkba on tokens per min (TPM): Limit 200000, Used 195754, Requested 6290. Please try again in 613ms. Visit https://platform.openai.com/account/rate-limits to learn more.', 'type': 'tokens', 'param': None, 'code': 'rate_limit_exceeded'}}. Set `provide_traceback=True` to see the stack trace.\n"
     ]
    },
    {
     "name": "stdout",
     "output_type": "stream",
     "text": [
      "Average Metric: 16.00 / 17 (94.1%):  96%|█████████▌| 24/25 [00:08<00:00,  1.83it/s]"
     ]
    },
    {
     "name": "stderr",
     "output_type": "stream",
     "text": [
      "2025/03/11 12:23:48 ERROR dspy.utils.parallelizer: Error processing item Example({'text': 'Who me? No, I\\'m not kidding. That\\'s what it really says on the video case.<br /><br />Plot; short version: Pretty woman stands around smiling. This, for some reason, makes all men kill each other.<br /><br />\"Find Ariel...Where\\'s Ariel...Can\\'t Find Ariel...\" She\\'s right behind you, you idiot...<br /><br />Most of what can be said about this horrendous little Space Opera has already been said, looks like.<br /><br />A bunch of corny actors playing mostly convicts come in after the first selection of actors is knocked off very quickly. Then they get knocked off in the same way. Every scene is broadcast nearly fifteen minutes in advance. Perhaps it was a drawing of straws to see which actors had the most screen time and bigger pay check. The alien virus/hologram/VR witch/glitch seems physically powerless and doesn\\'t do a thing. Why can\\'t she just stay in the computer instead of doing her \"teleporting vampire\" routine? (Actually, it would\\'ve been more interesting if she had been a vampire, or doing more than just standing around looking at people, which is all she ever does. This is enough to make all the men kill each other. Go figure...)<br /><br />This isn\\'t really a space flick. There are far more shots of the old western trail, 1950\\'s Easy Rider trail, Film noir\\'s night club scene, even a jog on the beach in fantasy-land, none of which has any real depth or even makes any sense. The night club scene is in black and white, of course. Worked with \"The Wizard of Oz\". Doesn\\'t work so well, here. This is probably a good thing, as those few shots they DO show of space are depressingly silly. You will probably cry during those moments, especially upon seeing that swirling \"space ship\", which looks about three inches long.<br /><br />Nothing is felt for any of the characters, not because they are convicts or have no personality, but because they are in serious need of acting lessons, except for Billy Dee Williams who really does look depressed and at a loss, probably by being in this work...<br /><br />This is one of those movies that, when viewed with friends, is going to cause some extremely \"loud\" silences, especially when the nerd throws out his attempt at comic one-liners (including the line about French-kissing a meteor...? Did I hear that right? Perhaps not...)<br /><br />The original virtual reality girls get \"killed\", which means nothing, as they are not even real to begin with. Well, the other \"characters\" aren\\'t, either, but that\\'s beside the point. Haha.<br /><br />What\\'s kind of funny is that the scene that graces the video case is some sort of skull-horror-alien looking thing (green filter added on top of that, to give it more of a...uh...green look), which is actually the android after he gets killed and ultimately has nothing to do with anything else afoot.<br /><br />Another odd deal I noticed. Whenever there is an explosion (at least on my cheap DVD copy), everything becomes highly pixelated. I don\\'t mean a LITTLE pixelated, I mean HUGE blocks about 1/16th the size of the screen. Wow.', 'sentiment': 'negative'}) (input_keys={'text'}): litellm.RateLimitError: RateLimitError: OpenAIException - Error code: 429 - {'error': {'message': 'Rate limit reached for gpt-3.5-turbo in organization org-nS9hIqZFvGLn1kCX8ZWaZkba on tokens per min (TPM): Limit 200000, Used 195359, Requested 6835. Please try again in 658ms. Visit https://platform.openai.com/account/rate-limits to learn more.', 'type': 'tokens', 'param': None, 'code': 'rate_limit_exceeded'}}. Set `provide_traceback=True` to see the stack trace.\n"
     ]
    },
    {
     "name": "stdout",
     "output_type": "stream",
     "text": [
      "Average Metric: 16.00 / 17 (94.1%): 100%|██████████| 25/25 [00:08<00:00,  2.89it/s]"
     ]
    },
    {
     "name": "stderr",
     "output_type": "stream",
     "text": [
      "2025/03/11 12:23:48 INFO dspy.evaluate.evaluate: Average Metric: 16.0 / 25 (64.0%)\n",
      "2025/03/11 12:23:48 INFO dspy.teleprompt.mipro_optimizer_v2: Score: 64.0 on minibatch of size 25 with parameters ['Predictor 0: Instruction 8', 'Predictor 0: Few-Shot Set 8'].\n",
      "2025/03/11 12:23:48 INFO dspy.teleprompt.mipro_optimizer_v2: Minibatch scores so far: [92.0, 0.0, 0.0, 0.0, 0.0, 0.0, 0.0, 92.0, 0.0, 92.0, 0.0, 0.0, 96.0, 96.0, 96.0, 96.0, 96.0, 0.0, 88.0, 92.0, 92.0, 92.0, 96.0, 92.0, 64.0]\n",
      "2025/03/11 12:23:48 INFO dspy.teleprompt.mipro_optimizer_v2: Full eval scores so far: [93.75, 0.0, 0.0]\n",
      "2025/03/11 12:23:48 INFO dspy.teleprompt.mipro_optimizer_v2: Best full score so far: 93.75\n",
      "2025/03/11 12:23:48 INFO dspy.teleprompt.mipro_optimizer_v2: ==========================================\n",
      "\n",
      "\n",
      "2025/03/11 12:23:48 INFO dspy.teleprompt.mipro_optimizer_v2: == Trial 29 / 34 - Minibatch ==\n"
     ]
    },
    {
     "name": "stdout",
     "output_type": "stream",
     "text": [
      "\n",
      "Average Metric: 24.00 / 25 (96.0%): 100%|██████████| 25/25 [00:07<00:00,  3.30it/s] "
     ]
    },
    {
     "name": "stderr",
     "output_type": "stream",
     "text": [
      "2025/03/11 12:23:56 INFO dspy.evaluate.evaluate: Average Metric: 24 / 25 (96.0%)\n",
      "2025/03/11 12:23:56 INFO dspy.teleprompt.mipro_optimizer_v2: Score: 96.0 on minibatch of size 25 with parameters ['Predictor 0: Instruction 4', 'Predictor 0: Few-Shot Set 0'].\n",
      "2025/03/11 12:23:56 INFO dspy.teleprompt.mipro_optimizer_v2: Minibatch scores so far: [92.0, 0.0, 0.0, 0.0, 0.0, 0.0, 0.0, 92.0, 0.0, 92.0, 0.0, 0.0, 96.0, 96.0, 96.0, 96.0, 96.0, 0.0, 88.0, 92.0, 92.0, 92.0, 96.0, 92.0, 64.0, 96.0]\n",
      "2025/03/11 12:23:56 INFO dspy.teleprompt.mipro_optimizer_v2: Full eval scores so far: [93.75, 0.0, 0.0]\n",
      "2025/03/11 12:23:56 INFO dspy.teleprompt.mipro_optimizer_v2: Best full score so far: 93.75\n",
      "2025/03/11 12:23:56 INFO dspy.teleprompt.mipro_optimizer_v2: ==========================================\n",
      "\n",
      "\n",
      "2025/03/11 12:23:56 INFO dspy.teleprompt.mipro_optimizer_v2: == Trial 30 / 34 - Minibatch ==\n"
     ]
    },
    {
     "name": "stdout",
     "output_type": "stream",
     "text": [
      "\n",
      "Average Metric: 23.00 / 25 (92.0%): 100%|██████████| 25/25 [00:07<00:00,  3.40it/s]"
     ]
    },
    {
     "name": "stderr",
     "output_type": "stream",
     "text": [
      "2025/03/11 12:24:03 INFO dspy.evaluate.evaluate: Average Metric: 23 / 25 (92.0%)\n",
      "2025/03/11 12:24:03 INFO dspy.teleprompt.mipro_optimizer_v2: Score: 92.0 on minibatch of size 25 with parameters ['Predictor 0: Instruction 9', 'Predictor 0: Few-Shot Set 0'].\n",
      "2025/03/11 12:24:03 INFO dspy.teleprompt.mipro_optimizer_v2: Minibatch scores so far: [92.0, 0.0, 0.0, 0.0, 0.0, 0.0, 0.0, 92.0, 0.0, 92.0, 0.0, 0.0, 96.0, 96.0, 96.0, 96.0, 96.0, 0.0, 88.0, 92.0, 92.0, 92.0, 96.0, 92.0, 64.0, 96.0, 92.0]\n",
      "2025/03/11 12:24:03 INFO dspy.teleprompt.mipro_optimizer_v2: Full eval scores so far: [93.75, 0.0, 0.0]\n",
      "2025/03/11 12:24:03 INFO dspy.teleprompt.mipro_optimizer_v2: Best full score so far: 93.75\n",
      "2025/03/11 12:24:03 INFO dspy.teleprompt.mipro_optimizer_v2: ==========================================\n",
      "\n",
      "\n",
      "2025/03/11 12:24:03 INFO dspy.teleprompt.mipro_optimizer_v2: ===== Trial 31 / 34 - Full Evaluation =====\n",
      "2025/03/11 12:24:03 INFO dspy.teleprompt.mipro_optimizer_v2: Doing full eval on next top averaging program (Avg Score: 96.0) from minibatch trials...\n"
     ]
    },
    {
     "name": "stdout",
     "output_type": "stream",
     "text": [
      "\n",
      "Average Metric: 72.00 / 80 (90.0%): 100%|██████████| 80/80 [00:11<00:00,  6.69it/s] "
     ]
    },
    {
     "name": "stderr",
     "output_type": "stream",
     "text": [
      "2025/03/11 12:24:15 INFO dspy.evaluate.evaluate: Average Metric: 72 / 80 (90.0%)\n",
      "2025/03/11 12:24:15 INFO dspy.teleprompt.mipro_optimizer_v2: Full eval scores so far: [93.75, 0.0, 0.0, 90.0]\n",
      "2025/03/11 12:24:15 INFO dspy.teleprompt.mipro_optimizer_v2: Best full score so far: 93.75\n",
      "2025/03/11 12:24:15 INFO dspy.teleprompt.mipro_optimizer_v2: =======================\n",
      "2025/03/11 12:24:15 INFO dspy.teleprompt.mipro_optimizer_v2: \n",
      "\n",
      "2025/03/11 12:24:15 INFO dspy.teleprompt.mipro_optimizer_v2: == Trial 32 / 34 - Minibatch ==\n"
     ]
    },
    {
     "name": "stdout",
     "output_type": "stream",
     "text": [
      "\n",
      "Average Metric: 24.00 / 25 (96.0%): 100%|██████████| 25/25 [00:03<00:00,  7.78it/s] "
     ]
    },
    {
     "name": "stderr",
     "output_type": "stream",
     "text": [
      "2025/03/11 12:24:18 INFO dspy.evaluate.evaluate: Average Metric: 24 / 25 (96.0%)\n",
      "2025/03/11 12:24:18 INFO dspy.teleprompt.mipro_optimizer_v2: Score: 96.0 on minibatch of size 25 with parameters ['Predictor 0: Instruction 1', 'Predictor 0: Few-Shot Set 0'].\n",
      "2025/03/11 12:24:18 INFO dspy.teleprompt.mipro_optimizer_v2: Minibatch scores so far: [92.0, 0.0, 0.0, 0.0, 0.0, 0.0, 0.0, 92.0, 0.0, 92.0, 0.0, 0.0, 96.0, 96.0, 96.0, 96.0, 96.0, 0.0, 88.0, 92.0, 92.0, 92.0, 96.0, 92.0, 64.0, 96.0, 92.0, 96.0]\n",
      "2025/03/11 12:24:18 INFO dspy.teleprompt.mipro_optimizer_v2: Full eval scores so far: [93.75, 0.0, 0.0, 90.0]\n",
      "2025/03/11 12:24:18 INFO dspy.teleprompt.mipro_optimizer_v2: Best full score so far: 93.75\n",
      "2025/03/11 12:24:18 INFO dspy.teleprompt.mipro_optimizer_v2: ==========================================\n",
      "\n",
      "\n",
      "2025/03/11 12:24:18 INFO dspy.teleprompt.mipro_optimizer_v2: == Trial 33 / 34 - Minibatch ==\n"
     ]
    },
    {
     "name": "stdout",
     "output_type": "stream",
     "text": [
      "\n",
      "Average Metric: 6.00 / 6 (100.0%):  24%|██▍       | 6/25 [00:01<00:04,  4.51it/s]"
     ]
    },
    {
     "name": "stderr",
     "output_type": "stream",
     "text": [
      "2025/03/11 12:24:22 ERROR dspy.utils.parallelizer: Error processing item Example({'text': 'THHE2 is entertaining in that you\\'ll laugh a lot and cringe and probably say \"oh sh*t!\" and \"get your face away from the goddamn hole you dumb**s\" or things along those lines but I don\\'t know if its really worth seeing- I was very annoyed throughout the entirety with the horrible military characters who don\\'t seem to know the first thing about combat.<br /><br />Yes there was more violence, gore, and a higher body count than the first one but I am still am debating whether that cancels out my feeling throughout the whole movie about how ridiculous it is (and not a good ridiculousness like Dead Alive or Feast). My time would have been better spent watching Aja\\'s remake for the 5th time.<br /><br />So go for some laughs, or go for some gore, but don\\'t go hoping to come out of it satisfied.', 'sentiment': 'negative'}) (input_keys={'text'}): litellm.RateLimitError: RateLimitError: OpenAIException - Error code: 429 - {'error': {'message': 'Rate limit reached for gpt-3.5-turbo in organization org-nS9hIqZFvGLn1kCX8ZWaZkba on tokens per min (TPM): Limit 200000, Used 199359, Requested 6274. Please try again in 1.689s. Visit https://platform.openai.com/account/rate-limits to learn more.', 'type': 'tokens', 'param': None, 'code': 'rate_limit_exceeded'}}. Set `provide_traceback=True` to see the stack trace.\n"
     ]
    },
    {
     "name": "stdout",
     "output_type": "stream",
     "text": [
      "Average Metric: 6.00 / 6 (100.0%):  28%|██▊       | 7/25 [00:04<00:15,  1.17it/s]"
     ]
    },
    {
     "name": "stderr",
     "output_type": "stream",
     "text": [
      "2025/03/11 12:24:23 ERROR dspy.utils.parallelizer: Error processing item Example({'text': 'While the 3-D animation (the highlight of the show) did it\\'s job well, most other elements fell flat. It was as though the filmmakers thought \"well, it\\'s gonna be 3-D so we don\\'t have to work that hard on the plot or character development.\" And the fact that it\\'s a children\\'s movie is absolutely no excuse. The public is drawn to three dimensional characters (Shrek, Nemo\\'s Dad) just as much as they are drawn to three dimensional graphics. The only dimension any of the main characters showed was two dimensional Scooter who twists the plot from time to time with his compulsion to eat everything in sight.<br /><br />And the absolute kicker? Buzz Aldrin\\'s appearance at the very end (after watching a very robotic cartoon version of the same historical figure for an hour and half) comes on the screen and ruins everyone\\'s good time by calling the film\\'s main characters \"contaminants\" and announcing that the situation put forth on screen was actually an impossibility.<br /><br />???!!!??? Did you just wanna tell the kids the Easter Bunny and Santa Claus don\\'t exist while you\\'re at it?', 'sentiment': 'negative'}) (input_keys={'text'}): litellm.RateLimitError: RateLimitError: OpenAIException - Error code: 429 - {'error': {'message': 'Rate limit reached for gpt-3.5-turbo in organization org-nS9hIqZFvGLn1kCX8ZWaZkba on tokens per min (TPM): Limit 200000, Used 198034, Requested 6347. Please try again in 1.314s. Visit https://platform.openai.com/account/rate-limits to learn more.', 'type': 'tokens', 'param': None, 'code': 'rate_limit_exceeded'}}. Set `provide_traceback=True` to see the stack trace.\n"
     ]
    },
    {
     "name": "stdout",
     "output_type": "stream",
     "text": [
      "Average Metric: 7.00 / 7 (100.0%):  36%|███▌      | 9/25 [00:04<00:09,  1.65it/s]"
     ]
    },
    {
     "name": "stderr",
     "output_type": "stream",
     "text": [
      "2025/03/11 12:24:23 ERROR dspy.utils.parallelizer: Error processing item Example({'text': \"A year or so ago, I was watching the TV news when a story was broadcast about a zombie movie being filmed in my area. Since then I have paid particular attention to this movie called 'Fido' as it finished production and began playing at festivals. Two weeks ago Fido began playing in my local theater. And, just yesterday, I read a newspaper article which stated Fido is not attracting audiences in it's limited release, with the exception of our local theater. In fact, here it is outdrawing all other shows at The Paramount Theater, including 300. Of course, this makes sense as many locals want to see their city on screen or spot themselves roaming around in zombie make-up. And for any other locals who haven't seen Fido yet but are considering it, I can say there are many images on screen, from the school to city park to the forbidden zone, that you will recognize. In fact, they make the Okanagan Valley look beautiful. That's right beautiful scenery in a zombie movie! However, Fido itself is a very good movie. Yes, despite its flaws, it is better then most of the 20 other movies playing in my local market. Fido is best described as an episode of Lassie in which the collie has been replaced by a member of the undead. This is a clever premise. And the movie even goes further by taking advantage of the 1950's emphasize on conformity and playing up the cold-war paranoia which led to McCarthyism. Furthermore, it builds on the notion that zombies can be tamed or trained which George Romero first introduced in Day Of The Dead.<br /><br />K'Sun Ray plays a small town boy who's mother (Carrie-Ann Moss) longs for a zombie servant so she can be like all the other house wives on her block. However, his dad (Dylan Baker) is against the idea as he once had to kill his own 'zombie father'. Eventually, the family does acquire a zombie named 'Fido' (played by Billy Connolly), and adjusts to life with the undead. Billy Connolly was inspired casting. He is able to convey Fido's confusion, longing, hatred, and loyalty through only his eyes, lumbering body, and grunts. Connolly shows that he can play understated characters better than his outrageously comedic ones. This is his best role since Mrs. Brown.<br /><br />Fido follows in the footsteps of other recent zomcoms such as Shawn Of The Dead and Zombie Honeymoon. Being someone who appreciates Bruce Campbell and Misty Mundae movies more than Eli Roth and Jigsaw ones, I prefer humor over gore in my horror. However, I understand the criticism of those horror fans who feel there is not enough 'undead carnage' in Fido. Yet, I am sure patient viewers will be rewarded by the films gentle humor.<br /><br />The movie does break down in it's third act. It's as if the writers were so wrapped up in the cute premise of domesticated zombies in the 1950s, they forgot about the story arc. However, given my interest in horror comedies and my appreciation for seeing the neighborhood on screen, I rate Fido 9 out of 10.\", 'sentiment': 'positive'}) (input_keys={'text'}): litellm.RateLimitError: RateLimitError: OpenAIException - Error code: 429 - {'error': {'message': 'Rate limit reached for gpt-3.5-turbo in organization org-nS9hIqZFvGLn1kCX8ZWaZkba on tokens per min (TPM): Limit 200000, Used 196235, Requested 6820. Please try again in 916ms. Visit https://platform.openai.com/account/rate-limits to learn more.', 'type': 'tokens', 'param': None, 'code': 'rate_limit_exceeded'}}. Set `provide_traceback=True` to see the stack trace.\n"
     ]
    },
    {
     "name": "stdout",
     "output_type": "stream",
     "text": [
      "Average Metric: 7.00 / 7 (100.0%):  36%|███▌      | 9/25 [00:04<00:09,  1.65it/s]"
     ]
    },
    {
     "name": "stderr",
     "output_type": "stream",
     "text": [
      "2025/03/11 12:24:23 ERROR dspy.utils.parallelizer: Error processing item Example({'text': 'Frailty--8/10--It\\'s non-sensical title and \"Bill Paxton Directs\" headline aside, this is a pretty good old fashioned rip snorting biblical horror thriller. In the end, it may end up only being the inbred Southern Gothic cousin of Kubrick\\'s \"The Shining\"---but hey, that\\'s a pretty damn entertaining notion. It\\'s also got a doozy of a plot twist...and a very ambiguous moral message. This is the kind of movie that years from now people will catch late at night on basic cable and scare the beejesus out of themselves watching it. Too bad director Bill Paxton had to go hire himself to star...oh well....still a devil of a good rent.', 'sentiment': 'positive'}) (input_keys={'text'}): litellm.RateLimitError: RateLimitError: OpenAIException - Error code: 429 - {'error': {'message': 'Rate limit reached for gpt-3.5-turbo in organization org-nS9hIqZFvGLn1kCX8ZWaZkba on tokens per min (TPM): Limit 200000, Used 195197, Requested 6232. Please try again in 428ms. Visit https://platform.openai.com/account/rate-limits to learn more.', 'type': 'tokens', 'param': None, 'code': 'rate_limit_exceeded'}}. Set `provide_traceback=True` to see the stack trace.\n"
     ]
    },
    {
     "name": "stdout",
     "output_type": "stream",
     "text": [
      "Average Metric: 7.00 / 7 (100.0%):  44%|████▍     | 11/25 [00:05<00:05,  2.39it/s]"
     ]
    },
    {
     "name": "stderr",
     "output_type": "stream",
     "text": [
      "2025/03/11 12:24:24 ERROR dspy.utils.parallelizer: Error processing item Example({'text': 'This Film was really eye-opening. I have seen this film several times. First, when I was four and I actually remembered it and then when I was 12. The whole message that the director is conveying is for everyone to wake up and not make the mistake of leaving God out of our everyday lives or just Plain going the extra mile to insult him.<br /><br />A great Movie for Non-believers and Believers alike!', 'sentiment': 'positive'}) (input_keys={'text'}): litellm.RateLimitError: RateLimitError: OpenAIException - Error code: 429 - {'error': {'message': 'Rate limit reached for gpt-3.5-turbo in organization org-nS9hIqZFvGLn1kCX8ZWaZkba on tokens per min (TPM): Limit 200000, Used 194552, Requested 6175. Please try again in 218ms. Visit https://platform.openai.com/account/rate-limits to learn more.', 'type': 'tokens', 'param': None, 'code': 'rate_limit_exceeded'}}. Set `provide_traceback=True` to see the stack trace.\n"
     ]
    },
    {
     "name": "stdout",
     "output_type": "stream",
     "text": [
      "Average Metric: 7.00 / 7 (100.0%):  48%|████▊     | 12/25 [00:05<00:04,  2.74it/s]"
     ]
    },
    {
     "name": "stderr",
     "output_type": "stream",
     "text": [
      "2025/03/11 12:24:26 ERROR dspy.utils.parallelizer: Error processing item Example({'text': \"I am a huge fan of the comic book series, but this movie fell way below my expectations. I expected a Heavy Metal 2000 kinda feel to it.....slow moving, bad dialogue, lots o' blood.....but this was worse than anything I could have imagined. <br /><br />The plot line is almost the same as the comic, but the good points pretty much stop there. The characters don't have the energy or spirit that drew my attention in the comic series. The movie only covers a small portion of the comic, and the portion used is more slow and boring than later parts. The focus in the movie is on the insignificant events instead of the more interesting overall plot of the comic book.<br /><br />With the right people working on this project, it could have been amazing. Sadly, it wasn't that way, so now there is yet another terrible movie that few will see and even fewer will love. My copy will surely collect dust for years until I finally throw it out.\", 'sentiment': 'negative'}) (input_keys={'text'}): litellm.RateLimitError: RateLimitError: OpenAIException - Error code: 429 - {'error': {'message': 'Rate limit reached for gpt-3.5-turbo in organization org-nS9hIqZFvGLn1kCX8ZWaZkba on tokens per min (TPM): Limit 200000, Used 194689, Requested 6309. Please try again in 299ms. Visit https://platform.openai.com/account/rate-limits to learn more.', 'type': 'tokens', 'param': None, 'code': 'rate_limit_exceeded'}}. Set `provide_traceback=True` to see the stack trace.\n"
     ]
    },
    {
     "name": "stdout",
     "output_type": "stream",
     "text": [
      "Average Metric: 7.00 / 7 (100.0%):  52%|█████▏    | 13/25 [00:07<00:09,  1.32it/s]"
     ]
    },
    {
     "name": "stderr",
     "output_type": "stream",
     "text": [
      "2025/03/11 12:24:26 ERROR dspy.utils.parallelizer: Error processing item Example({'text': \"Okay, I rented this movie because of the director...he has made some interesting flicks in the past (if you haven't seen Waxork you are missing a fun ride). Anyway, I had my doubts about this movie from the beginning but I decided to suck it up and give it a look. It's bad. Very bad. If you haven't seen the movie and don't mind spoilers read ahead. First of all, the old saying 'You can't judge a book by it's cover' applies here. The box for this flick seems to indicate that Jill is the stone fox with long hair with highlights. The back of the box has a cool shot of the red-leather Jill and some other shots. The description makes you want to rent the movie because it SOUNDS good. You start watching it and suddenly you find out that the movie takes place (inexplicably) in 1977. Jill is a total dog who is not the girl on the cover. The movie is not quite as predictable as you would think...and that's not a good thing. Characters do so many stupid things without any modicum of motivation...it's embarrassing to watch. 10 minutes before the end of the movie Dolph and another lady have sex for no good reason. Also, what was the point of having Dolph kill this other lady in cold blood who had been helping him. Anthony Hickox the director should have seen a stinker when he read the script. Had it been set in the underworld of the new milennium and made the characters halfway intelligent it might have been decent. To set it in the 70's makes no sense and has no bearing on the story whatsoever. Avoid it!\", 'sentiment': 'negative'}) (input_keys={'text'}): litellm.RateLimitError: RateLimitError: OpenAIException - Error code: 429 - {'error': {'message': 'Rate limit reached for gpt-3.5-turbo in organization org-nS9hIqZFvGLn1kCX8ZWaZkba on tokens per min (TPM): Limit 200000, Used 193623, Requested 6454. Please try again in 23ms. Visit https://platform.openai.com/account/rate-limits to learn more.', 'type': 'tokens', 'param': None, 'code': 'rate_limit_exceeded'}}. Set `provide_traceback=True` to see the stack trace.\n"
     ]
    },
    {
     "name": "stdout",
     "output_type": "stream",
     "text": [
      "Average Metric: 7.00 / 7 (100.0%):  56%|█████▌    | 14/25 [00:07<00:06,  1.59it/s]"
     ]
    },
    {
     "name": "stderr",
     "output_type": "stream",
     "text": [
      "2025/03/11 12:24:27 ERROR dspy.utils.parallelizer: Error processing item Example({'text': \"I just finished watching this movie. It wasn't ridiculously bad, but I'm really disappointed with it. I'm not really sure why someone would make a movie like this. It was marginally entertaining, but I feel like the people making it had a lot of disagreements on what they were making. Monday, the writer was in charge; Tuesday, the director; Wednesday, the guy who gets the coffee; etc. It almost seems like they really wanted to make a couple different movies, but only had the time and money to make one.<br /><br />Someone else commented that the acting was really good, but I'd have to disagree. Then again, if the actors were able to keep a straight face during the filming, perhaps they're better actors than I give them credit for.<br /><br />The back of the DVD gives the impression that the movie would be a mystery... something along the lines of a historical Law and Order or National Treasure. It starts off like that, but then, out of nowhere it takes a turn towards a bad episode of the Twilight Zone, or... what was that other show that wasn't as good... A bad episode of The Outer Limits.<br /><br />My main complaint about the movie is that it is just so played out. There's the evil guy with spiked white hair. There's the love interest, who, when she first appears, the wind actually blows through her hair. Seriously. Once you realize it's a Christian movie, the end is also pretty easy to spot.<br /><br />The cinematography was poorly done, especially in the opening scenes - way to put your best foot forward. It wasn't atrocious for most of the movie, but there was the occasional ridiculously bad shot of an old lady, praying, arms up in a dark room while lightening is striking - the sort of thing that just makes you a little bit embarrassed to be watching the movie.\", 'sentiment': 'negative'}) (input_keys={'text'}): litellm.RateLimitError: RateLimitError: OpenAIException - Error code: 429 - {'error': {'message': 'Rate limit reached for gpt-3.5-turbo in organization org-nS9hIqZFvGLn1kCX8ZWaZkba on tokens per min (TPM): Limit 200000, Used 197564, Requested 6523. Please try again in 1.226s. Visit https://platform.openai.com/account/rate-limits to learn more.', 'type': 'tokens', 'param': None, 'code': 'rate_limit_exceeded'}}. Set `provide_traceback=True` to see the stack trace.\n"
     ]
    },
    {
     "name": "stdout",
     "output_type": "stream",
     "text": [
      "Average Metric: 7.00 / 7 (100.0%):  60%|██████    | 15/25 [00:08<00:06,  1.50it/s]"
     ]
    },
    {
     "name": "stderr",
     "output_type": "stream",
     "text": [
      "2025/03/11 12:24:27 ERROR dspy.utils.parallelizer: Error processing item Example({'text': \"When I was a kid, I totally loved both Bill & Ted Movies. The other night, Bogus Journey was on and since it was at least 5 years since I last saw it, I decided to tune in. AND I LOVED IT ALL OVER AGAIN! This film is still funny after all those years. 'Excellent Adventure' is better, but this one rocks just the same. Sure, some of the perfomances are a bit cheesy, but hey, this entire film is cheesy in a cool way. Plus it features the coolest personation of Death ever in a movie! Concluding: Totally like non bogus movie dude! Way Excellent! STATION!!!\", 'sentiment': 'positive'}) (input_keys={'text'}): litellm.RateLimitError: RateLimitError: OpenAIException - Error code: 429 - {'error': {'message': 'Rate limit reached for gpt-3.5-turbo in organization org-nS9hIqZFvGLn1kCX8ZWaZkba on tokens per min (TPM): Limit 200000, Used 197070, Requested 6214. Please try again in 985ms. Visit https://platform.openai.com/account/rate-limits to learn more.', 'type': 'tokens', 'param': None, 'code': 'rate_limit_exceeded'}}. Set `provide_traceback=True` to see the stack trace.\n"
     ]
    },
    {
     "name": "stdout",
     "output_type": "stream",
     "text": [
      "Average Metric: 7.00 / 7 (100.0%):  64%|██████▍   | 16/25 [00:08<00:04,  1.88it/s]"
     ]
    },
    {
     "name": "stderr",
     "output_type": "stream",
     "text": [
      "2025/03/11 12:24:31 INFO dspy.teleprompt.mipro_optimizer_v2: Score: 0.0 on minibatch of size 25 with parameters ['Predictor 0: Instruction 1', 'Predictor 0: Few-Shot Set 8'].\n",
      "2025/03/11 12:24:31 INFO dspy.teleprompt.mipro_optimizer_v2: Minibatch scores so far: [92.0, 0.0, 0.0, 0.0, 0.0, 0.0, 0.0, 92.0, 0.0, 92.0, 0.0, 0.0, 96.0, 96.0, 96.0, 96.0, 96.0, 0.0, 88.0, 92.0, 92.0, 92.0, 96.0, 92.0, 64.0, 96.0, 92.0, 96.0, 0.0]\n",
      "2025/03/11 12:24:31 INFO dspy.teleprompt.mipro_optimizer_v2: Full eval scores so far: [93.75, 0.0, 0.0, 90.0]\n",
      "2025/03/11 12:24:31 INFO dspy.teleprompt.mipro_optimizer_v2: Best full score so far: 93.75\n",
      "2025/03/11 12:24:31 INFO dspy.teleprompt.mipro_optimizer_v2: ==========================================\n",
      "\n",
      "\n",
      "2025/03/11 12:24:31 INFO dspy.teleprompt.mipro_optimizer_v2: ===== Trial 34 / 34 - Full Evaluation =====\n",
      "2025/03/11 12:24:31 INFO dspy.teleprompt.mipro_optimizer_v2: Doing full eval on next top averaging program (Avg Score: 96.0) from minibatch trials...\n"
     ]
    },
    {
     "name": "stdout",
     "output_type": "stream",
     "text": [
      "Exception occurred: litellm.RateLimitError: RateLimitError: OpenAIException - Error code: 429 - {'error': {'message': 'Rate limit reached for gpt-3.5-turbo in organization org-nS9hIqZFvGLn1kCX8ZWaZkba on tokens per min (TPM): Limit 200000, Used 196570, Requested 7017. Please try again in 1.076s. Visit https://platform.openai.com/account/rate-limits to learn more.', 'type': 'tokens', 'param': None, 'code': 'rate_limit_exceeded'}}\n",
      "Average Metric: 75.00 / 80 (93.8%): 100%|██████████| 80/80 [01:41<00:00,  1.26s/it]"
     ]
    },
    {
     "name": "stderr",
     "output_type": "stream",
     "text": [
      "2025/03/11 12:26:12 INFO dspy.evaluate.evaluate: Average Metric: 75 / 80 (93.8%)\n",
      "2025/03/11 12:26:12 INFO dspy.teleprompt.mipro_optimizer_v2: Full eval scores so far: [93.75, 0.0, 0.0, 90.0, 93.75]\n",
      "2025/03/11 12:26:12 INFO dspy.teleprompt.mipro_optimizer_v2: Best full score so far: 93.75\n",
      "2025/03/11 12:26:12 INFO dspy.teleprompt.mipro_optimizer_v2: =======================\n",
      "2025/03/11 12:26:12 INFO dspy.teleprompt.mipro_optimizer_v2: \n",
      "\n",
      "2025/03/11 12:26:12 INFO dspy.teleprompt.mipro_optimizer_v2: Returning best identified program with score 93.75!\n"
     ]
    },
    {
     "name": "stdout",
     "output_type": "stream",
     "text": [
      "\n"
     ]
    },
    {
     "name": "stderr",
     "output_type": "stream",
     "text": [
      "2025/03/11 12:26:40 INFO dspy.evaluate.evaluate: Average Metric: 50 / 50 (100.0%)\n"
     ]
    },
    {
     "name": "stdout",
     "output_type": "stream",
     "text": [
      "\n",
      "=============== Results ================\n",
      "| Baseline Accuracy    | 9800.00% |\n",
      "| Optimized Accuracy   | 10000.00% |\n"
     ]
    }
   ],
   "source": [
    "# Optimization with MIPROv2\n",
    "optimizer = dspy.MIPROv2(\n",
    "    metric=sentiment_metric,\n",
    "    max_bootstrapped_demos=2\n",
    ")\n",
    "\n",
    "optimized = optimizer.compile(\n",
    "    OptimizedClassifier(),\n",
    "    trainset=train_data[:100]  # Use subset for stability\n",
    ")\n",
    "\n",
    "# Evaluate optimized model\n",
    "optimized_acc = evaluator(optimized)\n",
    "\n",
    "# Results\n",
    "print(f\"\\n{' Results ':=^40}\")\n",
    "print(f\"| {'Baseline Accuracy':<20} | {baseline_acc:.2%} |\")\n",
    "print(f\"| {'Optimized Accuracy':<20} | {optimized_acc:.2%} |\")"
   ]
  }
 ],
 "metadata": {
  "kernelspec": {
   "display_name": "Python 3",
   "language": "python",
   "name": "python3"
  },
  "language_info": {
   "codemirror_mode": {
    "name": "ipython",
    "version": 3
   },
   "file_extension": ".py",
   "mimetype": "text/x-python",
   "name": "python",
   "nbconvert_exporter": "python",
   "pygments_lexer": "ipython3",
   "version": "3.12.3"
  }
 },
 "nbformat": 4,
 "nbformat_minor": 2
}
